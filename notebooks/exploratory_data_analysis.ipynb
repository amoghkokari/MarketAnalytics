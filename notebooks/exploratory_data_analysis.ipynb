{
 "cells": [
  {
   "cell_type": "code",
   "execution_count": 4,
   "metadata": {},
   "outputs": [],
   "source": [
    "import matplotlib.pyplot as plt\n",
    "import numpy as np\n",
    "import pandas as pd\n"
   ]
  },
  {
   "cell_type": "code",
   "execution_count": 2,
   "metadata": {},
   "outputs": [],
   "source": [
    "# ! pip install matplotlib"
   ]
  },
  {
   "attachments": {},
   "cell_type": "markdown",
   "metadata": {},
   "source": [
    "### Exploring Products Takehome table for data quality issues"
   ]
  },
  {
   "cell_type": "code",
   "execution_count": 133,
   "metadata": {},
   "outputs": [
    {
     "data": {
      "text/html": [
       "<div>\n",
       "<style scoped>\n",
       "    .dataframe tbody tr th:only-of-type {\n",
       "        vertical-align: middle;\n",
       "    }\n",
       "\n",
       "    .dataframe tbody tr th {\n",
       "        vertical-align: top;\n",
       "    }\n",
       "\n",
       "    .dataframe thead th {\n",
       "        text-align: right;\n",
       "    }\n",
       "</style>\n",
       "<table border=\"1\" class=\"dataframe\">\n",
       "  <thead>\n",
       "    <tr style=\"text-align: right;\">\n",
       "      <th></th>\n",
       "      <th>CATEGORY_1</th>\n",
       "      <th>CATEGORY_2</th>\n",
       "      <th>CATEGORY_3</th>\n",
       "      <th>CATEGORY_4</th>\n",
       "      <th>MANUFACTURER</th>\n",
       "      <th>BRAND</th>\n",
       "      <th>BARCODE</th>\n",
       "    </tr>\n",
       "  </thead>\n",
       "  <tbody>\n",
       "    <tr>\n",
       "      <th>0</th>\n",
       "      <td>Health &amp; Wellness</td>\n",
       "      <td>Sexual Health</td>\n",
       "      <td>Conductivity Gels &amp; Lotions</td>\n",
       "      <td>NaN</td>\n",
       "      <td>NaN</td>\n",
       "      <td>NaN</td>\n",
       "      <td>7.964944e+11</td>\n",
       "    </tr>\n",
       "    <tr>\n",
       "      <th>1</th>\n",
       "      <td>Snacks</td>\n",
       "      <td>Puffed Snacks</td>\n",
       "      <td>Cheese Curls &amp; Puffs</td>\n",
       "      <td>NaN</td>\n",
       "      <td>NaN</td>\n",
       "      <td>NaN</td>\n",
       "      <td>2.327801e+10</td>\n",
       "    </tr>\n",
       "    <tr>\n",
       "      <th>2</th>\n",
       "      <td>Health &amp; Wellness</td>\n",
       "      <td>Hair Care</td>\n",
       "      <td>Hair Care Accessories</td>\n",
       "      <td>NaN</td>\n",
       "      <td>PLACEHOLDER MANUFACTURER</td>\n",
       "      <td>ELECSOP</td>\n",
       "      <td>4.618178e+11</td>\n",
       "    </tr>\n",
       "    <tr>\n",
       "      <th>3</th>\n",
       "      <td>Health &amp; Wellness</td>\n",
       "      <td>Oral Care</td>\n",
       "      <td>Toothpaste</td>\n",
       "      <td>NaN</td>\n",
       "      <td>COLGATE-PALMOLIVE</td>\n",
       "      <td>COLGATE</td>\n",
       "      <td>3.500047e+10</td>\n",
       "    </tr>\n",
       "    <tr>\n",
       "      <th>4</th>\n",
       "      <td>Health &amp; Wellness</td>\n",
       "      <td>Medicines &amp; Treatments</td>\n",
       "      <td>Essential Oils</td>\n",
       "      <td>NaN</td>\n",
       "      <td>MAPLE HOLISTICS AND HONEYDEW PRODUCTS INTERCHA...</td>\n",
       "      <td>MAPLE HOLISTICS</td>\n",
       "      <td>8.068109e+11</td>\n",
       "    </tr>\n",
       "  </tbody>\n",
       "</table>\n",
       "</div>"
      ],
      "text/plain": [
       "          CATEGORY_1              CATEGORY_2                   CATEGORY_3  \\\n",
       "0  Health & Wellness           Sexual Health  Conductivity Gels & Lotions   \n",
       "1             Snacks           Puffed Snacks         Cheese Curls & Puffs   \n",
       "2  Health & Wellness               Hair Care        Hair Care Accessories   \n",
       "3  Health & Wellness               Oral Care                   Toothpaste   \n",
       "4  Health & Wellness  Medicines & Treatments               Essential Oils   \n",
       "\n",
       "  CATEGORY_4                                       MANUFACTURER  \\\n",
       "0        NaN                                                NaN   \n",
       "1        NaN                                                NaN   \n",
       "2        NaN                           PLACEHOLDER MANUFACTURER   \n",
       "3        NaN                                  COLGATE-PALMOLIVE   \n",
       "4        NaN  MAPLE HOLISTICS AND HONEYDEW PRODUCTS INTERCHA...   \n",
       "\n",
       "             BRAND       BARCODE  \n",
       "0              NaN  7.964944e+11  \n",
       "1              NaN  2.327801e+10  \n",
       "2          ELECSOP  4.618178e+11  \n",
       "3          COLGATE  3.500047e+10  \n",
       "4  MAPLE HOLISTICS  8.068109e+11  "
      ]
     },
     "execution_count": 133,
     "metadata": {},
     "output_type": "execute_result"
    }
   ],
   "source": [
    "df_products = pd.read_csv(\"../data/raw/PRODUCTS_TAKEHOME.csv\")\n",
    "df_products.head()"
   ]
  },
  {
   "cell_type": "code",
   "execution_count": 134,
   "metadata": {},
   "outputs": [
    {
     "data": {
      "text/plain": [
       "CATEGORY_1       object\n",
       "CATEGORY_2       object\n",
       "CATEGORY_3       object\n",
       "CATEGORY_4       object\n",
       "MANUFACTURER     object\n",
       "BRAND            object\n",
       "BARCODE         float64\n",
       "dtype: object"
      ]
     },
     "execution_count": 134,
     "metadata": {},
     "output_type": "execute_result"
    }
   ],
   "source": [
    "df_products.dtypes"
   ]
  },
  {
   "cell_type": "code",
   "execution_count": 135,
   "metadata": {},
   "outputs": [],
   "source": [
    "df_products[\"CATEGORY_1\"] = df_products[\"CATEGORY_1\"].astype(\"string\")\n",
    "df_products[\"CATEGORY_2\"] = df_products[\"CATEGORY_2\"].astype(\"string\")\n",
    "df_products[\"CATEGORY_3\"] = df_products[\"CATEGORY_3\"].astype(\"string\")\n",
    "df_products[\"CATEGORY_4\"] = df_products[\"CATEGORY_4\"].astype(\"string\")\n",
    "df_products[\"MANUFACTURER\"] = df_products[\"MANUFACTURER\"].astype(\"string\")\n",
    "df_products[\"BRAND\"] = df_products[\"BRAND\"].astype(\"string\")"
   ]
  },
  {
   "cell_type": "code",
   "execution_count": 136,
   "metadata": {},
   "outputs": [
    {
     "data": {
      "text/plain": [
       "CATEGORY_1       string\n",
       "CATEGORY_2       string\n",
       "CATEGORY_3       string\n",
       "CATEGORY_4       string\n",
       "MANUFACTURER     string\n",
       "BRAND            string\n",
       "BARCODE         float64\n",
       "dtype: object"
      ]
     },
     "execution_count": 136,
     "metadata": {},
     "output_type": "execute_result"
    }
   ],
   "source": [
    "df_products.dtypes"
   ]
  },
  {
   "cell_type": "code",
   "execution_count": 137,
   "metadata": {},
   "outputs": [],
   "source": [
    "df_products[\"CATEGORY_1\"] = df_products[\"CATEGORY_1\"].str.strip()\n",
    "df_products[\"CATEGORY_2\"] = df_products[\"CATEGORY_2\"].str.strip()\n",
    "df_products[\"CATEGORY_3\"] = df_products[\"CATEGORY_3\"].str.strip()\n",
    "df_products[\"CATEGORY_4\"] = df_products[\"CATEGORY_4\"].str.strip()\n",
    "df_products[\"MANUFACTURER\"] = df_products[\"MANUFACTURER\"].str.strip()\n",
    "df_products[\"BRAND\"] = df_products[\"BRAND\"].str.strip()"
   ]
  },
  {
   "cell_type": "code",
   "execution_count": 138,
   "metadata": {},
   "outputs": [],
   "source": [
    "# uncomment and run it to process the data\n",
    "# df_products.fillna(value='NULL').to_csv(\"../data/processed/PRODUCTS_TAKEHOME.csv\", index=False)"
   ]
  },
  {
   "cell_type": "code",
   "execution_count": 139,
   "metadata": {},
   "outputs": [
    {
     "data": {
      "text/html": [
       "<div>\n",
       "<style scoped>\n",
       "    .dataframe tbody tr th:only-of-type {\n",
       "        vertical-align: middle;\n",
       "    }\n",
       "\n",
       "    .dataframe tbody tr th {\n",
       "        vertical-align: top;\n",
       "    }\n",
       "\n",
       "    .dataframe thead th {\n",
       "        text-align: right;\n",
       "    }\n",
       "</style>\n",
       "<table border=\"1\" class=\"dataframe\">\n",
       "  <thead>\n",
       "    <tr style=\"text-align: right;\">\n",
       "      <th></th>\n",
       "      <th>BARCODE</th>\n",
       "    </tr>\n",
       "  </thead>\n",
       "  <tbody>\n",
       "    <tr>\n",
       "      <th>count</th>\n",
       "      <td>8.415270e+05</td>\n",
       "    </tr>\n",
       "    <tr>\n",
       "      <th>mean</th>\n",
       "      <td>6.016109e+11</td>\n",
       "    </tr>\n",
       "    <tr>\n",
       "      <th>std</th>\n",
       "      <td>1.022530e+12</td>\n",
       "    </tr>\n",
       "    <tr>\n",
       "      <th>min</th>\n",
       "      <td>1.850000e+02</td>\n",
       "    </tr>\n",
       "    <tr>\n",
       "      <th>25%</th>\n",
       "      <td>7.124923e+10</td>\n",
       "    </tr>\n",
       "    <tr>\n",
       "      <th>50%</th>\n",
       "      <td>6.344185e+11</td>\n",
       "    </tr>\n",
       "    <tr>\n",
       "      <th>75%</th>\n",
       "      <td>7.683955e+11</td>\n",
       "    </tr>\n",
       "    <tr>\n",
       "      <th>max</th>\n",
       "      <td>6.291108e+13</td>\n",
       "    </tr>\n",
       "  </tbody>\n",
       "</table>\n",
       "</div>"
      ],
      "text/plain": [
       "            BARCODE\n",
       "count  8.415270e+05\n",
       "mean   6.016109e+11\n",
       "std    1.022530e+12\n",
       "min    1.850000e+02\n",
       "25%    7.124923e+10\n",
       "50%    6.344185e+11\n",
       "75%    7.683955e+11\n",
       "max    6.291108e+13"
      ]
     },
     "execution_count": 139,
     "metadata": {},
     "output_type": "execute_result"
    }
   ],
   "source": [
    "# checking if barcode numbers are proper\n",
    "df_products.describe()"
   ]
  },
  {
   "cell_type": "code",
   "execution_count": 140,
   "metadata": {},
   "outputs": [
    {
     "name": "stdout",
     "output_type": "stream",
     "text": [
      "Product dataframe\n",
      "Total records :  845552\n",
      "Total avialability :  78.08571428571429\n"
     ]
    },
    {
     "data": {
      "text/html": [
       "<div>\n",
       "<style scoped>\n",
       "    .dataframe tbody tr th:only-of-type {\n",
       "        vertical-align: middle;\n",
       "    }\n",
       "\n",
       "    .dataframe tbody tr th {\n",
       "        vertical-align: top;\n",
       "    }\n",
       "\n",
       "    .dataframe thead th {\n",
       "        text-align: right;\n",
       "    }\n",
       "</style>\n",
       "<table border=\"1\" class=\"dataframe\">\n",
       "  <thead>\n",
       "    <tr style=\"text-align: right;\">\n",
       "      <th></th>\n",
       "      <th>columns</th>\n",
       "      <th>total_missing</th>\n",
       "      <th>avialability</th>\n",
       "      <th>n_unique_values</th>\n",
       "    </tr>\n",
       "  </thead>\n",
       "  <tbody>\n",
       "    <tr>\n",
       "      <th>0</th>\n",
       "      <td>CATEGORY_1</td>\n",
       "      <td>111</td>\n",
       "      <td>99.99</td>\n",
       "      <td>27</td>\n",
       "    </tr>\n",
       "    <tr>\n",
       "      <th>1</th>\n",
       "      <td>CATEGORY_2</td>\n",
       "      <td>1424</td>\n",
       "      <td>99.83</td>\n",
       "      <td>121</td>\n",
       "    </tr>\n",
       "    <tr>\n",
       "      <th>2</th>\n",
       "      <td>CATEGORY_3</td>\n",
       "      <td>60566</td>\n",
       "      <td>92.84</td>\n",
       "      <td>344</td>\n",
       "    </tr>\n",
       "    <tr>\n",
       "      <th>3</th>\n",
       "      <td>CATEGORY_4</td>\n",
       "      <td>778093</td>\n",
       "      <td>7.98</td>\n",
       "      <td>127</td>\n",
       "    </tr>\n",
       "    <tr>\n",
       "      <th>4</th>\n",
       "      <td>MANUFACTURER</td>\n",
       "      <td>226474</td>\n",
       "      <td>73.22</td>\n",
       "      <td>4354</td>\n",
       "    </tr>\n",
       "    <tr>\n",
       "      <th>5</th>\n",
       "      <td>BRAND</td>\n",
       "      <td>226472</td>\n",
       "      <td>73.22</td>\n",
       "      <td>8122</td>\n",
       "    </tr>\n",
       "    <tr>\n",
       "      <th>6</th>\n",
       "      <td>BARCODE</td>\n",
       "      <td>4025</td>\n",
       "      <td>99.52</td>\n",
       "      <td>841342</td>\n",
       "    </tr>\n",
       "  </tbody>\n",
       "</table>\n",
       "</div>"
      ],
      "text/plain": [
       "        columns  total_missing  avialability  n_unique_values\n",
       "0    CATEGORY_1            111         99.99               27\n",
       "1    CATEGORY_2           1424         99.83              121\n",
       "2    CATEGORY_3          60566         92.84              344\n",
       "3    CATEGORY_4         778093          7.98              127\n",
       "4  MANUFACTURER         226474         73.22             4354\n",
       "5         BRAND         226472         73.22             8122\n",
       "6       BARCODE           4025         99.52           841342"
      ]
     },
     "execution_count": 140,
     "metadata": {},
     "output_type": "execute_result"
    }
   ],
   "source": [
    "# checking how much of data is missing / avaialble for product table, also unique values in each column and their count\n",
    "\n",
    "print(\"Product dataframe\")\n",
    "total_product_records = df_products.shape[0]\n",
    "print(\"Total records : \", total_product_records)\n",
    "\n",
    "product_data ={\n",
    "    \"columns\":[],\n",
    "    \"total_missing\":[],\n",
    "    \"avialability\":[],\n",
    "    \"n_unique_values\": []\n",
    "}\n",
    "\n",
    "for col in df_products.columns:\n",
    "    product_data[\"columns\"].append(col)\n",
    "    product_data[\"total_missing\"].append(df_products[col].isna().sum())\n",
    "    product_data[\"avialability\"].append(round(((total_product_records - df_products[col].isna().sum())/total_product_records)* 100,2))\n",
    "    product_data[\"n_unique_values\"].append(df_products[col].nunique())\n",
    "\n",
    "product_data_df = pd.DataFrame(product_data)\n",
    "\n",
    "print(\"Total avialability : \", product_data_df[\"avialability\"].mean())\n",
    "\n",
    "product_data_df"
   ]
  },
  {
   "cell_type": "code",
   "execution_count": 141,
   "metadata": {},
   "outputs": [
    {
     "data": {
      "image/png": "[encoded data removed]",
      "text/plain": [
       "<Figure size 1000x400 with 1 Axes>"
      ]
     },
     "metadata": {},
     "output_type": "display_data"
    }
   ],
   "source": [
    "# plotting avaialability for better visualization\n",
    "\n",
    "ax = product_data_df.set_index(\"columns\")[\"avialability\"].plot(figsize=(10,4), kind = 'bar', rot=0)\n",
    "ax.set_ylabel(\"Avialability %\")\n",
    "ax.set_xlabel(\"Columns\")\n",
    "\n",
    "for p in ax.patches:\n",
    "    ax.annotate(str(p.get_height()), (p.get_x() + p.get_width() / 2., p.get_height()), ha='center', va='bottom')\n",
    "\n",
    "plt.show()"
   ]
  },
  {
   "cell_type": "code",
   "execution_count": 142,
   "metadata": {},
   "outputs": [
    {
     "data": {
      "text/plain": [
       "SnacksCandyConfection Candy<NA><NA><NA>                                                                            17853\n",
       "SnacksCandyChocolate Candy<NA><NA><NA>                                                                             14647\n",
       "Health & WellnessMedicines & TreatmentsVitamins & Herbal Supplements<NA><NA><NA>                                   12949\n",
       "SnacksCookies<NA><NA><NA><NA>                                                                                      10576\n",
       "Health & WellnessMedical Supplies & Equipment<NA><NA><NA><NA>                                                       7267\n",
       "                                                                                                                   ...  \n",
       "Health & WellnessFirst AidThermometers & Accesories<NA>BROWN & HALEYBROWN & HALEY                                      2\n",
       "Health & WellnessHair CareHair Loss Prevention<NA>SALLY BEAUTY HOLDINGS, INCGENERIC VALUE PRODUCTS                     2\n",
       "Health & WellnessBath & BodyHand Sanitizer<NA>WALMART INC.ASSURANCE                                                    2\n",
       "Health & WellnessSkin CareLip Balms & TreatmentsMedicated Lip TreatmentsPLACEHOLDER MANUFACTURERBRAND NOT KNOWN        2\n",
       "SnacksCookies<NA><NA>BEE INTERNATIONAL INCBEE                                                                          2\n",
       "Name: all_sum, Length: 27789, dtype: int64"
      ]
     },
     "execution_count": 142,
     "metadata": {},
     "output_type": "execute_result"
    }
   ],
   "source": [
    "# investigating product table to understand unique entries\n",
    "\n",
    "df_products[\"all_sum\"] = df_products[\"CATEGORY_1\"].astype(str)+df_products[\"CATEGORY_2\"].astype(str)+df_products[\"CATEGORY_3\"].astype(str)+df_products[\"CATEGORY_4\"].astype(str)+df_products[\"MANUFACTURER\"].astype(str)+df_products[\"BRAND\"].astype(str)\n",
    "df_products[df_products.duplicated(keep=False, subset=['all_sum'])][\"all_sum\"].value_counts()"
   ]
  },
  {
   "cell_type": "code",
   "execution_count": 143,
   "metadata": {},
   "outputs": [
    {
     "data": {
      "text/html": [
       "<div>\n",
       "<style scoped>\n",
       "    .dataframe tbody tr th:only-of-type {\n",
       "        vertical-align: middle;\n",
       "    }\n",
       "\n",
       "    .dataframe tbody tr th {\n",
       "        vertical-align: top;\n",
       "    }\n",
       "\n",
       "    .dataframe thead th {\n",
       "        text-align: right;\n",
       "    }\n",
       "</style>\n",
       "<table border=\"1\" class=\"dataframe\">\n",
       "  <thead>\n",
       "    <tr style=\"text-align: right;\">\n",
       "      <th></th>\n",
       "      <th>CATEGORY_1</th>\n",
       "      <th>CATEGORY_2</th>\n",
       "      <th>CATEGORY_3</th>\n",
       "      <th>CATEGORY_4</th>\n",
       "      <th>MANUFACTURER</th>\n",
       "      <th>BRAND</th>\n",
       "      <th>BARCODE</th>\n",
       "      <th>all_sum</th>\n",
       "    </tr>\n",
       "  </thead>\n",
       "  <tbody>\n",
       "    <tr>\n",
       "      <th>55</th>\n",
       "      <td>Snacks</td>\n",
       "      <td>Candy</td>\n",
       "      <td>Confection Candy</td>\n",
       "      <td>&lt;NA&gt;</td>\n",
       "      <td>&lt;NA&gt;</td>\n",
       "      <td>&lt;NA&gt;</td>\n",
       "      <td>6.882676e+11</td>\n",
       "      <td>SnacksCandyConfection Candy&lt;NA&gt;&lt;NA&gt;&lt;NA&gt;</td>\n",
       "    </tr>\n",
       "    <tr>\n",
       "      <th>84</th>\n",
       "      <td>Snacks</td>\n",
       "      <td>Candy</td>\n",
       "      <td>Confection Candy</td>\n",
       "      <td>&lt;NA&gt;</td>\n",
       "      <td>&lt;NA&gt;</td>\n",
       "      <td>&lt;NA&gt;</td>\n",
       "      <td>7.092575e+11</td>\n",
       "      <td>SnacksCandyConfection Candy&lt;NA&gt;&lt;NA&gt;&lt;NA&gt;</td>\n",
       "    </tr>\n",
       "    <tr>\n",
       "      <th>105</th>\n",
       "      <td>Snacks</td>\n",
       "      <td>Candy</td>\n",
       "      <td>Confection Candy</td>\n",
       "      <td>&lt;NA&gt;</td>\n",
       "      <td>&lt;NA&gt;</td>\n",
       "      <td>&lt;NA&gt;</td>\n",
       "      <td>7.683955e+11</td>\n",
       "      <td>SnacksCandyConfection Candy&lt;NA&gt;&lt;NA&gt;&lt;NA&gt;</td>\n",
       "    </tr>\n",
       "    <tr>\n",
       "      <th>108</th>\n",
       "      <td>Snacks</td>\n",
       "      <td>Candy</td>\n",
       "      <td>Confection Candy</td>\n",
       "      <td>&lt;NA&gt;</td>\n",
       "      <td>&lt;NA&gt;</td>\n",
       "      <td>&lt;NA&gt;</td>\n",
       "      <td>6.659190e+11</td>\n",
       "      <td>SnacksCandyConfection Candy&lt;NA&gt;&lt;NA&gt;&lt;NA&gt;</td>\n",
       "    </tr>\n",
       "    <tr>\n",
       "      <th>165</th>\n",
       "      <td>Snacks</td>\n",
       "      <td>Candy</td>\n",
       "      <td>Confection Candy</td>\n",
       "      <td>&lt;NA&gt;</td>\n",
       "      <td>&lt;NA&gt;</td>\n",
       "      <td>&lt;NA&gt;</td>\n",
       "      <td>7.920045e+10</td>\n",
       "      <td>SnacksCandyConfection Candy&lt;NA&gt;&lt;NA&gt;&lt;NA&gt;</td>\n",
       "    </tr>\n",
       "    <tr>\n",
       "      <th>...</th>\n",
       "      <td>...</td>\n",
       "      <td>...</td>\n",
       "      <td>...</td>\n",
       "      <td>...</td>\n",
       "      <td>...</td>\n",
       "      <td>...</td>\n",
       "      <td>...</td>\n",
       "      <td>...</td>\n",
       "    </tr>\n",
       "    <tr>\n",
       "      <th>845326</th>\n",
       "      <td>Snacks</td>\n",
       "      <td>Candy</td>\n",
       "      <td>Confection Candy</td>\n",
       "      <td>&lt;NA&gt;</td>\n",
       "      <td>&lt;NA&gt;</td>\n",
       "      <td>&lt;NA&gt;</td>\n",
       "      <td>7.666840e+11</td>\n",
       "      <td>SnacksCandyConfection Candy&lt;NA&gt;&lt;NA&gt;&lt;NA&gt;</td>\n",
       "    </tr>\n",
       "    <tr>\n",
       "      <th>845414</th>\n",
       "      <td>Snacks</td>\n",
       "      <td>Candy</td>\n",
       "      <td>Confection Candy</td>\n",
       "      <td>&lt;NA&gt;</td>\n",
       "      <td>&lt;NA&gt;</td>\n",
       "      <td>&lt;NA&gt;</td>\n",
       "      <td>8.582180e+11</td>\n",
       "      <td>SnacksCandyConfection Candy&lt;NA&gt;&lt;NA&gt;&lt;NA&gt;</td>\n",
       "    </tr>\n",
       "    <tr>\n",
       "      <th>845453</th>\n",
       "      <td>Snacks</td>\n",
       "      <td>Candy</td>\n",
       "      <td>Confection Candy</td>\n",
       "      <td>&lt;NA&gt;</td>\n",
       "      <td>&lt;NA&gt;</td>\n",
       "      <td>&lt;NA&gt;</td>\n",
       "      <td>2.874405e+10</td>\n",
       "      <td>SnacksCandyConfection Candy&lt;NA&gt;&lt;NA&gt;&lt;NA&gt;</td>\n",
       "    </tr>\n",
       "    <tr>\n",
       "      <th>845496</th>\n",
       "      <td>Snacks</td>\n",
       "      <td>Candy</td>\n",
       "      <td>Confection Candy</td>\n",
       "      <td>&lt;NA&gt;</td>\n",
       "      <td>&lt;NA&gt;</td>\n",
       "      <td>&lt;NA&gt;</td>\n",
       "      <td>1.574699e+10</td>\n",
       "      <td>SnacksCandyConfection Candy&lt;NA&gt;&lt;NA&gt;&lt;NA&gt;</td>\n",
       "    </tr>\n",
       "    <tr>\n",
       "      <th>845534</th>\n",
       "      <td>Snacks</td>\n",
       "      <td>Candy</td>\n",
       "      <td>Confection Candy</td>\n",
       "      <td>&lt;NA&gt;</td>\n",
       "      <td>&lt;NA&gt;</td>\n",
       "      <td>&lt;NA&gt;</td>\n",
       "      <td>7.053808e+10</td>\n",
       "      <td>SnacksCandyConfection Candy&lt;NA&gt;&lt;NA&gt;&lt;NA&gt;</td>\n",
       "    </tr>\n",
       "  </tbody>\n",
       "</table>\n",
       "<p>17853 rows × 8 columns</p>\n",
       "</div>"
      ],
      "text/plain": [
       "       CATEGORY_1 CATEGORY_2        CATEGORY_3 CATEGORY_4 MANUFACTURER BRAND  \\\n",
       "55         Snacks      Candy  Confection Candy       <NA>         <NA>  <NA>   \n",
       "84         Snacks      Candy  Confection Candy       <NA>         <NA>  <NA>   \n",
       "105        Snacks      Candy  Confection Candy       <NA>         <NA>  <NA>   \n",
       "108        Snacks      Candy  Confection Candy       <NA>         <NA>  <NA>   \n",
       "165        Snacks      Candy  Confection Candy       <NA>         <NA>  <NA>   \n",
       "...           ...        ...               ...        ...          ...   ...   \n",
       "845326     Snacks      Candy  Confection Candy       <NA>         <NA>  <NA>   \n",
       "845414     Snacks      Candy  Confection Candy       <NA>         <NA>  <NA>   \n",
       "845453     Snacks      Candy  Confection Candy       <NA>         <NA>  <NA>   \n",
       "845496     Snacks      Candy  Confection Candy       <NA>         <NA>  <NA>   \n",
       "845534     Snacks      Candy  Confection Candy       <NA>         <NA>  <NA>   \n",
       "\n",
       "             BARCODE                                  all_sum  \n",
       "55      6.882676e+11  SnacksCandyConfection Candy<NA><NA><NA>  \n",
       "84      7.092575e+11  SnacksCandyConfection Candy<NA><NA><NA>  \n",
       "105     7.683955e+11  SnacksCandyConfection Candy<NA><NA><NA>  \n",
       "108     6.659190e+11  SnacksCandyConfection Candy<NA><NA><NA>  \n",
       "165     7.920045e+10  SnacksCandyConfection Candy<NA><NA><NA>  \n",
       "...              ...                                      ...  \n",
       "845326  7.666840e+11  SnacksCandyConfection Candy<NA><NA><NA>  \n",
       "845414  8.582180e+11  SnacksCandyConfection Candy<NA><NA><NA>  \n",
       "845453  2.874405e+10  SnacksCandyConfection Candy<NA><NA><NA>  \n",
       "845496  1.574699e+10  SnacksCandyConfection Candy<NA><NA><NA>  \n",
       "845534  7.053808e+10  SnacksCandyConfection Candy<NA><NA><NA>  \n",
       "\n",
       "[17853 rows x 8 columns]"
      ]
     },
     "execution_count": 143,
     "metadata": {},
     "output_type": "execute_result"
    }
   ],
   "source": [
    "df_products[df_products[\"all_sum\"] == \"SnacksCandyConfection Candy<NA><NA><NA>\"]"
   ]
  },
  {
   "cell_type": "code",
   "execution_count": 144,
   "metadata": {},
   "outputs": [
    {
     "name": "stdout",
     "output_type": "stream",
     "text": [
      "17853\n",
      "CATEGORY_1          0\n",
      "CATEGORY_2          0\n",
      "CATEGORY_3          0\n",
      "CATEGORY_4      17853\n",
      "MANUFACTURER    17853\n",
      "BRAND           17853\n",
      "BARCODE             1\n",
      "all_sum             0\n",
      "dtype: int64\n",
      "\n",
      "14647\n",
      "CATEGORY_1          0\n",
      "CATEGORY_2          0\n",
      "CATEGORY_3          0\n",
      "CATEGORY_4      14647\n",
      "MANUFACTURER    14647\n",
      "BRAND           14647\n",
      "BARCODE             1\n",
      "all_sum             0\n",
      "dtype: int64\n"
     ]
    }
   ],
   "source": [
    "print(df_products[df_products[\"all_sum\"] == \"SnacksCandyConfection Candy<NA><NA><NA>\"].shape[0])\n",
    "print(df_products[df_products[\"all_sum\"] == \"SnacksCandyConfection Candy<NA><NA><NA>\"].isna().sum())\n",
    "\n",
    "print()\n",
    "print(df_products[df_products[\"all_sum\"] == \"SnacksCandyChocolate Candy<NA><NA><NA>\"].shape[0])\n",
    "print(df_products[df_products[\"all_sum\"] == \"SnacksCandyChocolate Candy<NA><NA><NA>\"].isna().sum())\n",
    "\n",
    "# by the looks of it, it looks like new barcode is assigned where other columns have null values"
   ]
  },
  {
   "cell_type": "code",
   "execution_count": 145,
   "metadata": {},
   "outputs": [
    {
     "data": {
      "text/plain": [
       "80199137.0    2\n",
       "3400401.0     2\n",
       "20293567.0    2\n",
       "3466605.0     2\n",
       "3419908.0     2\n",
       "             ..\n",
       "20481940.0    2\n",
       "3423806.0     2\n",
       "3401903.0     2\n",
       "60908308.0    2\n",
       "3415207.0     2\n",
       "Name: BARCODE, Length: 185, dtype: int64"
      ]
     },
     "execution_count": 145,
     "metadata": {},
     "output_type": "execute_result"
    }
   ],
   "source": [
    "# checkign for duplicate barcodes\n",
    "\n",
    "df_products_duplicate_barcode = df_products[df_products.duplicated(keep=False, subset=['BARCODE'])]\n",
    "df_products_duplicate_barcode[\"BARCODE\"].value_counts()"
   ]
  },
  {
   "cell_type": "code",
   "execution_count": 146,
   "metadata": {},
   "outputs": [
    {
     "data": {
      "text/html": [
       "<div>\n",
       "<style scoped>\n",
       "    .dataframe tbody tr th:only-of-type {\n",
       "        vertical-align: middle;\n",
       "    }\n",
       "\n",
       "    .dataframe tbody tr th {\n",
       "        vertical-align: top;\n",
       "    }\n",
       "\n",
       "    .dataframe thead th {\n",
       "        text-align: right;\n",
       "    }\n",
       "</style>\n",
       "<table border=\"1\" class=\"dataframe\">\n",
       "  <thead>\n",
       "    <tr style=\"text-align: right;\">\n",
       "      <th></th>\n",
       "      <th>CATEGORY_1</th>\n",
       "      <th>CATEGORY_2</th>\n",
       "      <th>CATEGORY_3</th>\n",
       "      <th>CATEGORY_4</th>\n",
       "      <th>MANUFACTURER</th>\n",
       "      <th>BRAND</th>\n",
       "      <th>BARCODE</th>\n",
       "      <th>all_sum</th>\n",
       "    </tr>\n",
       "  </thead>\n",
       "  <tbody>\n",
       "    <tr>\n",
       "      <th>28421</th>\n",
       "      <td>Health &amp; Wellness</td>\n",
       "      <td>Hair Care</td>\n",
       "      <td>Hair Color</td>\n",
       "      <td>&lt;NA&gt;</td>\n",
       "      <td>HENKEL</td>\n",
       "      <td>SCHWARZKOPF</td>\n",
       "      <td>5.233692e+10</td>\n",
       "      <td>Health &amp; WellnessHair CareHair Color&lt;NA&gt;HENKEL...</td>\n",
       "    </tr>\n",
       "    <tr>\n",
       "      <th>709607</th>\n",
       "      <td>Health &amp; Wellness</td>\n",
       "      <td>Hair Care</td>\n",
       "      <td>Hair Color</td>\n",
       "      <td>&lt;NA&gt;</td>\n",
       "      <td>HENKEL</td>\n",
       "      <td>GÖT2B</td>\n",
       "      <td>5.233692e+10</td>\n",
       "      <td>Health &amp; WellnessHair CareHair Color&lt;NA&gt;HENKEL...</td>\n",
       "    </tr>\n",
       "    <tr>\n",
       "      <th>213340</th>\n",
       "      <td>Health &amp; Wellness</td>\n",
       "      <td>Hair Care</td>\n",
       "      <td>Hair Color</td>\n",
       "      <td>&lt;NA&gt;</td>\n",
       "      <td>HENKEL</td>\n",
       "      <td>SCHWARZKOPF</td>\n",
       "      <td>1.700033e+10</td>\n",
       "      <td>Health &amp; WellnessHair CareHair Color&lt;NA&gt;HENKEL...</td>\n",
       "    </tr>\n",
       "    <tr>\n",
       "      <th>304021</th>\n",
       "      <td>Health &amp; Wellness</td>\n",
       "      <td>Hair Care</td>\n",
       "      <td>Hair Color</td>\n",
       "      <td>&lt;NA&gt;</td>\n",
       "      <td>HENKEL</td>\n",
       "      <td>GÖT2B</td>\n",
       "      <td>1.700033e+10</td>\n",
       "      <td>Health &amp; WellnessHair CareHair Color&lt;NA&gt;HENKEL...</td>\n",
       "    </tr>\n",
       "    <tr>\n",
       "      <th>708466</th>\n",
       "      <td>Snacks</td>\n",
       "      <td>Candy</td>\n",
       "      <td>Mints</td>\n",
       "      <td>&lt;NA&gt;</td>\n",
       "      <td>LOTUS BRANDS INC</td>\n",
       "      <td>ECO-DENT</td>\n",
       "      <td>3.600540e+08</td>\n",
       "      <td>SnacksCandyMints&lt;NA&gt;LOTUS BRANDS INCECO-DENT</td>\n",
       "    </tr>\n",
       "    <tr>\n",
       "      <th>...</th>\n",
       "      <td>...</td>\n",
       "      <td>...</td>\n",
       "      <td>...</td>\n",
       "      <td>...</td>\n",
       "      <td>...</td>\n",
       "      <td>...</td>\n",
       "      <td>...</td>\n",
       "      <td>...</td>\n",
       "    </tr>\n",
       "    <tr>\n",
       "      <th>684662</th>\n",
       "      <td>Snacks</td>\n",
       "      <td>Crackers</td>\n",
       "      <td>Graham Crackers</td>\n",
       "      <td>&lt;NA&gt;</td>\n",
       "      <td>TRADER JOE'S</td>\n",
       "      <td>TRADER JOE'S</td>\n",
       "      <td>4.387110e+05</td>\n",
       "      <td>SnacksCrackersGraham Crackers&lt;NA&gt;TRADER JOE'ST...</td>\n",
       "    </tr>\n",
       "    <tr>\n",
       "      <th>139121</th>\n",
       "      <td>Snacks</td>\n",
       "      <td>Candy</td>\n",
       "      <td>Chocolate Candy</td>\n",
       "      <td>&lt;NA&gt;</td>\n",
       "      <td>PLACEHOLDER MANUFACTURER</td>\n",
       "      <td>BRAND NOT KNOWN</td>\n",
       "      <td>4.043100e+05</td>\n",
       "      <td>SnacksCandyChocolate Candy&lt;NA&gt;PLACEHOLDER MANU...</td>\n",
       "    </tr>\n",
       "    <tr>\n",
       "      <th>841230</th>\n",
       "      <td>Snacks</td>\n",
       "      <td>Candy</td>\n",
       "      <td>Chocolate Candy</td>\n",
       "      <td>&lt;NA&gt;</td>\n",
       "      <td>MARS WRIGLEY</td>\n",
       "      <td>M&amp;M'S</td>\n",
       "      <td>4.043100e+05</td>\n",
       "      <td>SnacksCandyChocolate Candy&lt;NA&gt;MARS WRIGLEYM&amp;M'S</td>\n",
       "    </tr>\n",
       "    <tr>\n",
       "      <th>349945</th>\n",
       "      <td>Snacks</td>\n",
       "      <td>Candy</td>\n",
       "      <td>Confection Candy</td>\n",
       "      <td>&lt;NA&gt;</td>\n",
       "      <td>MARS WRIGLEY</td>\n",
       "      <td>STARBURST</td>\n",
       "      <td>4.005100e+05</td>\n",
       "      <td>SnacksCandyConfection Candy&lt;NA&gt;MARS WRIGLEYSTA...</td>\n",
       "    </tr>\n",
       "    <tr>\n",
       "      <th>99568</th>\n",
       "      <td>Snacks</td>\n",
       "      <td>Candy</td>\n",
       "      <td>Confection Candy</td>\n",
       "      <td>&lt;NA&gt;</td>\n",
       "      <td>MARS WRIGLEY</td>\n",
       "      <td>STARBURST</td>\n",
       "      <td>4.005100e+05</td>\n",
       "      <td>SnacksCandyConfection Candy&lt;NA&gt;MARS WRIGLEYSTA...</td>\n",
       "    </tr>\n",
       "  </tbody>\n",
       "</table>\n",
       "<p>370 rows × 8 columns</p>\n",
       "</div>"
      ],
      "text/plain": [
       "               CATEGORY_1 CATEGORY_2        CATEGORY_3 CATEGORY_4  \\\n",
       "28421   Health & Wellness  Hair Care        Hair Color       <NA>   \n",
       "709607  Health & Wellness  Hair Care        Hair Color       <NA>   \n",
       "213340  Health & Wellness  Hair Care        Hair Color       <NA>   \n",
       "304021  Health & Wellness  Hair Care        Hair Color       <NA>   \n",
       "708466             Snacks      Candy             Mints       <NA>   \n",
       "...                   ...        ...               ...        ...   \n",
       "684662             Snacks   Crackers   Graham Crackers       <NA>   \n",
       "139121             Snacks      Candy   Chocolate Candy       <NA>   \n",
       "841230             Snacks      Candy   Chocolate Candy       <NA>   \n",
       "349945             Snacks      Candy  Confection Candy       <NA>   \n",
       "99568              Snacks      Candy  Confection Candy       <NA>   \n",
       "\n",
       "                    MANUFACTURER            BRAND       BARCODE  \\\n",
       "28421                     HENKEL      SCHWARZKOPF  5.233692e+10   \n",
       "709607                    HENKEL            GÖT2B  5.233692e+10   \n",
       "213340                    HENKEL      SCHWARZKOPF  1.700033e+10   \n",
       "304021                    HENKEL            GÖT2B  1.700033e+10   \n",
       "708466          LOTUS BRANDS INC         ECO-DENT  3.600540e+08   \n",
       "...                          ...              ...           ...   \n",
       "684662              TRADER JOE'S     TRADER JOE'S  4.387110e+05   \n",
       "139121  PLACEHOLDER MANUFACTURER  BRAND NOT KNOWN  4.043100e+05   \n",
       "841230              MARS WRIGLEY            M&M'S  4.043100e+05   \n",
       "349945              MARS WRIGLEY        STARBURST  4.005100e+05   \n",
       "99568               MARS WRIGLEY        STARBURST  4.005100e+05   \n",
       "\n",
       "                                                  all_sum  \n",
       "28421   Health & WellnessHair CareHair Color<NA>HENKEL...  \n",
       "709607  Health & WellnessHair CareHair Color<NA>HENKEL...  \n",
       "213340  Health & WellnessHair CareHair Color<NA>HENKEL...  \n",
       "304021  Health & WellnessHair CareHair Color<NA>HENKEL...  \n",
       "708466       SnacksCandyMints<NA>LOTUS BRANDS INCECO-DENT  \n",
       "...                                                   ...  \n",
       "684662  SnacksCrackersGraham Crackers<NA>TRADER JOE'ST...  \n",
       "139121  SnacksCandyChocolate Candy<NA>PLACEHOLDER MANU...  \n",
       "841230    SnacksCandyChocolate Candy<NA>MARS WRIGLEYM&M'S  \n",
       "349945  SnacksCandyConfection Candy<NA>MARS WRIGLEYSTA...  \n",
       "99568   SnacksCandyConfection Candy<NA>MARS WRIGLEYSTA...  \n",
       "\n",
       "[370 rows x 8 columns]"
      ]
     },
     "execution_count": 146,
     "metadata": {},
     "output_type": "execute_result"
    }
   ],
   "source": [
    "# in total there are 185 duplicate barcode\n",
    "\n",
    "df_products_duplicate_barcode[~df_products_duplicate_barcode[\"BARCODE\"].isna()].sort_values( by=[\"BARCODE\"], ascending=[False])"
   ]
  },
  {
   "cell_type": "code",
   "execution_count": 147,
   "metadata": {},
   "outputs": [
    {
     "data": {
      "text/plain": [
       "SnacksCandyConfection Candy<NA>                                             56965\n",
       "Health & WellnessMedicines & TreatmentsVitamins & Herbal Supplements<NA>    55700\n",
       "SnacksCandyChocolate Candy<NA>                                              47710\n",
       "SnacksCookies<NA><NA>                                                       30418\n",
       "Health & WellnessHair CareHair Styling Products<NA>                         20450\n",
       "                                                                            ...  \n",
       "PantryCooking & BakingSpices & SeasoningsBreadcrumbs & Coatings                 2\n",
       "BeveragesTeaIced Teas<NA>                                                       2\n",
       "Vehicles & PartsVehicle Maintenance, Care & DecorVehicle Fluids<NA>             2\n",
       "AlcoholWineSparkling WinesChampagne                                             2\n",
       "AlcoholHard Seltzers, Sodas, Waters, Lemonades & TeasHard Sodas<NA>             2\n",
       "Name: all_categories, Length: 418, dtype: int64"
      ]
     },
     "execution_count": 147,
     "metadata": {},
     "output_type": "execute_result"
    }
   ],
   "source": [
    "# combining all categories\n",
    "df_products[\"all_categories\"] = df_products[\"CATEGORY_1\"].astype(str)+df_products[\"CATEGORY_2\"].astype(str)+df_products[\"CATEGORY_3\"].astype(str)+df_products[\"CATEGORY_4\"].astype(str)\n",
    "df_products[df_products.duplicated(keep=False, subset=['all_categories'])][\"all_categories\"].value_counts()"
   ]
  },
  {
   "cell_type": "code",
   "execution_count": 148,
   "metadata": {},
   "outputs": [
    {
     "data": {
      "text/html": [
       "<div>\n",
       "<style scoped>\n",
       "    .dataframe tbody tr th:only-of-type {\n",
       "        vertical-align: middle;\n",
       "    }\n",
       "\n",
       "    .dataframe tbody tr th {\n",
       "        vertical-align: top;\n",
       "    }\n",
       "\n",
       "    .dataframe thead th {\n",
       "        text-align: right;\n",
       "    }\n",
       "</style>\n",
       "<table border=\"1\" class=\"dataframe\">\n",
       "  <thead>\n",
       "    <tr style=\"text-align: right;\">\n",
       "      <th></th>\n",
       "      <th>CATEGORY_1</th>\n",
       "      <th>CATEGORY_2</th>\n",
       "      <th>CATEGORY_3</th>\n",
       "      <th>CATEGORY_4</th>\n",
       "      <th>MANUFACTURER</th>\n",
       "      <th>BRAND</th>\n",
       "      <th>BARCODE</th>\n",
       "      <th>all_sum</th>\n",
       "      <th>all_categories</th>\n",
       "    </tr>\n",
       "  </thead>\n",
       "  <tbody>\n",
       "    <tr>\n",
       "      <th>55</th>\n",
       "      <td>Snacks</td>\n",
       "      <td>Candy</td>\n",
       "      <td>Confection Candy</td>\n",
       "      <td>&lt;NA&gt;</td>\n",
       "      <td>&lt;NA&gt;</td>\n",
       "      <td>&lt;NA&gt;</td>\n",
       "      <td>6.882676e+11</td>\n",
       "      <td>SnacksCandyConfection Candy&lt;NA&gt;&lt;NA&gt;&lt;NA&gt;</td>\n",
       "      <td>SnacksCandyConfection Candy&lt;NA&gt;</td>\n",
       "    </tr>\n",
       "    <tr>\n",
       "      <th>80</th>\n",
       "      <td>Snacks</td>\n",
       "      <td>Candy</td>\n",
       "      <td>Confection Candy</td>\n",
       "      <td>&lt;NA&gt;</td>\n",
       "      <td>FERRARA CANDY COMPANY</td>\n",
       "      <td>NOW AND LATER</td>\n",
       "      <td>4.142052e+10</td>\n",
       "      <td>SnacksCandyConfection Candy&lt;NA&gt;FERRARA CANDY C...</td>\n",
       "      <td>SnacksCandyConfection Candy&lt;NA&gt;</td>\n",
       "    </tr>\n",
       "    <tr>\n",
       "      <th>81</th>\n",
       "      <td>Snacks</td>\n",
       "      <td>Candy</td>\n",
       "      <td>Confection Candy</td>\n",
       "      <td>&lt;NA&gt;</td>\n",
       "      <td>WINLAND FOODS, INC</td>\n",
       "      <td>PENNSYLVANIA DUTCH</td>\n",
       "      <td>7.237617e+11</td>\n",
       "      <td>SnacksCandyConfection Candy&lt;NA&gt;WINLAND FOODS, ...</td>\n",
       "      <td>SnacksCandyConfection Candy&lt;NA&gt;</td>\n",
       "    </tr>\n",
       "    <tr>\n",
       "      <th>84</th>\n",
       "      <td>Snacks</td>\n",
       "      <td>Candy</td>\n",
       "      <td>Confection Candy</td>\n",
       "      <td>&lt;NA&gt;</td>\n",
       "      <td>&lt;NA&gt;</td>\n",
       "      <td>&lt;NA&gt;</td>\n",
       "      <td>7.092575e+11</td>\n",
       "      <td>SnacksCandyConfection Candy&lt;NA&gt;&lt;NA&gt;&lt;NA&gt;</td>\n",
       "      <td>SnacksCandyConfection Candy&lt;NA&gt;</td>\n",
       "    </tr>\n",
       "    <tr>\n",
       "      <th>101</th>\n",
       "      <td>Snacks</td>\n",
       "      <td>Candy</td>\n",
       "      <td>Confection Candy</td>\n",
       "      <td>&lt;NA&gt;</td>\n",
       "      <td>JELLY BELLY CANDY COMPANY</td>\n",
       "      <td>JELLY BELLY</td>\n",
       "      <td>2.071568e+12</td>\n",
       "      <td>SnacksCandyConfection Candy&lt;NA&gt;JELLY BELLY CAN...</td>\n",
       "      <td>SnacksCandyConfection Candy&lt;NA&gt;</td>\n",
       "    </tr>\n",
       "    <tr>\n",
       "      <th>...</th>\n",
       "      <td>...</td>\n",
       "      <td>...</td>\n",
       "      <td>...</td>\n",
       "      <td>...</td>\n",
       "      <td>...</td>\n",
       "      <td>...</td>\n",
       "      <td>...</td>\n",
       "      <td>...</td>\n",
       "      <td>...</td>\n",
       "    </tr>\n",
       "    <tr>\n",
       "      <th>845511</th>\n",
       "      <td>Snacks</td>\n",
       "      <td>Candy</td>\n",
       "      <td>Confection Candy</td>\n",
       "      <td>&lt;NA&gt;</td>\n",
       "      <td>FERRARA CANDY COMPANY</td>\n",
       "      <td>SWEETARTS</td>\n",
       "      <td>6.891392e+11</td>\n",
       "      <td>SnacksCandyConfection Candy&lt;NA&gt;FERRARA CANDY C...</td>\n",
       "      <td>SnacksCandyConfection Candy&lt;NA&gt;</td>\n",
       "    </tr>\n",
       "    <tr>\n",
       "      <th>845534</th>\n",
       "      <td>Snacks</td>\n",
       "      <td>Candy</td>\n",
       "      <td>Confection Candy</td>\n",
       "      <td>&lt;NA&gt;</td>\n",
       "      <td>&lt;NA&gt;</td>\n",
       "      <td>&lt;NA&gt;</td>\n",
       "      <td>7.053808e+10</td>\n",
       "      <td>SnacksCandyConfection Candy&lt;NA&gt;&lt;NA&gt;&lt;NA&gt;</td>\n",
       "      <td>SnacksCandyConfection Candy&lt;NA&gt;</td>\n",
       "    </tr>\n",
       "    <tr>\n",
       "      <th>845535</th>\n",
       "      <td>Snacks</td>\n",
       "      <td>Candy</td>\n",
       "      <td>Confection Candy</td>\n",
       "      <td>&lt;NA&gt;</td>\n",
       "      <td>PLACEHOLDER MANUFACTURER</td>\n",
       "      <td>PRIVATE LABEL</td>\n",
       "      <td>2.000699e+12</td>\n",
       "      <td>SnacksCandyConfection Candy&lt;NA&gt;PLACEHOLDER MAN...</td>\n",
       "      <td>SnacksCandyConfection Candy&lt;NA&gt;</td>\n",
       "    </tr>\n",
       "    <tr>\n",
       "      <th>845537</th>\n",
       "      <td>Snacks</td>\n",
       "      <td>Candy</td>\n",
       "      <td>Confection Candy</td>\n",
       "      <td>&lt;NA&gt;</td>\n",
       "      <td>FERRARA CANDY COMPANY</td>\n",
       "      <td>BRACH'S</td>\n",
       "      <td>4.142001e+10</td>\n",
       "      <td>SnacksCandyConfection Candy&lt;NA&gt;FERRARA CANDY C...</td>\n",
       "      <td>SnacksCandyConfection Candy&lt;NA&gt;</td>\n",
       "    </tr>\n",
       "    <tr>\n",
       "      <th>845549</th>\n",
       "      <td>Snacks</td>\n",
       "      <td>Candy</td>\n",
       "      <td>Confection Candy</td>\n",
       "      <td>&lt;NA&gt;</td>\n",
       "      <td>HARIBO GMBH &amp; CO KG</td>\n",
       "      <td>HARIBO</td>\n",
       "      <td>1.001672e+11</td>\n",
       "      <td>SnacksCandyConfection Candy&lt;NA&gt;HARIBO GMBH &amp; C...</td>\n",
       "      <td>SnacksCandyConfection Candy&lt;NA&gt;</td>\n",
       "    </tr>\n",
       "  </tbody>\n",
       "</table>\n",
       "<p>56965 rows × 9 columns</p>\n",
       "</div>"
      ],
      "text/plain": [
       "       CATEGORY_1 CATEGORY_2        CATEGORY_3 CATEGORY_4  \\\n",
       "55         Snacks      Candy  Confection Candy       <NA>   \n",
       "80         Snacks      Candy  Confection Candy       <NA>   \n",
       "81         Snacks      Candy  Confection Candy       <NA>   \n",
       "84         Snacks      Candy  Confection Candy       <NA>   \n",
       "101        Snacks      Candy  Confection Candy       <NA>   \n",
       "...           ...        ...               ...        ...   \n",
       "845511     Snacks      Candy  Confection Candy       <NA>   \n",
       "845534     Snacks      Candy  Confection Candy       <NA>   \n",
       "845535     Snacks      Candy  Confection Candy       <NA>   \n",
       "845537     Snacks      Candy  Confection Candy       <NA>   \n",
       "845549     Snacks      Candy  Confection Candy       <NA>   \n",
       "\n",
       "                     MANUFACTURER               BRAND       BARCODE  \\\n",
       "55                           <NA>                <NA>  6.882676e+11   \n",
       "80          FERRARA CANDY COMPANY       NOW AND LATER  4.142052e+10   \n",
       "81             WINLAND FOODS, INC  PENNSYLVANIA DUTCH  7.237617e+11   \n",
       "84                           <NA>                <NA>  7.092575e+11   \n",
       "101     JELLY BELLY CANDY COMPANY         JELLY BELLY  2.071568e+12   \n",
       "...                           ...                 ...           ...   \n",
       "845511      FERRARA CANDY COMPANY           SWEETARTS  6.891392e+11   \n",
       "845534                       <NA>                <NA>  7.053808e+10   \n",
       "845535   PLACEHOLDER MANUFACTURER       PRIVATE LABEL  2.000699e+12   \n",
       "845537      FERRARA CANDY COMPANY             BRACH'S  4.142001e+10   \n",
       "845549        HARIBO GMBH & CO KG              HARIBO  1.001672e+11   \n",
       "\n",
       "                                                  all_sum  \\\n",
       "55                SnacksCandyConfection Candy<NA><NA><NA>   \n",
       "80      SnacksCandyConfection Candy<NA>FERRARA CANDY C...   \n",
       "81      SnacksCandyConfection Candy<NA>WINLAND FOODS, ...   \n",
       "84                SnacksCandyConfection Candy<NA><NA><NA>   \n",
       "101     SnacksCandyConfection Candy<NA>JELLY BELLY CAN...   \n",
       "...                                                   ...   \n",
       "845511  SnacksCandyConfection Candy<NA>FERRARA CANDY C...   \n",
       "845534            SnacksCandyConfection Candy<NA><NA><NA>   \n",
       "845535  SnacksCandyConfection Candy<NA>PLACEHOLDER MAN...   \n",
       "845537  SnacksCandyConfection Candy<NA>FERRARA CANDY C...   \n",
       "845549  SnacksCandyConfection Candy<NA>HARIBO GMBH & C...   \n",
       "\n",
       "                         all_categories  \n",
       "55      SnacksCandyConfection Candy<NA>  \n",
       "80      SnacksCandyConfection Candy<NA>  \n",
       "81      SnacksCandyConfection Candy<NA>  \n",
       "84      SnacksCandyConfection Candy<NA>  \n",
       "101     SnacksCandyConfection Candy<NA>  \n",
       "...                                 ...  \n",
       "845511  SnacksCandyConfection Candy<NA>  \n",
       "845534  SnacksCandyConfection Candy<NA>  \n",
       "845535  SnacksCandyConfection Candy<NA>  \n",
       "845537  SnacksCandyConfection Candy<NA>  \n",
       "845549  SnacksCandyConfection Candy<NA>  \n",
       "\n",
       "[56965 rows x 9 columns]"
      ]
     },
     "execution_count": 148,
     "metadata": {},
     "output_type": "execute_result"
    }
   ],
   "source": [
    "# trying to check how barcode is assigned\n",
    "df_products[df_products[\"all_categories\"] == \"SnacksCandyConfection Candy<NA>\"]"
   ]
  },
  {
   "cell_type": "code",
   "execution_count": null,
   "metadata": {},
   "outputs": [],
   "source": []
  },
  {
   "attachments": {},
   "cell_type": "markdown",
   "metadata": {},
   "source": [
    "### Exploring Transactions Takehome table for data quality issues"
   ]
  },
  {
   "cell_type": "code",
   "execution_count": 117,
   "metadata": {},
   "outputs": [
    {
     "data": {
      "text/html": [
       "<div>\n",
       "<style scoped>\n",
       "    .dataframe tbody tr th:only-of-type {\n",
       "        vertical-align: middle;\n",
       "    }\n",
       "\n",
       "    .dataframe tbody tr th {\n",
       "        vertical-align: top;\n",
       "    }\n",
       "\n",
       "    .dataframe thead th {\n",
       "        text-align: right;\n",
       "    }\n",
       "</style>\n",
       "<table border=\"1\" class=\"dataframe\">\n",
       "  <thead>\n",
       "    <tr style=\"text-align: right;\">\n",
       "      <th></th>\n",
       "      <th>RECEIPT_ID</th>\n",
       "      <th>PURCHASE_DATE</th>\n",
       "      <th>SCAN_DATE</th>\n",
       "      <th>STORE_NAME</th>\n",
       "      <th>USER_ID</th>\n",
       "      <th>BARCODE</th>\n",
       "      <th>FINAL_QUANTITY</th>\n",
       "      <th>FINAL_SALE</th>\n",
       "    </tr>\n",
       "  </thead>\n",
       "  <tbody>\n",
       "    <tr>\n",
       "      <th>0</th>\n",
       "      <td>0000d256-4041-4a3e-adc4-5623fb6e0c99</td>\n",
       "      <td>2024-08-21</td>\n",
       "      <td>2024-08-21 14:19:06.539 Z</td>\n",
       "      <td>WALMART</td>\n",
       "      <td>63b73a7f3d310dceeabd4758</td>\n",
       "      <td>1.530001e+10</td>\n",
       "      <td>1.00</td>\n",
       "      <td></td>\n",
       "    </tr>\n",
       "    <tr>\n",
       "      <th>1</th>\n",
       "      <td>0001455d-7a92-4a7b-a1d2-c747af1c8fd3</td>\n",
       "      <td>2024-07-20</td>\n",
       "      <td>2024-07-20 09:50:24.206 Z</td>\n",
       "      <td>ALDI</td>\n",
       "      <td>62c08877baa38d1a1f6c211a</td>\n",
       "      <td>NaN</td>\n",
       "      <td>zero</td>\n",
       "      <td>1.49</td>\n",
       "    </tr>\n",
       "    <tr>\n",
       "      <th>2</th>\n",
       "      <td>00017e0a-7851-42fb-bfab-0baa96e23586</td>\n",
       "      <td>2024-08-18</td>\n",
       "      <td>2024-08-19 15:38:56.813 Z</td>\n",
       "      <td>WALMART</td>\n",
       "      <td>60842f207ac8b7729e472020</td>\n",
       "      <td>7.874223e+10</td>\n",
       "      <td>1.00</td>\n",
       "      <td></td>\n",
       "    </tr>\n",
       "    <tr>\n",
       "      <th>3</th>\n",
       "      <td>000239aa-3478-453d-801e-66a82e39c8af</td>\n",
       "      <td>2024-06-18</td>\n",
       "      <td>2024-06-19 11:03:37.468 Z</td>\n",
       "      <td>FOOD LION</td>\n",
       "      <td>63fcd7cea4f8442c3386b589</td>\n",
       "      <td>7.833997e+11</td>\n",
       "      <td>zero</td>\n",
       "      <td>3.49</td>\n",
       "    </tr>\n",
       "    <tr>\n",
       "      <th>4</th>\n",
       "      <td>00026b4c-dfe8-49dd-b026-4c2f0fd5c6a1</td>\n",
       "      <td>2024-07-04</td>\n",
       "      <td>2024-07-05 15:56:43.549 Z</td>\n",
       "      <td>RANDALLS</td>\n",
       "      <td>6193231ae9b3d75037b0f928</td>\n",
       "      <td>4.790050e+10</td>\n",
       "      <td>1.00</td>\n",
       "      <td></td>\n",
       "    </tr>\n",
       "  </tbody>\n",
       "</table>\n",
       "</div>"
      ],
      "text/plain": [
       "                             RECEIPT_ID PURCHASE_DATE  \\\n",
       "0  0000d256-4041-4a3e-adc4-5623fb6e0c99    2024-08-21   \n",
       "1  0001455d-7a92-4a7b-a1d2-c747af1c8fd3    2024-07-20   \n",
       "2  00017e0a-7851-42fb-bfab-0baa96e23586    2024-08-18   \n",
       "3  000239aa-3478-453d-801e-66a82e39c8af    2024-06-18   \n",
       "4  00026b4c-dfe8-49dd-b026-4c2f0fd5c6a1    2024-07-04   \n",
       "\n",
       "                   SCAN_DATE STORE_NAME                   USER_ID  \\\n",
       "0  2024-08-21 14:19:06.539 Z    WALMART  63b73a7f3d310dceeabd4758   \n",
       "1  2024-07-20 09:50:24.206 Z       ALDI  62c08877baa38d1a1f6c211a   \n",
       "2  2024-08-19 15:38:56.813 Z    WALMART  60842f207ac8b7729e472020   \n",
       "3  2024-06-19 11:03:37.468 Z  FOOD LION  63fcd7cea4f8442c3386b589   \n",
       "4  2024-07-05 15:56:43.549 Z   RANDALLS  6193231ae9b3d75037b0f928   \n",
       "\n",
       "        BARCODE FINAL_QUANTITY FINAL_SALE  \n",
       "0  1.530001e+10           1.00             \n",
       "1           NaN           zero       1.49  \n",
       "2  7.874223e+10           1.00             \n",
       "3  7.833997e+11           zero       3.49  \n",
       "4  4.790050e+10           1.00             "
      ]
     },
     "execution_count": 117,
     "metadata": {},
     "output_type": "execute_result"
    }
   ],
   "source": [
    "df_transactions = pd.read_csv(\"../data/raw/TRANSACTION_TAKEHOME.csv\")\n",
    "df_transactions.head()"
   ]
  },
  {
   "cell_type": "code",
   "execution_count": 118,
   "metadata": {},
   "outputs": [
    {
     "data": {
      "text/plain": [
       "RECEIPT_ID         object\n",
       "PURCHASE_DATE      object\n",
       "SCAN_DATE          object\n",
       "STORE_NAME         object\n",
       "USER_ID            object\n",
       "BARCODE           float64\n",
       "FINAL_QUANTITY     object\n",
       "FINAL_SALE         object\n",
       "dtype: object"
      ]
     },
     "execution_count": 118,
     "metadata": {},
     "output_type": "execute_result"
    }
   ],
   "source": [
    "df_transactions.dtypes"
   ]
  },
  {
   "cell_type": "code",
   "execution_count": 119,
   "metadata": {},
   "outputs": [],
   "source": [
    "df_transactions[\"RECEIPT_ID\"] = df_transactions[\"RECEIPT_ID\"].str.strip()\n",
    "df_transactions[\"STORE_NAME\"] = df_transactions[\"STORE_NAME\"].str.strip()\n",
    "df_transactions[\"USER_ID\"] = df_transactions[\"USER_ID\"].str.strip()"
   ]
  },
  {
   "cell_type": "code",
   "execution_count": 120,
   "metadata": {},
   "outputs": [
    {
     "name": "stdout",
     "output_type": "stream",
     "text": [
      "0\n",
      "0\n"
     ]
    },
    {
     "data": {
      "text/html": [
       "<div>\n",
       "<style scoped>\n",
       "    .dataframe tbody tr th:only-of-type {\n",
       "        vertical-align: middle;\n",
       "    }\n",
       "\n",
       "    .dataframe tbody tr th {\n",
       "        vertical-align: top;\n",
       "    }\n",
       "\n",
       "    .dataframe thead th {\n",
       "        text-align: right;\n",
       "    }\n",
       "</style>\n",
       "<table border=\"1\" class=\"dataframe\">\n",
       "  <thead>\n",
       "    <tr style=\"text-align: right;\">\n",
       "      <th></th>\n",
       "      <th>BARCODE</th>\n",
       "      <th>FINAL_QUANTITY</th>\n",
       "      <th>FINAL_SALE</th>\n",
       "    </tr>\n",
       "  </thead>\n",
       "  <tbody>\n",
       "    <tr>\n",
       "      <th>count</th>\n",
       "      <td>4.423800e+04</td>\n",
       "      <td>50000.000000</td>\n",
       "      <td>37500.000000</td>\n",
       "    </tr>\n",
       "    <tr>\n",
       "      <th>mean</th>\n",
       "      <td>1.715863e+11</td>\n",
       "      <td>0.814427</td>\n",
       "      <td>4.576384</td>\n",
       "    </tr>\n",
       "    <tr>\n",
       "      <th>std</th>\n",
       "      <td>3.269219e+11</td>\n",
       "      <td>1.841794</td>\n",
       "      <td>6.625663</td>\n",
       "    </tr>\n",
       "    <tr>\n",
       "      <th>min</th>\n",
       "      <td>-1.000000e+00</td>\n",
       "      <td>0.000000</td>\n",
       "      <td>0.000000</td>\n",
       "    </tr>\n",
       "    <tr>\n",
       "      <th>25%</th>\n",
       "      <td>3.077212e+10</td>\n",
       "      <td>0.007500</td>\n",
       "      <td>1.790000</td>\n",
       "    </tr>\n",
       "    <tr>\n",
       "      <th>50%</th>\n",
       "      <td>5.210004e+10</td>\n",
       "      <td>1.000000</td>\n",
       "      <td>3.000000</td>\n",
       "    </tr>\n",
       "    <tr>\n",
       "      <th>75%</th>\n",
       "      <td>8.536765e+10</td>\n",
       "      <td>1.000000</td>\n",
       "      <td>5.190000</td>\n",
       "    </tr>\n",
       "    <tr>\n",
       "      <th>max</th>\n",
       "      <td>9.347108e+12</td>\n",
       "      <td>276.000000</td>\n",
       "      <td>462.820000</td>\n",
       "    </tr>\n",
       "  </tbody>\n",
       "</table>\n",
       "</div>"
      ],
      "text/plain": [
       "            BARCODE  FINAL_QUANTITY    FINAL_SALE\n",
       "count  4.423800e+04    50000.000000  37500.000000\n",
       "mean   1.715863e+11        0.814427      4.576384\n",
       "std    3.269219e+11        1.841794      6.625663\n",
       "min   -1.000000e+00        0.000000      0.000000\n",
       "25%    3.077212e+10        0.007500      1.790000\n",
       "50%    5.210004e+10        1.000000      3.000000\n",
       "75%    8.536765e+10        1.000000      5.190000\n",
       "max    9.347108e+12      276.000000    462.820000"
      ]
     },
     "execution_count": 120,
     "metadata": {},
     "output_type": "execute_result"
    }
   ],
   "source": [
    "\n",
    "# columns Final_Quantity and FInal_Sale have str values, need to clean and convert them\n",
    "df_transactions[\"FINAL_QUANTITY\"] = df_transactions[\"FINAL_QUANTITY\"].replace({\"zero\": 0.0}).astype(\"float\")\n",
    "df_transactions[\"FINAL_SALE\"] = df_transactions[\"FINAL_SALE\"].replace({\" \": np.nan}).astype(\"float\")\n",
    "\n",
    "# checking if values are less than 0\n",
    "print(len(df_transactions[df_transactions[\"FINAL_QUANTITY\"] < 0.0]))\n",
    "\n",
    "# checking if values are less than 0\n",
    "print(len(df_transactions[df_transactions[\"FINAL_SALE\"] < 0.0]))\n",
    "\n",
    "df_transactions.describe()"
   ]
  },
  {
   "cell_type": "code",
   "execution_count": 121,
   "metadata": {},
   "outputs": [
    {
     "data": {
      "text/html": [
       "<div>\n",
       "<style scoped>\n",
       "    .dataframe tbody tr th:only-of-type {\n",
       "        vertical-align: middle;\n",
       "    }\n",
       "\n",
       "    .dataframe tbody tr th {\n",
       "        vertical-align: top;\n",
       "    }\n",
       "\n",
       "    .dataframe thead th {\n",
       "        text-align: right;\n",
       "    }\n",
       "</style>\n",
       "<table border=\"1\" class=\"dataframe\">\n",
       "  <thead>\n",
       "    <tr style=\"text-align: right;\">\n",
       "      <th></th>\n",
       "      <th>RECEIPT_ID</th>\n",
       "      <th>PURCHASE_DATE</th>\n",
       "      <th>SCAN_DATE</th>\n",
       "      <th>STORE_NAME</th>\n",
       "      <th>USER_ID</th>\n",
       "      <th>BARCODE</th>\n",
       "      <th>FINAL_QUANTITY</th>\n",
       "      <th>FINAL_SALE</th>\n",
       "    </tr>\n",
       "  </thead>\n",
       "  <tbody>\n",
       "    <tr>\n",
       "      <th>0</th>\n",
       "      <td>0000d256-4041-4a3e-adc4-5623fb6e0c99</td>\n",
       "      <td>2024-08-21 00:00:00</td>\n",
       "      <td>2024-08-21 14:19:06</td>\n",
       "      <td>WALMART</td>\n",
       "      <td>63b73a7f3d310dceeabd4758</td>\n",
       "      <td>1.530001e+10</td>\n",
       "      <td>1.0</td>\n",
       "      <td>NaN</td>\n",
       "    </tr>\n",
       "    <tr>\n",
       "      <th>1</th>\n",
       "      <td>0001455d-7a92-4a7b-a1d2-c747af1c8fd3</td>\n",
       "      <td>2024-07-20 00:00:00</td>\n",
       "      <td>2024-07-20 09:50:24</td>\n",
       "      <td>ALDI</td>\n",
       "      <td>62c08877baa38d1a1f6c211a</td>\n",
       "      <td>NaN</td>\n",
       "      <td>0.0</td>\n",
       "      <td>1.49</td>\n",
       "    </tr>\n",
       "    <tr>\n",
       "      <th>2</th>\n",
       "      <td>00017e0a-7851-42fb-bfab-0baa96e23586</td>\n",
       "      <td>2024-08-18 00:00:00</td>\n",
       "      <td>2024-08-19 15:38:56</td>\n",
       "      <td>WALMART</td>\n",
       "      <td>60842f207ac8b7729e472020</td>\n",
       "      <td>7.874223e+10</td>\n",
       "      <td>1.0</td>\n",
       "      <td>NaN</td>\n",
       "    </tr>\n",
       "    <tr>\n",
       "      <th>3</th>\n",
       "      <td>000239aa-3478-453d-801e-66a82e39c8af</td>\n",
       "      <td>2024-06-18 00:00:00</td>\n",
       "      <td>2024-06-19 11:03:37</td>\n",
       "      <td>FOOD LION</td>\n",
       "      <td>63fcd7cea4f8442c3386b589</td>\n",
       "      <td>7.833997e+11</td>\n",
       "      <td>0.0</td>\n",
       "      <td>3.49</td>\n",
       "    </tr>\n",
       "    <tr>\n",
       "      <th>4</th>\n",
       "      <td>00026b4c-dfe8-49dd-b026-4c2f0fd5c6a1</td>\n",
       "      <td>2024-07-04 00:00:00</td>\n",
       "      <td>2024-07-05 15:56:43</td>\n",
       "      <td>RANDALLS</td>\n",
       "      <td>6193231ae9b3d75037b0f928</td>\n",
       "      <td>4.790050e+10</td>\n",
       "      <td>1.0</td>\n",
       "      <td>NaN</td>\n",
       "    </tr>\n",
       "  </tbody>\n",
       "</table>\n",
       "</div>"
      ],
      "text/plain": [
       "                             RECEIPT_ID        PURCHASE_DATE  \\\n",
       "0  0000d256-4041-4a3e-adc4-5623fb6e0c99  2024-08-21 00:00:00   \n",
       "1  0001455d-7a92-4a7b-a1d2-c747af1c8fd3  2024-07-20 00:00:00   \n",
       "2  00017e0a-7851-42fb-bfab-0baa96e23586  2024-08-18 00:00:00   \n",
       "3  000239aa-3478-453d-801e-66a82e39c8af  2024-06-18 00:00:00   \n",
       "4  00026b4c-dfe8-49dd-b026-4c2f0fd5c6a1  2024-07-04 00:00:00   \n",
       "\n",
       "             SCAN_DATE STORE_NAME                   USER_ID       BARCODE  \\\n",
       "0  2024-08-21 14:19:06    WALMART  63b73a7f3d310dceeabd4758  1.530001e+10   \n",
       "1  2024-07-20 09:50:24       ALDI  62c08877baa38d1a1f6c211a           NaN   \n",
       "2  2024-08-19 15:38:56    WALMART  60842f207ac8b7729e472020  7.874223e+10   \n",
       "3  2024-06-19 11:03:37  FOOD LION  63fcd7cea4f8442c3386b589  7.833997e+11   \n",
       "4  2024-07-05 15:56:43   RANDALLS  6193231ae9b3d75037b0f928  4.790050e+10   \n",
       "\n",
       "   FINAL_QUANTITY  FINAL_SALE  \n",
       "0             1.0         NaN  \n",
       "1             0.0        1.49  \n",
       "2             1.0         NaN  \n",
       "3             0.0        3.49  \n",
       "4             1.0         NaN  "
      ]
     },
     "execution_count": 121,
     "metadata": {},
     "output_type": "execute_result"
    }
   ],
   "source": [
    "df_transactions[\"RECEIPT_ID\"] = df_transactions[\"RECEIPT_ID\"].astype(\"string\")\n",
    "df_transactions[\"STORE_NAME\"] = df_transactions[\"STORE_NAME\"].astype(\"string\")\n",
    "df_transactions[\"USER_ID\"] = df_transactions[\"USER_ID\"].astype(\"string\")\n",
    "df_transactions[\"PURCHASE_DATE\"] = df_transactions[\"PURCHASE_DATE\"].astype(\"datetime64[s]\").dt.strftime('%Y-%m-%d %H:%M:%S').astype(\"string\")\n",
    "df_transactions[\"SCAN_DATE\"] = df_transactions[\"SCAN_DATE\"].astype(\"datetime64[s]\").dt.strftime('%Y-%m-%d %H:%M:%S').astype(\"string\")\n",
    "\n",
    "df_transactions.head()"
   ]
  },
  {
   "cell_type": "code",
   "execution_count": 122,
   "metadata": {},
   "outputs": [
    {
     "data": {
      "text/plain": [
       "RECEIPT_ID         string\n",
       "PURCHASE_DATE      string\n",
       "SCAN_DATE          string\n",
       "STORE_NAME         string\n",
       "USER_ID            string\n",
       "BARCODE           float64\n",
       "FINAL_QUANTITY    float64\n",
       "FINAL_SALE        float64\n",
       "dtype: object"
      ]
     },
     "execution_count": 122,
     "metadata": {},
     "output_type": "execute_result"
    }
   ],
   "source": [
    "df_transactions.dtypes"
   ]
  },
  {
   "cell_type": "code",
   "execution_count": 123,
   "metadata": {},
   "outputs": [],
   "source": [
    "# uncomment and run it to process the data\n",
    "# df_transactions.to_csv(\"../data/processed/TRANSACTION_TAKEHOME.csv\", index=False,  na_rep='NULL')"
   ]
  },
  {
   "cell_type": "code",
   "execution_count": 124,
   "metadata": {},
   "outputs": [
    {
     "data": {
      "text/html": [
       "<div>\n",
       "<style scoped>\n",
       "    .dataframe tbody tr th:only-of-type {\n",
       "        vertical-align: middle;\n",
       "    }\n",
       "\n",
       "    .dataframe tbody tr th {\n",
       "        vertical-align: top;\n",
       "    }\n",
       "\n",
       "    .dataframe thead th {\n",
       "        text-align: right;\n",
       "    }\n",
       "</style>\n",
       "<table border=\"1\" class=\"dataframe\">\n",
       "  <thead>\n",
       "    <tr style=\"text-align: right;\">\n",
       "      <th></th>\n",
       "      <th>RECEIPT_ID</th>\n",
       "      <th>PURCHASE_DATE</th>\n",
       "      <th>SCAN_DATE</th>\n",
       "      <th>STORE_NAME</th>\n",
       "      <th>USER_ID</th>\n",
       "      <th>BARCODE</th>\n",
       "      <th>FINAL_QUANTITY</th>\n",
       "      <th>FINAL_SALE</th>\n",
       "    </tr>\n",
       "  </thead>\n",
       "  <tbody>\n",
       "    <tr>\n",
       "      <th>169</th>\n",
       "      <td>01cdaa22-a912-496b-8287-87cd9e6b3b1a</td>\n",
       "      <td>2024-07-16 00:00:00</td>\n",
       "      <td>2024-07-17 06:37:09</td>\n",
       "      <td>CARRS</td>\n",
       "      <td>6160f71f28dab1659e8b5616</td>\n",
       "      <td>-1.0</td>\n",
       "      <td>0.0</td>\n",
       "      <td>5.00</td>\n",
       "    </tr>\n",
       "    <tr>\n",
       "      <th>6010</th>\n",
       "      <td>3d539304-a2d1-47fd-846e-799cc8d1d15d</td>\n",
       "      <td>2024-07-12 00:00:00</td>\n",
       "      <td>2024-07-16 21:05:18</td>\n",
       "      <td>DOLLAR TREE STORES INC</td>\n",
       "      <td>6363a9e6d8987029d637d6db</td>\n",
       "      <td>-1.0</td>\n",
       "      <td>1.0</td>\n",
       "      <td>NaN</td>\n",
       "    </tr>\n",
       "    <tr>\n",
       "      <th>10457</th>\n",
       "      <td>6b9ee775-e895-4133-8b84-fbafbe3bd20d</td>\n",
       "      <td>2024-07-11 00:00:00</td>\n",
       "      <td>2024-07-13 13:22:38</td>\n",
       "      <td>CVS</td>\n",
       "      <td>63a4ef6bb5f32149b9d86e66</td>\n",
       "      <td>-1.0</td>\n",
       "      <td>0.0</td>\n",
       "      <td>3.00</td>\n",
       "    </tr>\n",
       "    <tr>\n",
       "      <th>15621</th>\n",
       "      <td>9f624eb5-bd86-44e6-aaf2-b59339b75c85</td>\n",
       "      <td>2024-07-13 00:00:00</td>\n",
       "      <td>2024-07-13 16:56:58</td>\n",
       "      <td>CVS</td>\n",
       "      <td>62893be61ec71241a98013c3</td>\n",
       "      <td>-1.0</td>\n",
       "      <td>0.0</td>\n",
       "      <td>0.46</td>\n",
       "    </tr>\n",
       "    <tr>\n",
       "      <th>25312</th>\n",
       "      <td>6b9ee775-e895-4133-8b84-fbafbe3bd20d</td>\n",
       "      <td>2024-07-11 00:00:00</td>\n",
       "      <td>2024-07-13 13:22:38</td>\n",
       "      <td>CVS</td>\n",
       "      <td>63a4ef6bb5f32149b9d86e66</td>\n",
       "      <td>-1.0</td>\n",
       "      <td>1.0</td>\n",
       "      <td>3.00</td>\n",
       "    </tr>\n",
       "    <tr>\n",
       "      <th>28894</th>\n",
       "      <td>9f624eb5-bd86-44e6-aaf2-b59339b75c85</td>\n",
       "      <td>2024-07-13 00:00:00</td>\n",
       "      <td>2024-07-13 16:56:58</td>\n",
       "      <td>CVS</td>\n",
       "      <td>62893be61ec71241a98013c3</td>\n",
       "      <td>-1.0</td>\n",
       "      <td>1.0</td>\n",
       "      <td>0.46</td>\n",
       "    </tr>\n",
       "    <tr>\n",
       "      <th>42636</th>\n",
       "      <td>3d539304-a2d1-47fd-846e-799cc8d1d15d</td>\n",
       "      <td>2024-07-12 00:00:00</td>\n",
       "      <td>2024-07-16 21:05:18</td>\n",
       "      <td>DOLLAR TREE STORES INC</td>\n",
       "      <td>6363a9e6d8987029d637d6db</td>\n",
       "      <td>-1.0</td>\n",
       "      <td>1.0</td>\n",
       "      <td>1.25</td>\n",
       "    </tr>\n",
       "    <tr>\n",
       "      <th>45823</th>\n",
       "      <td>01cdaa22-a912-496b-8287-87cd9e6b3b1a</td>\n",
       "      <td>2024-07-16 00:00:00</td>\n",
       "      <td>2024-07-17 06:37:09</td>\n",
       "      <td>CARRS</td>\n",
       "      <td>6160f71f28dab1659e8b5616</td>\n",
       "      <td>-1.0</td>\n",
       "      <td>1.0</td>\n",
       "      <td>5.00</td>\n",
       "    </tr>\n",
       "  </tbody>\n",
       "</table>\n",
       "</div>"
      ],
      "text/plain": [
       "                                 RECEIPT_ID        PURCHASE_DATE  \\\n",
       "169    01cdaa22-a912-496b-8287-87cd9e6b3b1a  2024-07-16 00:00:00   \n",
       "6010   3d539304-a2d1-47fd-846e-799cc8d1d15d  2024-07-12 00:00:00   \n",
       "10457  6b9ee775-e895-4133-8b84-fbafbe3bd20d  2024-07-11 00:00:00   \n",
       "15621  9f624eb5-bd86-44e6-aaf2-b59339b75c85  2024-07-13 00:00:00   \n",
       "25312  6b9ee775-e895-4133-8b84-fbafbe3bd20d  2024-07-11 00:00:00   \n",
       "28894  9f624eb5-bd86-44e6-aaf2-b59339b75c85  2024-07-13 00:00:00   \n",
       "42636  3d539304-a2d1-47fd-846e-799cc8d1d15d  2024-07-12 00:00:00   \n",
       "45823  01cdaa22-a912-496b-8287-87cd9e6b3b1a  2024-07-16 00:00:00   \n",
       "\n",
       "                 SCAN_DATE              STORE_NAME                   USER_ID  \\\n",
       "169    2024-07-17 06:37:09                   CARRS  6160f71f28dab1659e8b5616   \n",
       "6010   2024-07-16 21:05:18  DOLLAR TREE STORES INC  6363a9e6d8987029d637d6db   \n",
       "10457  2024-07-13 13:22:38                     CVS  63a4ef6bb5f32149b9d86e66   \n",
       "15621  2024-07-13 16:56:58                     CVS  62893be61ec71241a98013c3   \n",
       "25312  2024-07-13 13:22:38                     CVS  63a4ef6bb5f32149b9d86e66   \n",
       "28894  2024-07-13 16:56:58                     CVS  62893be61ec71241a98013c3   \n",
       "42636  2024-07-16 21:05:18  DOLLAR TREE STORES INC  6363a9e6d8987029d637d6db   \n",
       "45823  2024-07-17 06:37:09                   CARRS  6160f71f28dab1659e8b5616   \n",
       "\n",
       "       BARCODE  FINAL_QUANTITY  FINAL_SALE  \n",
       "169       -1.0             0.0        5.00  \n",
       "6010      -1.0             1.0         NaN  \n",
       "10457     -1.0             0.0        3.00  \n",
       "15621     -1.0             0.0        0.46  \n",
       "25312     -1.0             1.0        3.00  \n",
       "28894     -1.0             1.0        0.46  \n",
       "42636     -1.0             1.0        1.25  \n",
       "45823     -1.0             1.0        5.00  "
      ]
     },
     "execution_count": 124,
     "metadata": {},
     "output_type": "execute_result"
    }
   ],
   "source": [
    "df_transactions[df_transactions[\"BARCODE\"] <= 0]"
   ]
  },
  {
   "cell_type": "code",
   "execution_count": 125,
   "metadata": {},
   "outputs": [
    {
     "data": {
      "text/plain": [
       "<Axes: >"
      ]
     },
     "execution_count": 125,
     "metadata": {},
     "output_type": "execute_result"
    },
    {
     "data": {
      "image/png": "[encoded data removed]",
      "text/plain": [
       "<Figure size 640x480 with 1 Axes>"
      ]
     },
     "metadata": {},
     "output_type": "display_data"
    }
   ],
   "source": [
    "# plotting to check outliers\n",
    "df_transactions[[\"FINAL_QUANTITY\", \"FINAL_SALE\"]].plot()"
   ]
  },
  {
   "cell_type": "code",
   "execution_count": 126,
   "metadata": {},
   "outputs": [
    {
     "name": "stdout",
     "output_type": "stream",
     "text": [
      "total outliers based on FINAL_QUANTITY : 64\n",
      "total outliers based on FINAL_SALE : 891\n"
     ]
    }
   ],
   "source": [
    "# finding outliers wrt final quantity, taking anything above 2 std deviation as outlier\n",
    "\n",
    "print(\"total outliers based on FINAL_QUANTITY :\", df_transactions[df_transactions[\"FINAL_QUANTITY\"] > 5.0].shape[0])\n",
    "\n",
    "# finding outliers wrt final sale, taking anything above 2 std deviation as outlier\n",
    "\n",
    "print(\"total outliers based on FINAL_SALE :\", df_transactions[df_transactions[\"FINAL_SALE\"] > 18.0].shape[0])"
   ]
  },
  {
   "cell_type": "code",
   "execution_count": 127,
   "metadata": {},
   "outputs": [
    {
     "name": "stdout",
     "output_type": "stream",
     "text": [
      "Transactions dataframe\n",
      "Total transactions :  50000\n",
      "Total avialability :  95.435\n"
     ]
    },
    {
     "data": {
      "text/html": [
       "<div>\n",
       "<style scoped>\n",
       "    .dataframe tbody tr th:only-of-type {\n",
       "        vertical-align: middle;\n",
       "    }\n",
       "\n",
       "    .dataframe tbody tr th {\n",
       "        vertical-align: top;\n",
       "    }\n",
       "\n",
       "    .dataframe thead th {\n",
       "        text-align: right;\n",
       "    }\n",
       "</style>\n",
       "<table border=\"1\" class=\"dataframe\">\n",
       "  <thead>\n",
       "    <tr style=\"text-align: right;\">\n",
       "      <th></th>\n",
       "      <th>columns</th>\n",
       "      <th>total_missing</th>\n",
       "      <th>avialability</th>\n",
       "      <th>n_unique_values</th>\n",
       "    </tr>\n",
       "  </thead>\n",
       "  <tbody>\n",
       "    <tr>\n",
       "      <th>0</th>\n",
       "      <td>RECEIPT_ID</td>\n",
       "      <td>0</td>\n",
       "      <td>100.00</td>\n",
       "      <td>24440</td>\n",
       "    </tr>\n",
       "    <tr>\n",
       "      <th>1</th>\n",
       "      <td>PURCHASE_DATE</td>\n",
       "      <td>0</td>\n",
       "      <td>100.00</td>\n",
       "      <td>89</td>\n",
       "    </tr>\n",
       "    <tr>\n",
       "      <th>2</th>\n",
       "      <td>SCAN_DATE</td>\n",
       "      <td>0</td>\n",
       "      <td>100.00</td>\n",
       "      <td>24374</td>\n",
       "    </tr>\n",
       "    <tr>\n",
       "      <th>3</th>\n",
       "      <td>STORE_NAME</td>\n",
       "      <td>0</td>\n",
       "      <td>100.00</td>\n",
       "      <td>954</td>\n",
       "    </tr>\n",
       "    <tr>\n",
       "      <th>4</th>\n",
       "      <td>USER_ID</td>\n",
       "      <td>0</td>\n",
       "      <td>100.00</td>\n",
       "      <td>17694</td>\n",
       "    </tr>\n",
       "    <tr>\n",
       "      <th>5</th>\n",
       "      <td>BARCODE</td>\n",
       "      <td>5762</td>\n",
       "      <td>88.48</td>\n",
       "      <td>11027</td>\n",
       "    </tr>\n",
       "    <tr>\n",
       "      <th>6</th>\n",
       "      <td>FINAL_QUANTITY</td>\n",
       "      <td>0</td>\n",
       "      <td>100.00</td>\n",
       "      <td>87</td>\n",
       "    </tr>\n",
       "    <tr>\n",
       "      <th>7</th>\n",
       "      <td>FINAL_SALE</td>\n",
       "      <td>12500</td>\n",
       "      <td>75.00</td>\n",
       "      <td>1434</td>\n",
       "    </tr>\n",
       "  </tbody>\n",
       "</table>\n",
       "</div>"
      ],
      "text/plain": [
       "          columns  total_missing  avialability  n_unique_values\n",
       "0      RECEIPT_ID              0        100.00            24440\n",
       "1   PURCHASE_DATE              0        100.00               89\n",
       "2       SCAN_DATE              0        100.00            24374\n",
       "3      STORE_NAME              0        100.00              954\n",
       "4         USER_ID              0        100.00            17694\n",
       "5         BARCODE           5762         88.48            11027\n",
       "6  FINAL_QUANTITY              0        100.00               87\n",
       "7      FINAL_SALE          12500         75.00             1434"
      ]
     },
     "execution_count": 127,
     "metadata": {},
     "output_type": "execute_result"
    }
   ],
   "source": [
    "# checking how much of data is missing / avaialble for transactions table, also unique values in each column and their count\n",
    "\n",
    "print(\"Transactions dataframe\")\n",
    "total_transactions_records = df_transactions.shape[0]\n",
    "print(\"Total transactions : \", total_transactions_records)\n",
    "\n",
    "transactions_data ={\n",
    "    \"columns\":[],\n",
    "    \"total_missing\":[],\n",
    "    \"avialability\":[],\n",
    "    \"n_unique_values\": []\n",
    "}\n",
    "\n",
    "for col in df_transactions.columns:\n",
    "    transactions_data[\"columns\"].append(col)\n",
    "    transactions_data[\"total_missing\"].append(df_transactions[col].isna().sum())\n",
    "    transactions_data[\"avialability\"].append(round(((total_transactions_records - df_transactions[col].isna().sum())/total_transactions_records)*100,2))\n",
    "    transactions_data[\"n_unique_values\"].append(df_transactions[col].nunique())\n",
    "\n",
    "transactions_data_df = pd.DataFrame(transactions_data)\n",
    "\n",
    "print(\"Total avialability : \", transactions_data_df[\"avialability\"].mean())\n",
    "\n",
    "transactions_data_df"
   ]
  },
  {
   "cell_type": "code",
   "execution_count": 128,
   "metadata": {},
   "outputs": [
    {
     "data": {
      "image/png": "[encoded data removed]",
      "text/plain": [
       "<Figure size 1000x400 with 1 Axes>"
      ]
     },
     "metadata": {},
     "output_type": "display_data"
    }
   ],
   "source": [
    "# plotting avaialability for better visualization\n",
    "\n",
    "axt = transactions_data_df.set_index(\"columns\")[\"avialability\"].plot(figsize=(10,4), kind = 'bar', rot=0)\n",
    "axt.set_ylabel(\"Avialability %\")\n",
    "axt.set_xlabel(\"Columns\")\n",
    "\n",
    "for p in axt.patches:\n",
    "    axt.annotate(str(p.get_height()), (p.get_x() + p.get_width() / 2., p.get_height()), ha='center', va='bottom')\n",
    "\n",
    "plt.show()"
   ]
  },
  {
   "cell_type": "code",
   "execution_count": 129,
   "metadata": {},
   "outputs": [
    {
     "data": {
      "text/plain": [
       "2024-09-08 00:00:002024-09-08 20:00:42KROGER614f7e8081627974a57c8a9e1.00.89         6\n",
       "2024-09-08 00:00:002024-09-08 19:39:01WALMART638e9ae602a4e512e0585b591.01.48        4\n",
       "2024-09-06 00:00:002024-09-07 14:52:46HY-VEE663d07d0b7b24d45d93a9f361.01.48         4\n",
       "2024-09-07 00:00:002024-09-07 17:30:53FOOD LION5ddbca50ab7b8c53a76aeee31.01.0       4\n",
       "2024-09-07 00:00:002024-09-08 20:44:36SHOP RITE5ccadcdc3267801e97fa54da1.09.99      3\n",
       "                                                                                   ..\n",
       "2024-08-10 00:00:002024-08-19 20:50:36HY-VEE6626c422451fea1e8ceabd261.06.99         2\n",
       "2024-07-26 00:00:002024-07-29 20:40:25PUBLIX60cff0e7e265b446d62200b21.04.79         2\n",
       "2024-09-07 00:00:002024-09-08 14:05:53KROGER6535659da65d634c1c2a44e71.01.25         2\n",
       "2024-07-21 00:00:002024-07-21 21:01:57STOP & SHOP63d8023a51bfe6be492908bc1.00.39    2\n",
       "2024-07-27 00:00:002024-07-30 09:19:00ALDI5d6072320d1bff58a8686adc1.00.99           2\n",
       "Name: all_sum, Length: 149, dtype: int64"
      ]
     },
     "execution_count": 129,
     "metadata": {},
     "output_type": "execute_result"
    }
   ],
   "source": [
    "# checking for duplicate records of trasaction\n",
    "df_transactions[\"all_sum\"] = df_transactions[\"PURCHASE_DATE\"].astype(str)+df_transactions[\"SCAN_DATE\"].astype(str)+df_transactions[\"STORE_NAME\"].astype(str)+df_transactions[\"USER_ID\"].astype(str)+df_transactions[\"FINAL_QUANTITY\"].astype(str)+df_transactions[\"FINAL_SALE\"].astype(str)\n",
    "df_transactions_duplicate_rows = df_transactions[df_transactions.duplicated(keep=False) == True]\n",
    "df_transactions_duplicate_rows[\"all_sum\"].value_counts()\n",
    "\n",
    "# there are 149 duplicate rows in transaction table"
   ]
  },
  {
   "cell_type": "code",
   "execution_count": 130,
   "metadata": {},
   "outputs": [
    {
     "data": {
      "text/html": [
       "<div>\n",
       "<style scoped>\n",
       "    .dataframe tbody tr th:only-of-type {\n",
       "        vertical-align: middle;\n",
       "    }\n",
       "\n",
       "    .dataframe tbody tr th {\n",
       "        vertical-align: top;\n",
       "    }\n",
       "\n",
       "    .dataframe thead th {\n",
       "        text-align: right;\n",
       "    }\n",
       "</style>\n",
       "<table border=\"1\" class=\"dataframe\">\n",
       "  <thead>\n",
       "    <tr style=\"text-align: right;\">\n",
       "      <th></th>\n",
       "      <th>RECEIPT_ID</th>\n",
       "      <th>PURCHASE_DATE</th>\n",
       "      <th>SCAN_DATE</th>\n",
       "      <th>STORE_NAME</th>\n",
       "      <th>USER_ID</th>\n",
       "      <th>BARCODE</th>\n",
       "      <th>FINAL_QUANTITY</th>\n",
       "      <th>FINAL_SALE</th>\n",
       "      <th>all_sum</th>\n",
       "    </tr>\n",
       "  </thead>\n",
       "  <tbody>\n",
       "    <tr>\n",
       "      <th>39703</th>\n",
       "      <td>bedac253-2256-461b-96af-267748e6cecf</td>\n",
       "      <td>2024-09-08 00:00:00</td>\n",
       "      <td>2024-09-08 20:00:42</td>\n",
       "      <td>KROGER</td>\n",
       "      <td>614f7e8081627974a57c8a9e</td>\n",
       "      <td>1.111012e+10</td>\n",
       "      <td>1.0</td>\n",
       "      <td>0.89</td>\n",
       "      <td>2024-09-08 00:00:002024-09-08 20:00:42KROGER61...</td>\n",
       "    </tr>\n",
       "    <tr>\n",
       "      <th>39704</th>\n",
       "      <td>bedac253-2256-461b-96af-267748e6cecf</td>\n",
       "      <td>2024-09-08 00:00:00</td>\n",
       "      <td>2024-09-08 20:00:42</td>\n",
       "      <td>KROGER</td>\n",
       "      <td>614f7e8081627974a57c8a9e</td>\n",
       "      <td>1.111012e+10</td>\n",
       "      <td>1.0</td>\n",
       "      <td>0.89</td>\n",
       "      <td>2024-09-08 00:00:002024-09-08 20:00:42KROGER61...</td>\n",
       "    </tr>\n",
       "    <tr>\n",
       "      <th>39705</th>\n",
       "      <td>bedac253-2256-461b-96af-267748e6cecf</td>\n",
       "      <td>2024-09-08 00:00:00</td>\n",
       "      <td>2024-09-08 20:00:42</td>\n",
       "      <td>KROGER</td>\n",
       "      <td>614f7e8081627974a57c8a9e</td>\n",
       "      <td>1.111012e+10</td>\n",
       "      <td>1.0</td>\n",
       "      <td>0.89</td>\n",
       "      <td>2024-09-08 00:00:002024-09-08 20:00:42KROGER61...</td>\n",
       "    </tr>\n",
       "    <tr>\n",
       "      <th>39706</th>\n",
       "      <td>bedac253-2256-461b-96af-267748e6cecf</td>\n",
       "      <td>2024-09-08 00:00:00</td>\n",
       "      <td>2024-09-08 20:00:42</td>\n",
       "      <td>KROGER</td>\n",
       "      <td>614f7e8081627974a57c8a9e</td>\n",
       "      <td>1.111012e+10</td>\n",
       "      <td>1.0</td>\n",
       "      <td>0.89</td>\n",
       "      <td>2024-09-08 00:00:002024-09-08 20:00:42KROGER61...</td>\n",
       "    </tr>\n",
       "    <tr>\n",
       "      <th>39707</th>\n",
       "      <td>bedac253-2256-461b-96af-267748e6cecf</td>\n",
       "      <td>2024-09-08 00:00:00</td>\n",
       "      <td>2024-09-08 20:00:42</td>\n",
       "      <td>KROGER</td>\n",
       "      <td>614f7e8081627974a57c8a9e</td>\n",
       "      <td>1.111012e+10</td>\n",
       "      <td>1.0</td>\n",
       "      <td>0.89</td>\n",
       "      <td>2024-09-08 00:00:002024-09-08 20:00:42KROGER61...</td>\n",
       "    </tr>\n",
       "    <tr>\n",
       "      <th>39708</th>\n",
       "      <td>bedac253-2256-461b-96af-267748e6cecf</td>\n",
       "      <td>2024-09-08 00:00:00</td>\n",
       "      <td>2024-09-08 20:00:42</td>\n",
       "      <td>KROGER</td>\n",
       "      <td>614f7e8081627974a57c8a9e</td>\n",
       "      <td>1.111012e+10</td>\n",
       "      <td>1.0</td>\n",
       "      <td>0.89</td>\n",
       "      <td>2024-09-08 00:00:002024-09-08 20:00:42KROGER61...</td>\n",
       "    </tr>\n",
       "  </tbody>\n",
       "</table>\n",
       "</div>"
      ],
      "text/plain": [
       "                                 RECEIPT_ID        PURCHASE_DATE  \\\n",
       "39703  bedac253-2256-461b-96af-267748e6cecf  2024-09-08 00:00:00   \n",
       "39704  bedac253-2256-461b-96af-267748e6cecf  2024-09-08 00:00:00   \n",
       "39705  bedac253-2256-461b-96af-267748e6cecf  2024-09-08 00:00:00   \n",
       "39706  bedac253-2256-461b-96af-267748e6cecf  2024-09-08 00:00:00   \n",
       "39707  bedac253-2256-461b-96af-267748e6cecf  2024-09-08 00:00:00   \n",
       "39708  bedac253-2256-461b-96af-267748e6cecf  2024-09-08 00:00:00   \n",
       "\n",
       "                 SCAN_DATE STORE_NAME                   USER_ID       BARCODE  \\\n",
       "39703  2024-09-08 20:00:42     KROGER  614f7e8081627974a57c8a9e  1.111012e+10   \n",
       "39704  2024-09-08 20:00:42     KROGER  614f7e8081627974a57c8a9e  1.111012e+10   \n",
       "39705  2024-09-08 20:00:42     KROGER  614f7e8081627974a57c8a9e  1.111012e+10   \n",
       "39706  2024-09-08 20:00:42     KROGER  614f7e8081627974a57c8a9e  1.111012e+10   \n",
       "39707  2024-09-08 20:00:42     KROGER  614f7e8081627974a57c8a9e  1.111012e+10   \n",
       "39708  2024-09-08 20:00:42     KROGER  614f7e8081627974a57c8a9e  1.111012e+10   \n",
       "\n",
       "       FINAL_QUANTITY  FINAL_SALE  \\\n",
       "39703             1.0        0.89   \n",
       "39704             1.0        0.89   \n",
       "39705             1.0        0.89   \n",
       "39706             1.0        0.89   \n",
       "39707             1.0        0.89   \n",
       "39708             1.0        0.89   \n",
       "\n",
       "                                                 all_sum  \n",
       "39703  2024-09-08 00:00:002024-09-08 20:00:42KROGER61...  \n",
       "39704  2024-09-08 00:00:002024-09-08 20:00:42KROGER61...  \n",
       "39705  2024-09-08 00:00:002024-09-08 20:00:42KROGER61...  \n",
       "39706  2024-09-08 00:00:002024-09-08 20:00:42KROGER61...  \n",
       "39707  2024-09-08 00:00:002024-09-08 20:00:42KROGER61...  \n",
       "39708  2024-09-08 00:00:002024-09-08 20:00:42KROGER61...  "
      ]
     },
     "execution_count": 130,
     "metadata": {},
     "output_type": "execute_result"
    }
   ],
   "source": [
    "# example of duplicate transactions\n",
    "df_transactions[df_transactions[\"all_sum\"] == \"2024-09-08 00:00:002024-09-08 20:00:42KROGER614f7e8081627974a57c8a9e1.00.89\"]"
   ]
  },
  {
   "cell_type": "code",
   "execution_count": 131,
   "metadata": {},
   "outputs": [
    {
     "data": {
      "text/plain": [
       "0        0 days 14:19:06\n",
       "1        0 days 09:50:24\n",
       "2        1 days 15:38:56\n",
       "3        1 days 11:03:37\n",
       "4        1 days 15:56:43\n",
       "              ...       \n",
       "49995   10 days 14:13:08\n",
       "49996    0 days 18:15:56\n",
       "49997    0 days 08:03:25\n",
       "49998    0 days 19:57:32\n",
       "49999    0 days 15:30:07\n",
       "Name: Purchase_Scan_Diff, Length: 50000, dtype: timedelta64[ns]"
      ]
     },
     "execution_count": 131,
     "metadata": {},
     "output_type": "execute_result"
    }
   ],
   "source": [
    "# checking for scan and purchase date validity\n",
    "df_transactions[\"PURCHASE_DATE\"] = pd.to_datetime(df_transactions[\"PURCHASE_DATE\"]).dt.tz_localize(None)\n",
    "df_transactions[\"SCAN_DATE\"] = pd.to_datetime(df_transactions[\"SCAN_DATE\"]).dt.tz_localize(None)\n",
    "\n",
    "df_transactions[\"Purchase_Scan_Diff\"] = df_transactions[\"SCAN_DATE\"] - df_transactions[\"PURCHASE_DATE\"]\n",
    "\n",
    "df_transactions[\"Purchase_Scan_Diff\"]"
   ]
  },
  {
   "cell_type": "code",
   "execution_count": 132,
   "metadata": {},
   "outputs": [
    {
     "data": {
      "text/html": [
       "<div>\n",
       "<style scoped>\n",
       "    .dataframe tbody tr th:only-of-type {\n",
       "        vertical-align: middle;\n",
       "    }\n",
       "\n",
       "    .dataframe tbody tr th {\n",
       "        vertical-align: top;\n",
       "    }\n",
       "\n",
       "    .dataframe thead th {\n",
       "        text-align: right;\n",
       "    }\n",
       "</style>\n",
       "<table border=\"1\" class=\"dataframe\">\n",
       "  <thead>\n",
       "    <tr style=\"text-align: right;\">\n",
       "      <th></th>\n",
       "      <th>RECEIPT_ID</th>\n",
       "      <th>PURCHASE_DATE</th>\n",
       "      <th>SCAN_DATE</th>\n",
       "      <th>STORE_NAME</th>\n",
       "      <th>USER_ID</th>\n",
       "      <th>BARCODE</th>\n",
       "      <th>FINAL_QUANTITY</th>\n",
       "      <th>FINAL_SALE</th>\n",
       "      <th>all_sum</th>\n",
       "      <th>Purchase_Scan_Diff</th>\n",
       "    </tr>\n",
       "  </thead>\n",
       "  <tbody>\n",
       "    <tr>\n",
       "      <th>45682</th>\n",
       "      <td>d6dfa1dd-96c7-4e8c-9465-3dbc3974ec00</td>\n",
       "      <td>2024-08-21</td>\n",
       "      <td>2024-08-20 23:10:57</td>\n",
       "      <td>WALMART</td>\n",
       "      <td>6010acf151e5ec12ece67d20</td>\n",
       "      <td>4.400003e+10</td>\n",
       "      <td>1.0</td>\n",
       "      <td>4.78</td>\n",
       "      <td>2024-08-21 00:00:002024-08-20 23:10:57WALMART6...</td>\n",
       "      <td>-1 days +23:10:57</td>\n",
       "    </tr>\n",
       "    <tr>\n",
       "      <th>20927</th>\n",
       "      <td>d6dfa1dd-96c7-4e8c-9465-3dbc3974ec00</td>\n",
       "      <td>2024-08-21</td>\n",
       "      <td>2024-08-20 23:10:57</td>\n",
       "      <td>WALMART</td>\n",
       "      <td>6010acf151e5ec12ece67d20</td>\n",
       "      <td>4.400003e+10</td>\n",
       "      <td>0.0</td>\n",
       "      <td>4.78</td>\n",
       "      <td>2024-08-21 00:00:002024-08-20 23:10:57WALMART6...</td>\n",
       "      <td>-1 days +23:10:57</td>\n",
       "    </tr>\n",
       "    <tr>\n",
       "      <th>35775</th>\n",
       "      <td>6148118d-ddf5-45da-8f39-42e6702f5373</td>\n",
       "      <td>2024-06-30</td>\n",
       "      <td>2024-06-29 23:00:12</td>\n",
       "      <td>WALMART</td>\n",
       "      <td>63c8b97a39c79dcbdd5cf378</td>\n",
       "      <td>7.680852e+10</td>\n",
       "      <td>1.0</td>\n",
       "      <td>1.84</td>\n",
       "      <td>2024-06-30 00:00:002024-06-29 23:00:12WALMART6...</td>\n",
       "      <td>-1 days +23:00:12</td>\n",
       "    </tr>\n",
       "    <tr>\n",
       "      <th>9448</th>\n",
       "      <td>6148118d-ddf5-45da-8f39-42e6702f5373</td>\n",
       "      <td>2024-06-30</td>\n",
       "      <td>2024-06-29 23:00:12</td>\n",
       "      <td>WALMART</td>\n",
       "      <td>63c8b97a39c79dcbdd5cf378</td>\n",
       "      <td>7.680852e+10</td>\n",
       "      <td>1.0</td>\n",
       "      <td>NaN</td>\n",
       "      <td>2024-06-30 00:00:002024-06-29 23:00:12WALMART6...</td>\n",
       "      <td>-1 days +23:00:12</td>\n",
       "    </tr>\n",
       "    <tr>\n",
       "      <th>7271</th>\n",
       "      <td>4a471204-c9ea-4c77-a4f9-743261588f71</td>\n",
       "      <td>2024-07-25</td>\n",
       "      <td>2024-07-24 22:50:22</td>\n",
       "      <td>WALMART</td>\n",
       "      <td>5efcb5735d244611f49b09b4</td>\n",
       "      <td>7.547611e+10</td>\n",
       "      <td>0.0</td>\n",
       "      <td>3.38</td>\n",
       "      <td>2024-07-25 00:00:002024-07-24 22:50:22WALMART5...</td>\n",
       "      <td>-1 days +22:50:22</td>\n",
       "    </tr>\n",
       "    <tr>\n",
       "      <th>...</th>\n",
       "      <td>...</td>\n",
       "      <td>...</td>\n",
       "      <td>...</td>\n",
       "      <td>...</td>\n",
       "      <td>...</td>\n",
       "      <td>...</td>\n",
       "      <td>...</td>\n",
       "      <td>...</td>\n",
       "      <td>...</td>\n",
       "      <td>...</td>\n",
       "    </tr>\n",
       "    <tr>\n",
       "      <th>28820</th>\n",
       "      <td>9abbb4f5-ac03-465f-97a2-13158fdf4043</td>\n",
       "      <td>2024-06-16</td>\n",
       "      <td>2024-06-15 08:11:23</td>\n",
       "      <td>CVS</td>\n",
       "      <td>62fbe32f92710024ad021b5e</td>\n",
       "      <td>5.042833e+10</td>\n",
       "      <td>1.0</td>\n",
       "      <td>5.99</td>\n",
       "      <td>2024-06-16 00:00:002024-06-15 08:11:23CVS62fbe...</td>\n",
       "      <td>-1 days +08:11:23</td>\n",
       "    </tr>\n",
       "    <tr>\n",
       "      <th>23771</th>\n",
       "      <td>f37e31e8-e782-44f5-9d62-6146a7fce08f</td>\n",
       "      <td>2024-06-22</td>\n",
       "      <td>2024-06-21 07:59:33</td>\n",
       "      <td>DOLLAR GENERAL STORE</td>\n",
       "      <td>60ef8d91006ff700af8d2849</td>\n",
       "      <td>4.116701e+10</td>\n",
       "      <td>0.0</td>\n",
       "      <td>5.35</td>\n",
       "      <td>2024-06-22 00:00:002024-06-21 07:59:33DOLLAR G...</td>\n",
       "      <td>-1 days +07:59:33</td>\n",
       "    </tr>\n",
       "    <tr>\n",
       "      <th>39693</th>\n",
       "      <td>f37e31e8-e782-44f5-9d62-6146a7fce08f</td>\n",
       "      <td>2024-06-22</td>\n",
       "      <td>2024-06-21 07:59:33</td>\n",
       "      <td>DOLLAR GENERAL STORE</td>\n",
       "      <td>60ef8d91006ff700af8d2849</td>\n",
       "      <td>4.116701e+10</td>\n",
       "      <td>1.0</td>\n",
       "      <td>5.35</td>\n",
       "      <td>2024-06-22 00:00:002024-06-21 07:59:33DOLLAR G...</td>\n",
       "      <td>-1 days +07:59:33</td>\n",
       "    </tr>\n",
       "    <tr>\n",
       "      <th>33078</th>\n",
       "      <td>8c42b6ad-696c-4057-955a-039129071bae</td>\n",
       "      <td>2024-07-09</td>\n",
       "      <td>2024-07-08 05:45:31</td>\n",
       "      <td>KROGER</td>\n",
       "      <td>5f5c0cdb34682e15e13cb8bc</td>\n",
       "      <td>1.111009e+10</td>\n",
       "      <td>1.0</td>\n",
       "      <td>2.99</td>\n",
       "      <td>2024-07-09 00:00:002024-07-08 05:45:31KROGER5f...</td>\n",
       "      <td>-1 days +05:45:31</td>\n",
       "    </tr>\n",
       "    <tr>\n",
       "      <th>13685</th>\n",
       "      <td>8c42b6ad-696c-4057-955a-039129071bae</td>\n",
       "      <td>2024-07-09</td>\n",
       "      <td>2024-07-08 05:45:31</td>\n",
       "      <td>KROGER</td>\n",
       "      <td>5f5c0cdb34682e15e13cb8bc</td>\n",
       "      <td>1.111009e+10</td>\n",
       "      <td>0.0</td>\n",
       "      <td>2.99</td>\n",
       "      <td>2024-07-09 00:00:002024-07-08 05:45:31KROGER5f...</td>\n",
       "      <td>-1 days +05:45:31</td>\n",
       "    </tr>\n",
       "  </tbody>\n",
       "</table>\n",
       "<p>94 rows × 10 columns</p>\n",
       "</div>"
      ],
      "text/plain": [
       "                                 RECEIPT_ID PURCHASE_DATE           SCAN_DATE  \\\n",
       "45682  d6dfa1dd-96c7-4e8c-9465-3dbc3974ec00    2024-08-21 2024-08-20 23:10:57   \n",
       "20927  d6dfa1dd-96c7-4e8c-9465-3dbc3974ec00    2024-08-21 2024-08-20 23:10:57   \n",
       "35775  6148118d-ddf5-45da-8f39-42e6702f5373    2024-06-30 2024-06-29 23:00:12   \n",
       "9448   6148118d-ddf5-45da-8f39-42e6702f5373    2024-06-30 2024-06-29 23:00:12   \n",
       "7271   4a471204-c9ea-4c77-a4f9-743261588f71    2024-07-25 2024-07-24 22:50:22   \n",
       "...                                     ...           ...                 ...   \n",
       "28820  9abbb4f5-ac03-465f-97a2-13158fdf4043    2024-06-16 2024-06-15 08:11:23   \n",
       "23771  f37e31e8-e782-44f5-9d62-6146a7fce08f    2024-06-22 2024-06-21 07:59:33   \n",
       "39693  f37e31e8-e782-44f5-9d62-6146a7fce08f    2024-06-22 2024-06-21 07:59:33   \n",
       "33078  8c42b6ad-696c-4057-955a-039129071bae    2024-07-09 2024-07-08 05:45:31   \n",
       "13685  8c42b6ad-696c-4057-955a-039129071bae    2024-07-09 2024-07-08 05:45:31   \n",
       "\n",
       "                 STORE_NAME                   USER_ID       BARCODE  \\\n",
       "45682               WALMART  6010acf151e5ec12ece67d20  4.400003e+10   \n",
       "20927               WALMART  6010acf151e5ec12ece67d20  4.400003e+10   \n",
       "35775               WALMART  63c8b97a39c79dcbdd5cf378  7.680852e+10   \n",
       "9448                WALMART  63c8b97a39c79dcbdd5cf378  7.680852e+10   \n",
       "7271                WALMART  5efcb5735d244611f49b09b4  7.547611e+10   \n",
       "...                     ...                       ...           ...   \n",
       "28820                   CVS  62fbe32f92710024ad021b5e  5.042833e+10   \n",
       "23771  DOLLAR GENERAL STORE  60ef8d91006ff700af8d2849  4.116701e+10   \n",
       "39693  DOLLAR GENERAL STORE  60ef8d91006ff700af8d2849  4.116701e+10   \n",
       "33078                KROGER  5f5c0cdb34682e15e13cb8bc  1.111009e+10   \n",
       "13685                KROGER  5f5c0cdb34682e15e13cb8bc  1.111009e+10   \n",
       "\n",
       "       FINAL_QUANTITY  FINAL_SALE  \\\n",
       "45682             1.0        4.78   \n",
       "20927             0.0        4.78   \n",
       "35775             1.0        1.84   \n",
       "9448              1.0         NaN   \n",
       "7271              0.0        3.38   \n",
       "...               ...         ...   \n",
       "28820             1.0        5.99   \n",
       "23771             0.0        5.35   \n",
       "39693             1.0        5.35   \n",
       "33078             1.0        2.99   \n",
       "13685             0.0        2.99   \n",
       "\n",
       "                                                 all_sum Purchase_Scan_Diff  \n",
       "45682  2024-08-21 00:00:002024-08-20 23:10:57WALMART6...  -1 days +23:10:57  \n",
       "20927  2024-08-21 00:00:002024-08-20 23:10:57WALMART6...  -1 days +23:10:57  \n",
       "35775  2024-06-30 00:00:002024-06-29 23:00:12WALMART6...  -1 days +23:00:12  \n",
       "9448   2024-06-30 00:00:002024-06-29 23:00:12WALMART6...  -1 days +23:00:12  \n",
       "7271   2024-07-25 00:00:002024-07-24 22:50:22WALMART5...  -1 days +22:50:22  \n",
       "...                                                  ...                ...  \n",
       "28820  2024-06-16 00:00:002024-06-15 08:11:23CVS62fbe...  -1 days +08:11:23  \n",
       "23771  2024-06-22 00:00:002024-06-21 07:59:33DOLLAR G...  -1 days +07:59:33  \n",
       "39693  2024-06-22 00:00:002024-06-21 07:59:33DOLLAR G...  -1 days +07:59:33  \n",
       "33078  2024-07-09 00:00:002024-07-08 05:45:31KROGER5f...  -1 days +05:45:31  \n",
       "13685  2024-07-09 00:00:002024-07-08 05:45:31KROGER5f...  -1 days +05:45:31  \n",
       "\n",
       "[94 rows x 10 columns]"
      ]
     },
     "execution_count": 132,
     "metadata": {},
     "output_type": "execute_result"
    }
   ],
   "source": [
    "# need more understanding on how the time is captured\n",
    "# found 94 rows where purchase date is after scan date\n",
    "df_transactions[df_transactions[\"PURCHASE_DATE\"] > df_transactions[\"SCAN_DATE\"]].sort_values(by=[\"Purchase_Scan_Diff\"], ascending=[False])"
   ]
  },
  {
   "cell_type": "code",
   "execution_count": null,
   "metadata": {},
   "outputs": [],
   "source": []
  },
  {
   "attachments": {},
   "cell_type": "markdown",
   "metadata": {},
   "source": [
    "### Exploring User Takehome table for data quality issues"
   ]
  },
  {
   "cell_type": "code",
   "execution_count": 5,
   "metadata": {},
   "outputs": [
    {
     "data": {
      "text/html": [
       "<div>\n",
       "<style scoped>\n",
       "    .dataframe tbody tr th:only-of-type {\n",
       "        vertical-align: middle;\n",
       "    }\n",
       "\n",
       "    .dataframe tbody tr th {\n",
       "        vertical-align: top;\n",
       "    }\n",
       "\n",
       "    .dataframe thead th {\n",
       "        text-align: right;\n",
       "    }\n",
       "</style>\n",
       "<table border=\"1\" class=\"dataframe\">\n",
       "  <thead>\n",
       "    <tr style=\"text-align: right;\">\n",
       "      <th></th>\n",
       "      <th>ID</th>\n",
       "      <th>CREATED_DATE</th>\n",
       "      <th>BIRTH_DATE</th>\n",
       "      <th>STATE</th>\n",
       "      <th>LANGUAGE</th>\n",
       "      <th>GENDER</th>\n",
       "    </tr>\n",
       "  </thead>\n",
       "  <tbody>\n",
       "    <tr>\n",
       "      <th>0</th>\n",
       "      <td>5ef3b4f17053ab141787697d</td>\n",
       "      <td>2020-06-24 20:17:54.000 Z</td>\n",
       "      <td>2000-08-11 00:00:00.000 Z</td>\n",
       "      <td>CA</td>\n",
       "      <td>es-419</td>\n",
       "      <td>female</td>\n",
       "    </tr>\n",
       "    <tr>\n",
       "      <th>1</th>\n",
       "      <td>5ff220d383fcfc12622b96bc</td>\n",
       "      <td>2021-01-03 19:53:55.000 Z</td>\n",
       "      <td>2001-09-24 04:00:00.000 Z</td>\n",
       "      <td>PA</td>\n",
       "      <td>en</td>\n",
       "      <td>female</td>\n",
       "    </tr>\n",
       "    <tr>\n",
       "      <th>2</th>\n",
       "      <td>6477950aa55bb77a0e27ee10</td>\n",
       "      <td>2023-05-31 18:42:18.000 Z</td>\n",
       "      <td>1994-10-28 00:00:00.000 Z</td>\n",
       "      <td>FL</td>\n",
       "      <td>es-419</td>\n",
       "      <td>female</td>\n",
       "    </tr>\n",
       "    <tr>\n",
       "      <th>3</th>\n",
       "      <td>658a306e99b40f103b63ccf8</td>\n",
       "      <td>2023-12-26 01:46:22.000 Z</td>\n",
       "      <td>NaN</td>\n",
       "      <td>NC</td>\n",
       "      <td>en</td>\n",
       "      <td>NaN</td>\n",
       "    </tr>\n",
       "    <tr>\n",
       "      <th>4</th>\n",
       "      <td>653cf5d6a225ea102b7ecdc2</td>\n",
       "      <td>2023-10-28 11:51:50.000 Z</td>\n",
       "      <td>1972-03-19 00:00:00.000 Z</td>\n",
       "      <td>PA</td>\n",
       "      <td>en</td>\n",
       "      <td>female</td>\n",
       "    </tr>\n",
       "  </tbody>\n",
       "</table>\n",
       "</div>"
      ],
      "text/plain": [
       "                         ID               CREATED_DATE  \\\n",
       "0  5ef3b4f17053ab141787697d  2020-06-24 20:17:54.000 Z   \n",
       "1  5ff220d383fcfc12622b96bc  2021-01-03 19:53:55.000 Z   \n",
       "2  6477950aa55bb77a0e27ee10  2023-05-31 18:42:18.000 Z   \n",
       "3  658a306e99b40f103b63ccf8  2023-12-26 01:46:22.000 Z   \n",
       "4  653cf5d6a225ea102b7ecdc2  2023-10-28 11:51:50.000 Z   \n",
       "\n",
       "                  BIRTH_DATE STATE LANGUAGE  GENDER  \n",
       "0  2000-08-11 00:00:00.000 Z    CA   es-419  female  \n",
       "1  2001-09-24 04:00:00.000 Z    PA       en  female  \n",
       "2  1994-10-28 00:00:00.000 Z    FL   es-419  female  \n",
       "3                        NaN    NC       en     NaN  \n",
       "4  1972-03-19 00:00:00.000 Z    PA       en  female  "
      ]
     },
     "execution_count": 5,
     "metadata": {},
     "output_type": "execute_result"
    }
   ],
   "source": [
    "df_users = pd.read_csv(\"../data/raw/USER_TAKEHOME.csv\")\n",
    "df_users.head()"
   ]
  },
  {
   "cell_type": "code",
   "execution_count": 6,
   "metadata": {},
   "outputs": [
    {
     "data": {
      "text/plain": [
       "ID              object\n",
       "CREATED_DATE    object\n",
       "BIRTH_DATE      object\n",
       "STATE           object\n",
       "LANGUAGE        object\n",
       "GENDER          object\n",
       "dtype: object"
      ]
     },
     "execution_count": 6,
     "metadata": {},
     "output_type": "execute_result"
    }
   ],
   "source": [
    "df_users[\"ID\"] = df_users[\"ID\"].str.strip()\n",
    "df_users[\"STATE\"] = df_users[\"STATE\"].str.strip()\n",
    "df_users[\"LANGUAGE\"] = df_users[\"LANGUAGE\"].str.strip()\n",
    "df_users[\"GENDER\"] = df_users[\"GENDER\"].str.strip()\n",
    "\n",
    "df_users.dtypes"
   ]
  },
  {
   "cell_type": "code",
   "execution_count": 7,
   "metadata": {},
   "outputs": [
    {
     "data": {
      "text/html": [
       "<div>\n",
       "<style scoped>\n",
       "    .dataframe tbody tr th:only-of-type {\n",
       "        vertical-align: middle;\n",
       "    }\n",
       "\n",
       "    .dataframe tbody tr th {\n",
       "        vertical-align: top;\n",
       "    }\n",
       "\n",
       "    .dataframe thead th {\n",
       "        text-align: right;\n",
       "    }\n",
       "</style>\n",
       "<table border=\"1\" class=\"dataframe\">\n",
       "  <thead>\n",
       "    <tr style=\"text-align: right;\">\n",
       "      <th></th>\n",
       "      <th>ID</th>\n",
       "      <th>CREATED_DATE</th>\n",
       "      <th>BIRTH_DATE</th>\n",
       "      <th>STATE</th>\n",
       "      <th>LANGUAGE</th>\n",
       "      <th>GENDER</th>\n",
       "    </tr>\n",
       "  </thead>\n",
       "  <tbody>\n",
       "    <tr>\n",
       "      <th>0</th>\n",
       "      <td>5ef3b4f17053ab141787697d</td>\n",
       "      <td>2020-06-24 20:17:54</td>\n",
       "      <td>2000-08-11 00:00:00</td>\n",
       "      <td>CA</td>\n",
       "      <td>es-419</td>\n",
       "      <td>female</td>\n",
       "    </tr>\n",
       "    <tr>\n",
       "      <th>1</th>\n",
       "      <td>5ff220d383fcfc12622b96bc</td>\n",
       "      <td>2021-01-03 19:53:55</td>\n",
       "      <td>2001-09-24 04:00:00</td>\n",
       "      <td>PA</td>\n",
       "      <td>en</td>\n",
       "      <td>female</td>\n",
       "    </tr>\n",
       "    <tr>\n",
       "      <th>2</th>\n",
       "      <td>6477950aa55bb77a0e27ee10</td>\n",
       "      <td>2023-05-31 18:42:18</td>\n",
       "      <td>1994-10-28 00:00:00</td>\n",
       "      <td>FL</td>\n",
       "      <td>es-419</td>\n",
       "      <td>female</td>\n",
       "    </tr>\n",
       "    <tr>\n",
       "      <th>3</th>\n",
       "      <td>658a306e99b40f103b63ccf8</td>\n",
       "      <td>2023-12-26 01:46:22</td>\n",
       "      <td>&lt;NA&gt;</td>\n",
       "      <td>NC</td>\n",
       "      <td>en</td>\n",
       "      <td>&lt;NA&gt;</td>\n",
       "    </tr>\n",
       "    <tr>\n",
       "      <th>4</th>\n",
       "      <td>653cf5d6a225ea102b7ecdc2</td>\n",
       "      <td>2023-10-28 11:51:50</td>\n",
       "      <td>1972-03-19 00:00:00</td>\n",
       "      <td>PA</td>\n",
       "      <td>en</td>\n",
       "      <td>female</td>\n",
       "    </tr>\n",
       "  </tbody>\n",
       "</table>\n",
       "</div>"
      ],
      "text/plain": [
       "                         ID         CREATED_DATE           BIRTH_DATE STATE  \\\n",
       "0  5ef3b4f17053ab141787697d  2020-06-24 20:17:54  2000-08-11 00:00:00    CA   \n",
       "1  5ff220d383fcfc12622b96bc  2021-01-03 19:53:55  2001-09-24 04:00:00    PA   \n",
       "2  6477950aa55bb77a0e27ee10  2023-05-31 18:42:18  1994-10-28 00:00:00    FL   \n",
       "3  658a306e99b40f103b63ccf8  2023-12-26 01:46:22                 <NA>    NC   \n",
       "4  653cf5d6a225ea102b7ecdc2  2023-10-28 11:51:50  1972-03-19 00:00:00    PA   \n",
       "\n",
       "  LANGUAGE  GENDER  \n",
       "0   es-419  female  \n",
       "1       en  female  \n",
       "2   es-419  female  \n",
       "3       en    <NA>  \n",
       "4       en  female  "
      ]
     },
     "execution_count": 7,
     "metadata": {},
     "output_type": "execute_result"
    }
   ],
   "source": [
    "df_users[\"ID\"] = df_users[\"ID\"].astype(\"string\")\n",
    "df_users[\"STATE\"] = df_users[\"STATE\"].astype(\"string\")\n",
    "df_users[\"LANGUAGE\"] = df_users[\"LANGUAGE\"].astype(\"string\")\n",
    "df_users[\"GENDER\"] = df_users[\"GENDER\"].astype(\"string\")\n",
    "df_users[\"CREATED_DATE\"] = df_users[\"CREATED_DATE\"].astype(\"datetime64[s]\").dt.strftime('%Y-%m-%d %H:%M:%S').astype(\"string\")\n",
    "df_users[\"BIRTH_DATE\"] = df_users[\"BIRTH_DATE\"].astype(\"datetime64[s]\").dt.strftime('%Y-%m-%d %H:%M:%S').astype(\"string\")\n",
    "\n",
    "df_users.head()"
   ]
  },
  {
   "cell_type": "code",
   "execution_count": 8,
   "metadata": {},
   "outputs": [
    {
     "data": {
      "text/plain": [
       "ID              string\n",
       "CREATED_DATE    string\n",
       "BIRTH_DATE      string\n",
       "STATE           string\n",
       "LANGUAGE        string\n",
       "GENDER          string\n",
       "dtype: object"
      ]
     },
     "execution_count": 8,
     "metadata": {},
     "output_type": "execute_result"
    }
   ],
   "source": [
    "df_users.dtypes"
   ]
  },
  {
   "cell_type": "code",
   "execution_count": 9,
   "metadata": {},
   "outputs": [],
   "source": [
    "# uncomment and run it to process the data\n",
    "# df_users.fillna(value='NULL').to_csv(\"../data/processed/USER_TAKEHOME.csv\", index=False)"
   ]
  },
  {
   "cell_type": "code",
   "execution_count": 10,
   "metadata": {},
   "outputs": [
    {
     "name": "stdout",
     "output_type": "stream",
     "text": [
      "User dataframe\n",
      "Total users :  100000\n",
      "Total avialability :  92.51833333333333\n"
     ]
    },
    {
     "data": {
      "text/html": [
       "<div>\n",
       "<style scoped>\n",
       "    .dataframe tbody tr th:only-of-type {\n",
       "        vertical-align: middle;\n",
       "    }\n",
       "\n",
       "    .dataframe tbody tr th {\n",
       "        vertical-align: top;\n",
       "    }\n",
       "\n",
       "    .dataframe thead th {\n",
       "        text-align: right;\n",
       "    }\n",
       "</style>\n",
       "<table border=\"1\" class=\"dataframe\">\n",
       "  <thead>\n",
       "    <tr style=\"text-align: right;\">\n",
       "      <th></th>\n",
       "      <th>columns</th>\n",
       "      <th>total_missing</th>\n",
       "      <th>avialability</th>\n",
       "      <th>n_unique_values</th>\n",
       "    </tr>\n",
       "  </thead>\n",
       "  <tbody>\n",
       "    <tr>\n",
       "      <th>0</th>\n",
       "      <td>ID</td>\n",
       "      <td>0</td>\n",
       "      <td>100.00</td>\n",
       "      <td>100000</td>\n",
       "    </tr>\n",
       "    <tr>\n",
       "      <th>1</th>\n",
       "      <td>CREATED_DATE</td>\n",
       "      <td>0</td>\n",
       "      <td>100.00</td>\n",
       "      <td>99942</td>\n",
       "    </tr>\n",
       "    <tr>\n",
       "      <th>2</th>\n",
       "      <td>BIRTH_DATE</td>\n",
       "      <td>3675</td>\n",
       "      <td>96.32</td>\n",
       "      <td>54721</td>\n",
       "    </tr>\n",
       "    <tr>\n",
       "      <th>3</th>\n",
       "      <td>STATE</td>\n",
       "      <td>4812</td>\n",
       "      <td>95.19</td>\n",
       "      <td>52</td>\n",
       "    </tr>\n",
       "    <tr>\n",
       "      <th>4</th>\n",
       "      <td>LANGUAGE</td>\n",
       "      <td>30508</td>\n",
       "      <td>69.49</td>\n",
       "      <td>2</td>\n",
       "    </tr>\n",
       "    <tr>\n",
       "      <th>5</th>\n",
       "      <td>GENDER</td>\n",
       "      <td>5892</td>\n",
       "      <td>94.11</td>\n",
       "      <td>11</td>\n",
       "    </tr>\n",
       "  </tbody>\n",
       "</table>\n",
       "</div>"
      ],
      "text/plain": [
       "        columns  total_missing  avialability  n_unique_values\n",
       "0            ID              0        100.00           100000\n",
       "1  CREATED_DATE              0        100.00            99942\n",
       "2    BIRTH_DATE           3675         96.32            54721\n",
       "3         STATE           4812         95.19               52\n",
       "4      LANGUAGE          30508         69.49                2\n",
       "5        GENDER           5892         94.11               11"
      ]
     },
     "execution_count": 10,
     "metadata": {},
     "output_type": "execute_result"
    }
   ],
   "source": [
    "# checking how much of data is missing / avaialble for users table, also unique values in each column and their count\n",
    "\n",
    "print(\"User dataframe\")\n",
    "total_user_records = df_users.shape[0]\n",
    "print(\"Total users : \", total_user_records)\n",
    "\n",
    "user_data ={\n",
    "    \"columns\":[],\n",
    "    \"total_missing\":[],\n",
    "    \"avialability\":[],\n",
    "    \"n_unique_values\": []\n",
    "}\n",
    "\n",
    "for col in df_users.columns:\n",
    "    user_data[\"columns\"].append(col)\n",
    "    user_data[\"total_missing\"].append(df_users[col].isna().sum())\n",
    "    user_data[\"avialability\"].append(round(((total_user_records - df_users[col].isna().sum())/total_user_records)*100,2))\n",
    "    user_data[\"n_unique_values\"].append(df_users[col].nunique())\n",
    "\n",
    "user_data_df = pd.DataFrame(user_data)\n",
    "\n",
    "print(\"Total avialability : \", user_data_df[\"avialability\"].mean())\n",
    "\n",
    "user_data_df"
   ]
  },
  {
   "cell_type": "code",
   "execution_count": 11,
   "metadata": {},
   "outputs": [
    {
     "data": {
      "image/png": "[encoded data removed]",
      "text/plain": [
       "<Figure size 1000x400 with 1 Axes>"
      ]
     },
     "metadata": {},
     "output_type": "display_data"
    }
   ],
   "source": [
    "# plotting avaialability for better visualization\n",
    "\n",
    "ax = user_data_df.set_index(\"columns\")[\"avialability\"].plot(figsize=(10,4), kind = 'bar', rot=0)\n",
    "ax.set_ylabel(\"Avialability %\")\n",
    "ax.set_xlabel(\"Columns\")\n",
    "\n",
    "for p in ax.patches:\n",
    "    ax.annotate(str(p.get_height()), (p.get_x() + p.get_width() / 2., p.get_height()), ha='center', va='bottom')\n",
    "\n",
    "plt.show()"
   ]
  },
  {
   "cell_type": "code",
   "execution_count": 12,
   "metadata": {},
   "outputs": [
    {
     "data": {
      "text/plain": [
       "Series([], Name: all_sum, dtype: int64)"
      ]
     },
     "execution_count": 12,
     "metadata": {},
     "output_type": "execute_result"
    }
   ],
   "source": [
    "df_users[\"all_sum\"] = df_users[\"CREATED_DATE\"].astype(str)+df_users[\"BIRTH_DATE\"].astype(str)+df_users[\"STATE\"].astype(str)+df_users[\"LANGUAGE\"].astype(str)+df_users[\"GENDER\"].astype(str)\n",
    "df_users_duplicate_rows = df_users[df_users.duplicated(keep=False) == True]\n",
    "df_users_duplicate_rows[\"all_sum\"].value_counts()"
   ]
  },
  {
   "cell_type": "code",
   "execution_count": 13,
   "metadata": {},
   "outputs": [
    {
     "data": {
      "text/plain": [
       "array([1])"
      ]
     },
     "execution_count": 13,
     "metadata": {},
     "output_type": "execute_result"
    }
   ],
   "source": [
    "df_users[\"all_sum\"].value_counts().unique()"
   ]
  },
  {
   "cell_type": "code",
   "execution_count": 14,
   "metadata": {},
   "outputs": [
    {
     "data": {
      "text/html": [
       "<div>\n",
       "<style scoped>\n",
       "    .dataframe tbody tr th:only-of-type {\n",
       "        vertical-align: middle;\n",
       "    }\n",
       "\n",
       "    .dataframe tbody tr th {\n",
       "        vertical-align: top;\n",
       "    }\n",
       "\n",
       "    .dataframe thead th {\n",
       "        text-align: right;\n",
       "    }\n",
       "</style>\n",
       "<table border=\"1\" class=\"dataframe\">\n",
       "  <thead>\n",
       "    <tr style=\"text-align: right;\">\n",
       "      <th></th>\n",
       "      <th>ID</th>\n",
       "      <th>CREATED_DATE</th>\n",
       "      <th>BIRTH_DATE</th>\n",
       "      <th>STATE</th>\n",
       "      <th>LANGUAGE</th>\n",
       "      <th>GENDER</th>\n",
       "      <th>all_sum</th>\n",
       "    </tr>\n",
       "  </thead>\n",
       "  <tbody>\n",
       "    <tr>\n",
       "      <th>41974</th>\n",
       "      <td>5f31fc048fa1e914d38d6952</td>\n",
       "      <td>2020-08-11 02:01:41</td>\n",
       "      <td>2020-10-02 15:27:28</td>\n",
       "      <td>CA</td>\n",
       "      <td>&lt;NA&gt;</td>\n",
       "      <td>&lt;NA&gt;</td>\n",
       "      <td>2020-08-11 02:01:412020-10-02 15:27:28CA&lt;NA&gt;&lt;NA&gt;</td>\n",
       "    </tr>\n",
       "  </tbody>\n",
       "</table>\n",
       "</div>"
      ],
      "text/plain": [
       "                             ID         CREATED_DATE           BIRTH_DATE  \\\n",
       "41974  5f31fc048fa1e914d38d6952  2020-08-11 02:01:41  2020-10-02 15:27:28   \n",
       "\n",
       "      STATE LANGUAGE GENDER                                           all_sum  \n",
       "41974    CA     <NA>   <NA>  2020-08-11 02:01:412020-10-02 15:27:28CA<NA><NA>  "
      ]
     },
     "execution_count": 14,
     "metadata": {},
     "output_type": "execute_result"
    }
   ],
   "source": [
    "df_users[pd.to_datetime(df_users[\"BIRTH_DATE\"]) >= pd.to_datetime(df_users[\"CREATED_DATE\"])]\n",
    "\n",
    "# one user created the account before being born, tech glich"
   ]
  },
  {
   "cell_type": "code",
   "execution_count": 15,
   "metadata": {},
   "outputs": [
    {
     "name": "stdout",
     "output_type": "stream",
     "text": [
      "Total Users below age restriction to register on Fetch : 48\n"
     ]
    },
    {
     "data": {
      "text/html": [
       "<div>\n",
       "<style scoped>\n",
       "    .dataframe tbody tr th:only-of-type {\n",
       "        vertical-align: middle;\n",
       "    }\n",
       "\n",
       "    .dataframe tbody tr th {\n",
       "        vertical-align: top;\n",
       "    }\n",
       "\n",
       "    .dataframe thead th {\n",
       "        text-align: right;\n",
       "    }\n",
       "</style>\n",
       "<table border=\"1\" class=\"dataframe\">\n",
       "  <thead>\n",
       "    <tr style=\"text-align: right;\">\n",
       "      <th></th>\n",
       "      <th>ID</th>\n",
       "      <th>CREATED_DATE</th>\n",
       "      <th>BIRTH_DATE</th>\n",
       "      <th>STATE</th>\n",
       "      <th>LANGUAGE</th>\n",
       "      <th>GENDER</th>\n",
       "      <th>all_sum</th>\n",
       "      <th>user_age</th>\n",
       "    </tr>\n",
       "  </thead>\n",
       "  <tbody>\n",
       "    <tr>\n",
       "      <th>70457</th>\n",
       "      <td>624a8e36b04b917e273da2cd</td>\n",
       "      <td>2022-04-04 06:20:38</td>\n",
       "      <td>2022-04-03 07:00:00</td>\n",
       "      <td>&lt;NA&gt;</td>\n",
       "      <td>&lt;NA&gt;</td>\n",
       "      <td>female</td>\n",
       "      <td>2022-04-04 06:20:382022-04-03 07:00:00&lt;NA&gt;&lt;NA&gt;...</td>\n",
       "      <td>2</td>\n",
       "    </tr>\n",
       "    <tr>\n",
       "      <th>47481</th>\n",
       "      <td>623e238655c81c62f73eb4fc</td>\n",
       "      <td>2022-03-25 20:18:14</td>\n",
       "      <td>2022-03-01 05:00:00</td>\n",
       "      <td>NY</td>\n",
       "      <td>&lt;NA&gt;</td>\n",
       "      <td>&lt;NA&gt;</td>\n",
       "      <td>2022-03-25 20:18:142022-03-01 05:00:00NY&lt;NA&gt;&lt;NA&gt;</td>\n",
       "      <td>2</td>\n",
       "    </tr>\n",
       "    <tr>\n",
       "      <th>76542</th>\n",
       "      <td>6094549bf335a736c0e1ac40</td>\n",
       "      <td>2021-05-06 20:42:03</td>\n",
       "      <td>2021-03-06 06:00:00</td>\n",
       "      <td>&lt;NA&gt;</td>\n",
       "      <td>&lt;NA&gt;</td>\n",
       "      <td>male</td>\n",
       "      <td>2021-05-06 20:42:032021-03-06 06:00:00&lt;NA&gt;&lt;NA&gt;...</td>\n",
       "      <td>3</td>\n",
       "    </tr>\n",
       "    <tr>\n",
       "      <th>73587</th>\n",
       "      <td>60519c66811ba211de4ea989</td>\n",
       "      <td>2021-03-17 06:06:30</td>\n",
       "      <td>2021-03-17 05:00:00</td>\n",
       "      <td>AL</td>\n",
       "      <td>&lt;NA&gt;</td>\n",
       "      <td>female</td>\n",
       "      <td>2021-03-17 06:06:302021-03-17 05:00:00AL&lt;NA&gt;fe...</td>\n",
       "      <td>3</td>\n",
       "    </tr>\n",
       "    <tr>\n",
       "      <th>60079</th>\n",
       "      <td>600cddd039655612b013c58d</td>\n",
       "      <td>2021-01-24 02:39:12</td>\n",
       "      <td>2021-01-23 05:00:00</td>\n",
       "      <td>NC</td>\n",
       "      <td>&lt;NA&gt;</td>\n",
       "      <td>transgender</td>\n",
       "      <td>2021-01-24 02:39:122021-01-23 05:00:00NC&lt;NA&gt;tr...</td>\n",
       "      <td>3</td>\n",
       "    </tr>\n",
       "  </tbody>\n",
       "</table>\n",
       "</div>"
      ],
      "text/plain": [
       "                             ID         CREATED_DATE           BIRTH_DATE  \\\n",
       "70457  624a8e36b04b917e273da2cd  2022-04-04 06:20:38  2022-04-03 07:00:00   \n",
       "47481  623e238655c81c62f73eb4fc  2022-03-25 20:18:14  2022-03-01 05:00:00   \n",
       "76542  6094549bf335a736c0e1ac40  2021-05-06 20:42:03  2021-03-06 06:00:00   \n",
       "73587  60519c66811ba211de4ea989  2021-03-17 06:06:30  2021-03-17 05:00:00   \n",
       "60079  600cddd039655612b013c58d  2021-01-24 02:39:12  2021-01-23 05:00:00   \n",
       "\n",
       "      STATE LANGUAGE       GENDER  \\\n",
       "70457  <NA>     <NA>       female   \n",
       "47481    NY     <NA>         <NA>   \n",
       "76542  <NA>     <NA>         male   \n",
       "73587    AL     <NA>       female   \n",
       "60079    NC     <NA>  transgender   \n",
       "\n",
       "                                                 all_sum  user_age  \n",
       "70457  2022-04-04 06:20:382022-04-03 07:00:00<NA><NA>...         2  \n",
       "47481   2022-03-25 20:18:142022-03-01 05:00:00NY<NA><NA>         2  \n",
       "76542  2021-05-06 20:42:032021-03-06 06:00:00<NA><NA>...         3  \n",
       "73587  2021-03-17 06:06:302021-03-17 05:00:00AL<NA>fe...         3  \n",
       "60079  2021-01-24 02:39:122021-01-23 05:00:00NC<NA>tr...         3  "
      ]
     },
     "execution_count": 15,
     "metadata": {},
     "output_type": "execute_result"
    }
   ],
   "source": [
    "# checking if all users registered on fetch are above the 13 yesr limit set by the application\n",
    "\n",
    "df_users[\"user_age\"] = (pd.Timestamp.today()  - pd.to_datetime(df_users[\"BIRTH_DATE\"]))\n",
    "\n",
    "df_users[\"user_age\"] = df_users[\"user_age\"].astype('timedelta64[Y]').astype('Int64')\n",
    "\n",
    "print(\"Total Users below age restriction to register on Fetch :\", df_users[df_users[\"user_age\"] < 13].sort_values(by=[\"user_age\"], ascending=[True]).shape[0])\n",
    "\n",
    "df_users[df_users[\"user_age\"] < 13].sort_values(by=[\"user_age\"], ascending=[True]).head()"
   ]
  },
  {
   "cell_type": "code",
   "execution_count": 16,
   "metadata": {},
   "outputs": [
    {
     "data": {
      "image/png": "[encoded data removed]",
      "text/plain": [
       "<Figure size 1000x400 with 1 Axes>"
      ]
     },
     "metadata": {},
     "output_type": "display_data"
    },
    {
     "name": "stdout",
     "output_type": "stream",
     "text": [
      "Total users below 13 years of age:  48\n"
     ]
    }
   ],
   "source": [
    "# spread of uder restricted age users\n",
    "\n",
    "axua = df_users[df_users[\"user_age\"] < 13].sort_values(by=[\"user_age\"], ascending=[True])[\"user_age\"].value_counts(sort=False).plot(figsize=(10,4), kind = 'bar', rot=0)\n",
    "axua.set_ylabel(\"Avialability\")\n",
    "axua.set_xlabel(\"Columns\")\n",
    "\n",
    "for p in axua.patches:\n",
    "    axua.annotate(str(p.get_height()), (p.get_x() + p.get_width() / 2., p.get_height()), ha='center', va='bottom')\n",
    "\n",
    "plt.show()\n",
    "\n",
    "print(\"Total users below 13 years of age: \",df_users[df_users[\"user_age\"] < 13].shape[0])"
   ]
  },
  {
   "cell_type": "code",
   "execution_count": 17,
   "metadata": {},
   "outputs": [
    {
     "data": {
      "image/png": "[encoded data removed]",
      "text/plain": [
       "<Figure size 1900x400 with 1 Axes>"
      ]
     },
     "metadata": {},
     "output_type": "display_data"
    },
    {
     "name": "stdout",
     "output_type": "stream",
     "text": [
      "Total users above 90 years of age:  98\n"
     ]
    }
   ],
   "source": [
    "# spread of uder restricted age users\n",
    "\n",
    "axuao = df_users[df_users[\"user_age\"] > 90].sort_values(by=[\"user_age\"], ascending=[True])[\"user_age\"].value_counts(sort=False).plot(figsize=(19,4), kind = 'bar', rot=0)\n",
    "axuao.set_ylabel(\"Avialability\")\n",
    "axuao.set_xlabel(\"Columns\")\n",
    "\n",
    "for p in axuao.patches:\n",
    "    axuao.annotate(str(p.get_height()), (p.get_x() + p.get_width() / 2., p.get_height()), ha='center', va='bottom')\n",
    "\n",
    "plt.show()\n",
    "\n",
    "print(\"Total users above 90 years of age: \", df_users[df_users[\"user_age\"] > 90].shape[0])"
   ]
  },
  {
   "cell_type": "code",
   "execution_count": 18,
   "metadata": {},
   "outputs": [
    {
     "data": {
      "text/plain": [
       "<StringArray>\n",
       "['CA', 'PA', 'FL', 'NC', 'NY', 'IN', <NA>, 'OH', 'TX', 'NM', 'PR', 'CO', 'AZ',\n",
       " 'RI', 'MO', 'NJ', 'MA', 'TN', 'LA', 'NH', 'WI', 'IA', 'GA', 'VA', 'DC', 'KY',\n",
       " 'SC', 'MN', 'WV', 'DE', 'MI', 'IL', 'MS', 'WA', 'KS', 'CT', 'OR', 'UT', 'MD',\n",
       " 'OK', 'NE', 'NV', 'AL', 'AK', 'AR', 'HI', 'ME', 'ND', 'ID', 'WY', 'MT', 'SD',\n",
       " 'VT']\n",
       "Length: 53, dtype: string"
      ]
     },
     "execution_count": 18,
     "metadata": {},
     "output_type": "execute_result"
    }
   ],
   "source": [
    "df_users[\"STATE\"].unique()\n",
    "\n",
    "# PR = Puerto Rico"
   ]
  },
  {
   "cell_type": "code",
   "execution_count": 19,
   "metadata": {},
   "outputs": [
    {
     "data": {
      "text/plain": [
       "<StringArray>\n",
       "['es-419', 'en', <NA>]\n",
       "Length: 3, dtype: string"
      ]
     },
     "execution_count": 19,
     "metadata": {},
     "output_type": "execute_result"
    }
   ],
   "source": [
    "df_users[\"LANGUAGE\"].unique()"
   ]
  },
  {
   "cell_type": "code",
   "execution_count": 20,
   "metadata": {},
   "outputs": [
    {
     "data": {
      "text/plain": [
       "<StringArray>\n",
       "[                'female',                     <NA>,                   'male',\n",
       "             'non_binary',            'transgender',      'prefer_not_to_say',\n",
       "             'not_listed',             'Non-Binary',                'unknown',\n",
       "          'not_specified', \"My gender isn't listed\",      'Prefer not to say']\n",
       "Length: 12, dtype: string"
      ]
     },
     "execution_count": 20,
     "metadata": {},
     "output_type": "execute_result"
    }
   ],
   "source": [
    "df_users[\"GENDER\"].unique()"
   ]
  },
  {
   "cell_type": "code",
   "execution_count": 21,
   "metadata": {},
   "outputs": [
    {
     "data": {
      "text/html": [
       "<div>\n",
       "<style scoped>\n",
       "    .dataframe tbody tr th:only-of-type {\n",
       "        vertical-align: middle;\n",
       "    }\n",
       "\n",
       "    .dataframe tbody tr th {\n",
       "        vertical-align: top;\n",
       "    }\n",
       "\n",
       "    .dataframe thead th {\n",
       "        text-align: right;\n",
       "    }\n",
       "</style>\n",
       "<table border=\"1\" class=\"dataframe\">\n",
       "  <thead>\n",
       "    <tr style=\"text-align: right;\">\n",
       "      <th></th>\n",
       "      <th>ID</th>\n",
       "      <th>CREATED_DATE</th>\n",
       "      <th>BIRTH_DATE</th>\n",
       "      <th>STATE</th>\n",
       "      <th>LANGUAGE</th>\n",
       "      <th>GENDER</th>\n",
       "      <th>all_sum</th>\n",
       "      <th>user_age</th>\n",
       "    </tr>\n",
       "  </thead>\n",
       "  <tbody>\n",
       "    <tr>\n",
       "      <th>57986</th>\n",
       "      <td>57ac7acde4b0d25aa48097bc</td>\n",
       "      <td>2016-08-11 13:17:01</td>\n",
       "      <td>1900-01-01 00:00:00</td>\n",
       "      <td>&lt;NA&gt;</td>\n",
       "      <td>&lt;NA&gt;</td>\n",
       "      <td>&lt;NA&gt;</td>\n",
       "      <td>2016-08-11 13:17:011900-01-01 00:00:00&lt;NA&gt;&lt;NA&gt;...</td>\n",
       "      <td>125</td>\n",
       "    </tr>\n",
       "    <tr>\n",
       "      <th>81087</th>\n",
       "      <td>54e7918de4b0b56c0b136f3a</td>\n",
       "      <td>2015-02-20 19:57:01</td>\n",
       "      <td>1900-01-01 00:00:00</td>\n",
       "      <td>&lt;NA&gt;</td>\n",
       "      <td>&lt;NA&gt;</td>\n",
       "      <td>&lt;NA&gt;</td>\n",
       "      <td>2015-02-20 19:57:011900-01-01 00:00:00&lt;NA&gt;&lt;NA&gt;...</td>\n",
       "      <td>125</td>\n",
       "    </tr>\n",
       "    <tr>\n",
       "      <th>19638</th>\n",
       "      <td>5b343b1a8c5ff7623be2af93</td>\n",
       "      <td>2018-06-28 01:34:18</td>\n",
       "      <td>1900-11-01 08:00:00</td>\n",
       "      <td>CA</td>\n",
       "      <td>en</td>\n",
       "      <td>female</td>\n",
       "      <td>2018-06-28 01:34:181900-11-01 08:00:00CAenfemale</td>\n",
       "      <td>124</td>\n",
       "    </tr>\n",
       "    <tr>\n",
       "      <th>59306</th>\n",
       "      <td>6108a98aa1ffea0b098ba933</td>\n",
       "      <td>2021-08-03 02:27:22</td>\n",
       "      <td>1900-12-08 00:00:00</td>\n",
       "      <td>NY</td>\n",
       "      <td>&lt;NA&gt;</td>\n",
       "      <td>male</td>\n",
       "      <td>2021-08-03 02:27:221900-12-08 00:00:00NY&lt;NA&gt;male</td>\n",
       "      <td>124</td>\n",
       "    </tr>\n",
       "    <tr>\n",
       "      <th>98639</th>\n",
       "      <td>61a1127207acef7276e6158f</td>\n",
       "      <td>2021-11-26 16:59:30</td>\n",
       "      <td>1901-01-01 05:00:00</td>\n",
       "      <td>PA</td>\n",
       "      <td>en</td>\n",
       "      <td>male</td>\n",
       "      <td>2021-11-26 16:59:301901-01-01 05:00:00PAenmale</td>\n",
       "      <td>124</td>\n",
       "    </tr>\n",
       "    <tr>\n",
       "      <th>...</th>\n",
       "      <td>...</td>\n",
       "      <td>...</td>\n",
       "      <td>...</td>\n",
       "      <td>...</td>\n",
       "      <td>...</td>\n",
       "      <td>...</td>\n",
       "      <td>...</td>\n",
       "      <td>...</td>\n",
       "    </tr>\n",
       "    <tr>\n",
       "      <th>99959</th>\n",
       "      <td>651cc4b055f575777d10c55e</td>\n",
       "      <td>2023-10-04 01:49:36</td>\n",
       "      <td>&lt;NA&gt;</td>\n",
       "      <td>FL</td>\n",
       "      <td>es-419</td>\n",
       "      <td>&lt;NA&gt;</td>\n",
       "      <td>2023-10-04 01:49:36&lt;NA&gt;FLes-419&lt;NA&gt;</td>\n",
       "      <td>&lt;NA&gt;</td>\n",
       "    </tr>\n",
       "    <tr>\n",
       "      <th>99966</th>\n",
       "      <td>65fc1b855a33935f1ed8a602</td>\n",
       "      <td>2024-03-21 11:35:33</td>\n",
       "      <td>&lt;NA&gt;</td>\n",
       "      <td>&lt;NA&gt;</td>\n",
       "      <td>en</td>\n",
       "      <td>&lt;NA&gt;</td>\n",
       "      <td>2024-03-21 11:35:33&lt;NA&gt;&lt;NA&gt;en&lt;NA&gt;</td>\n",
       "      <td>&lt;NA&gt;</td>\n",
       "    </tr>\n",
       "    <tr>\n",
       "      <th>99969</th>\n",
       "      <td>65fce2a57756e548cb85ed9f</td>\n",
       "      <td>2024-03-22 01:45:09</td>\n",
       "      <td>&lt;NA&gt;</td>\n",
       "      <td>&lt;NA&gt;</td>\n",
       "      <td>es-419</td>\n",
       "      <td>&lt;NA&gt;</td>\n",
       "      <td>2024-03-22 01:45:09&lt;NA&gt;&lt;NA&gt;es-419&lt;NA&gt;</td>\n",
       "      <td>&lt;NA&gt;</td>\n",
       "    </tr>\n",
       "    <tr>\n",
       "      <th>99972</th>\n",
       "      <td>654cd6b5a225ea102b810475</td>\n",
       "      <td>2023-11-09 12:55:17</td>\n",
       "      <td>&lt;NA&gt;</td>\n",
       "      <td>&lt;NA&gt;</td>\n",
       "      <td>es-419</td>\n",
       "      <td>&lt;NA&gt;</td>\n",
       "      <td>2023-11-09 12:55:17&lt;NA&gt;&lt;NA&gt;es-419&lt;NA&gt;</td>\n",
       "      <td>&lt;NA&gt;</td>\n",
       "    </tr>\n",
       "    <tr>\n",
       "      <th>99980</th>\n",
       "      <td>656e9ec99cb6a4f05dcaaec6</td>\n",
       "      <td>2023-12-05 03:53:45</td>\n",
       "      <td>&lt;NA&gt;</td>\n",
       "      <td>&lt;NA&gt;</td>\n",
       "      <td>en</td>\n",
       "      <td>&lt;NA&gt;</td>\n",
       "      <td>2023-12-05 03:53:45&lt;NA&gt;&lt;NA&gt;en&lt;NA&gt;</td>\n",
       "      <td>&lt;NA&gt;</td>\n",
       "    </tr>\n",
       "  </tbody>\n",
       "</table>\n",
       "<p>100000 rows × 8 columns</p>\n",
       "</div>"
      ],
      "text/plain": [
       "                             ID         CREATED_DATE           BIRTH_DATE  \\\n",
       "57986  57ac7acde4b0d25aa48097bc  2016-08-11 13:17:01  1900-01-01 00:00:00   \n",
       "81087  54e7918de4b0b56c0b136f3a  2015-02-20 19:57:01  1900-01-01 00:00:00   \n",
       "19638  5b343b1a8c5ff7623be2af93  2018-06-28 01:34:18  1900-11-01 08:00:00   \n",
       "59306  6108a98aa1ffea0b098ba933  2021-08-03 02:27:22  1900-12-08 00:00:00   \n",
       "98639  61a1127207acef7276e6158f  2021-11-26 16:59:30  1901-01-01 05:00:00   \n",
       "...                         ...                  ...                  ...   \n",
       "99959  651cc4b055f575777d10c55e  2023-10-04 01:49:36                 <NA>   \n",
       "99966  65fc1b855a33935f1ed8a602  2024-03-21 11:35:33                 <NA>   \n",
       "99969  65fce2a57756e548cb85ed9f  2024-03-22 01:45:09                 <NA>   \n",
       "99972  654cd6b5a225ea102b810475  2023-11-09 12:55:17                 <NA>   \n",
       "99980  656e9ec99cb6a4f05dcaaec6  2023-12-05 03:53:45                 <NA>   \n",
       "\n",
       "      STATE LANGUAGE  GENDER  \\\n",
       "57986  <NA>     <NA>    <NA>   \n",
       "81087  <NA>     <NA>    <NA>   \n",
       "19638    CA       en  female   \n",
       "59306    NY     <NA>    male   \n",
       "98639    PA       en    male   \n",
       "...     ...      ...     ...   \n",
       "99959    FL   es-419    <NA>   \n",
       "99966  <NA>       en    <NA>   \n",
       "99969  <NA>   es-419    <NA>   \n",
       "99972  <NA>   es-419    <NA>   \n",
       "99980  <NA>       en    <NA>   \n",
       "\n",
       "                                                 all_sum  user_age  \n",
       "57986  2016-08-11 13:17:011900-01-01 00:00:00<NA><NA>...       125  \n",
       "81087  2015-02-20 19:57:011900-01-01 00:00:00<NA><NA>...       125  \n",
       "19638   2018-06-28 01:34:181900-11-01 08:00:00CAenfemale       124  \n",
       "59306   2021-08-03 02:27:221900-12-08 00:00:00NY<NA>male       124  \n",
       "98639     2021-11-26 16:59:301901-01-01 05:00:00PAenmale       124  \n",
       "...                                                  ...       ...  \n",
       "99959                2023-10-04 01:49:36<NA>FLes-419<NA>      <NA>  \n",
       "99966                  2024-03-21 11:35:33<NA><NA>en<NA>      <NA>  \n",
       "99969              2024-03-22 01:45:09<NA><NA>es-419<NA>      <NA>  \n",
       "99972              2023-11-09 12:55:17<NA><NA>es-419<NA>      <NA>  \n",
       "99980                  2023-12-05 03:53:45<NA><NA>en<NA>      <NA>  \n",
       "\n",
       "[100000 rows x 8 columns]"
      ]
     },
     "execution_count": 21,
     "metadata": {},
     "output_type": "execute_result"
    }
   ],
   "source": [
    "df_users.sort_values(by=[\"BIRTH_DATE\"], ascending=[True])"
   ]
  },
  {
   "cell_type": "code",
   "execution_count": 22,
   "metadata": {},
   "outputs": [],
   "source": [
    "# %pip install plotly\n",
    "\n",
    "# %pip install nbformat"
   ]
  },
  {
   "cell_type": "code",
   "execution_count": 23,
   "metadata": {},
   "outputs": [
    {
     "data": {
      "application/vnd.plotly.v1+json": {
       "config": {
        "plotlyServerURL": "https://plot.ly"
       },
       "data": [
        {
         "coloraxis": "coloraxis",
         "geo": "geo",
         "hovertemplate": "GENDER=My gender isn't listed<br>STATE=%{location}<br>COUNT=%{z}<extra></extra>",
         "locationmode": "USA-states",
         "locations": [
          "AK",
          "AL",
          "AR",
          "AZ",
          "CA",
          "CO",
          "CT",
          "DC",
          "DE",
          "FL",
          "GA",
          "HI",
          "IA",
          "ID",
          "IL",
          "IN",
          "KS",
          "KY",
          "LA",
          "MA",
          "MD",
          "ME",
          "MI",
          "MN",
          "MO",
          "MS",
          "MT",
          "NC",
          "ND",
          "NE",
          "NH",
          "NJ",
          "NM",
          "NV",
          "NY",
          "OH",
          "OK",
          "OR",
          "PA",
          "PR",
          "RI",
          "SC",
          "SD",
          "TN",
          "TX",
          "UT",
          "VA",
          "VT",
          "WA",
          "WI",
          "WV",
          "WY"
         ],
         "name": "",
         "type": "choropleth",
         "z": [
          0,
          1,
          0,
          0,
          0,
          0,
          0,
          0,
          0,
          0,
          0,
          0,
          0,
          0,
          0,
          0,
          0,
          0,
          0,
          0,
          0,
          0,
          0,
          0,
          0,
          0,
          0,
          1,
          0,
          0,
          0,
          0,
          0,
          0,
          1,
          0,
          0,
          0,
          0,
          0,
          0,
          0,
          0,
          1,
          1,
          0,
          0,
          0,
          0,
          0,
          0,
          0
         ]
        }
       ],
       "frames": [
        {
         "data": [
          {
           "coloraxis": "coloraxis",
           "geo": "geo",
           "hovertemplate": "GENDER=My gender isn't listed<br>STATE=%{location}<br>COUNT=%{z}<extra></extra>",
           "locationmode": "USA-states",
           "locations": [
            "AK",
            "AL",
            "AR",
            "AZ",
            "CA",
            "CO",
            "CT",
            "DC",
            "DE",
            "FL",
            "GA",
            "HI",
            "IA",
            "ID",
            "IL",
            "IN",
            "KS",
            "KY",
            "LA",
            "MA",
            "MD",
            "ME",
            "MI",
            "MN",
            "MO",
            "MS",
            "MT",
            "NC",
            "ND",
            "NE",
            "NH",
            "NJ",
            "NM",
            "NV",
            "NY",
            "OH",
            "OK",
            "OR",
            "PA",
            "PR",
            "RI",
            "SC",
            "SD",
            "TN",
            "TX",
            "UT",
            "VA",
            "VT",
            "WA",
            "WI",
            "WV",
            "WY"
           ],
           "name": "",
           "type": "choropleth",
           "z": [
            0,
            1,
            0,
            0,
            0,
            0,
            0,
            0,
            0,
            0,
            0,
            0,
            0,
            0,
            0,
            0,
            0,
            0,
            0,
            0,
            0,
            0,
            0,
            0,
            0,
            0,
            0,
            1,
            0,
            0,
            0,
            0,
            0,
            0,
            1,
            0,
            0,
            0,
            0,
            0,
            0,
            0,
            0,
            1,
            1,
            0,
            0,
            0,
            0,
            0,
            0,
            0
           ]
          }
         ],
         "name": "My gender isn't listed"
        },
        {
         "data": [
          {
           "coloraxis": "coloraxis",
           "geo": "geo",
           "hovertemplate": "GENDER=Non-Binary<br>STATE=%{location}<br>COUNT=%{z}<extra></extra>",
           "locationmode": "USA-states",
           "locations": [
            "AK",
            "AL",
            "AR",
            "AZ",
            "CA",
            "CO",
            "CT",
            "DC",
            "DE",
            "FL",
            "GA",
            "HI",
            "IA",
            "ID",
            "IL",
            "IN",
            "KS",
            "KY",
            "LA",
            "MA",
            "MD",
            "ME",
            "MI",
            "MN",
            "MO",
            "MS",
            "MT",
            "NC",
            "ND",
            "NE",
            "NH",
            "NJ",
            "NM",
            "NV",
            "NY",
            "OH",
            "OK",
            "OR",
            "PA",
            "PR",
            "RI",
            "SC",
            "SD",
            "TN",
            "TX",
            "UT",
            "VA",
            "VT",
            "WA",
            "WI",
            "WV",
            "WY"
           ],
           "name": "",
           "type": "choropleth",
           "z": [
            0,
            0,
            0,
            0,
            5,
            0,
            0,
            0,
            0,
            2,
            2,
            0,
            2,
            0,
            1,
            1,
            0,
            0,
            0,
            0,
            2,
            0,
            0,
            1,
            0,
            1,
            0,
            1,
            0,
            1,
            0,
            0,
            0,
            2,
            2,
            0,
            0,
            0,
            2,
            0,
            0,
            0,
            1,
            2,
            3,
            0,
            2,
            0,
            0,
            0,
            0,
            0
           ]
          }
         ],
         "name": "Non-Binary"
        },
        {
         "data": [
          {
           "coloraxis": "coloraxis",
           "geo": "geo",
           "hovertemplate": "GENDER=Prefer not to say<br>STATE=%{location}<br>COUNT=%{z}<extra></extra>",
           "locationmode": "USA-states",
           "locations": [
            "AK",
            "AL",
            "AR",
            "AZ",
            "CA",
            "CO",
            "CT",
            "DC",
            "DE",
            "FL",
            "GA",
            "HI",
            "IA",
            "ID",
            "IL",
            "IN",
            "KS",
            "KY",
            "LA",
            "MA",
            "MD",
            "ME",
            "MI",
            "MN",
            "MO",
            "MS",
            "MT",
            "NC",
            "ND",
            "NE",
            "NH",
            "NJ",
            "NM",
            "NV",
            "NY",
            "OH",
            "OK",
            "OR",
            "PA",
            "PR",
            "RI",
            "SC",
            "SD",
            "TN",
            "TX",
            "UT",
            "VA",
            "VT",
            "WA",
            "WI",
            "WV",
            "WY"
           ],
           "name": "",
           "type": "choropleth",
           "z": [
            0,
            0,
            0,
            0,
            0,
            0,
            0,
            0,
            0,
            1,
            0,
            0,
            0,
            0,
            0,
            0,
            0,
            0,
            0,
            0,
            0,
            0,
            0,
            0,
            0,
            0,
            0,
            0,
            0,
            0,
            0,
            0,
            0,
            0,
            0,
            0,
            0,
            0,
            0,
            0,
            0,
            0,
            0,
            0,
            0,
            0,
            0,
            0,
            0,
            0,
            0,
            0
           ]
          }
         ],
         "name": "Prefer not to say"
        },
        {
         "data": [
          {
           "coloraxis": "coloraxis",
           "geo": "geo",
           "hovertemplate": "GENDER=female<br>STATE=%{location}<br>COUNT=%{z}<extra></extra>",
           "locationmode": "USA-states",
           "locations": [
            "AK",
            "AL",
            "AR",
            "AZ",
            "CA",
            "CO",
            "CT",
            "DC",
            "DE",
            "FL",
            "GA",
            "HI",
            "IA",
            "ID",
            "IL",
            "IN",
            "KS",
            "KY",
            "LA",
            "MA",
            "MD",
            "ME",
            "MI",
            "MN",
            "MO",
            "MS",
            "MT",
            "NC",
            "ND",
            "NE",
            "NH",
            "NJ",
            "NM",
            "NV",
            "NY",
            "OH",
            "OK",
            "OR",
            "PA",
            "PR",
            "RI",
            "SC",
            "SD",
            "TN",
            "TX",
            "UT",
            "VA",
            "VT",
            "WA",
            "WI",
            "WV",
            "WY"
           ],
           "name": "",
           "type": "choropleth",
           "z": [
            135,
            1143,
            687,
            1110,
            5238,
            722,
            719,
            129,
            308,
            6003,
            2517,
            194,
            638,
            234,
            2530,
            1543,
            512,
            1227,
            869,
            1013,
            1066,
            260,
            1811,
            737,
            1150,
            670,
            116,
            2360,
            129,
            302,
            262,
            1884,
            278,
            515,
            3742,
            2507,
            761,
            471,
            2601,
            928,
            189,
            1247,
            137,
            1550,
            5952,
            384,
            1641,
            79,
            797,
            977,
            485,
            77
           ]
          }
         ],
         "name": "female"
        },
        {
         "data": [
          {
           "coloraxis": "coloraxis",
           "geo": "geo",
           "hovertemplate": "GENDER=male<br>STATE=%{location}<br>COUNT=%{z}<extra></extra>",
           "locationmode": "USA-states",
           "locations": [
            "AK",
            "AL",
            "AR",
            "AZ",
            "CA",
            "CO",
            "CT",
            "DC",
            "DE",
            "FL",
            "GA",
            "HI",
            "IA",
            "ID",
            "IL",
            "IN",
            "KS",
            "KY",
            "LA",
            "MA",
            "MD",
            "ME",
            "MI",
            "MN",
            "MO",
            "MS",
            "MT",
            "NC",
            "ND",
            "NE",
            "NH",
            "NJ",
            "NM",
            "NV",
            "NY",
            "OH",
            "OK",
            "OR",
            "PA",
            "PR",
            "RI",
            "SC",
            "SD",
            "TN",
            "TX",
            "UT",
            "VA",
            "VT",
            "WA",
            "WI",
            "WV",
            "WY"
           ],
           "name": "",
           "type": "choropleth",
           "z": [
            135,
            531,
            258,
            488,
            2669,
            329,
            296,
            77,
            137,
            2366,
            962,
            109,
            237,
            88,
            1029,
            533,
            271,
            419,
            343,
            407,
            446,
            82,
            611,
            321,
            406,
            231,
            44,
            824,
            42,
            144,
            73,
            813,
            144,
            265,
            1552,
            816,
            266,
            183,
            818,
            345,
            71,
            431,
            54,
            484,
            2498,
            182,
            610,
            25,
            322,
            333,
            155,
            41
           ]
          }
         ],
         "name": "male"
        },
        {
         "data": [
          {
           "coloraxis": "coloraxis",
           "geo": "geo",
           "hovertemplate": "GENDER=non_binary<br>STATE=%{location}<br>COUNT=%{z}<extra></extra>",
           "locationmode": "USA-states",
           "locations": [
            "AK",
            "AL",
            "AR",
            "AZ",
            "CA",
            "CO",
            "CT",
            "DC",
            "DE",
            "FL",
            "GA",
            "HI",
            "IA",
            "ID",
            "IL",
            "IN",
            "KS",
            "KY",
            "LA",
            "MA",
            "MD",
            "ME",
            "MI",
            "MN",
            "MO",
            "MS",
            "MT",
            "NC",
            "ND",
            "NE",
            "NH",
            "NJ",
            "NM",
            "NV",
            "NY",
            "OH",
            "OK",
            "OR",
            "PA",
            "PR",
            "RI",
            "SC",
            "SD",
            "TN",
            "TX",
            "UT",
            "VA",
            "VT",
            "WA",
            "WI",
            "WV",
            "WY"
           ],
           "name": "",
           "type": "choropleth",
           "z": [
            4,
            14,
            9,
            10,
            43,
            12,
            11,
            6,
            7,
            30,
            15,
            3,
            4,
            3,
            19,
            12,
            4,
            5,
            8,
            8,
            14,
            1,
            10,
            4,
            11,
            3,
            0,
            10,
            4,
            5,
            0,
            5,
            2,
            1,
            34,
            19,
            5,
            6,
            15,
            3,
            3,
            9,
            1,
            9,
            30,
            1,
            12,
            2,
            9,
            6,
            1,
            2
           ]
          }
         ],
         "name": "non_binary"
        },
        {
         "data": [
          {
           "coloraxis": "coloraxis",
           "geo": "geo",
           "hovertemplate": "GENDER=not_listed<br>STATE=%{location}<br>COUNT=%{z}<extra></extra>",
           "locationmode": "USA-states",
           "locations": [
            "AK",
            "AL",
            "AR",
            "AZ",
            "CA",
            "CO",
            "CT",
            "DC",
            "DE",
            "FL",
            "GA",
            "HI",
            "IA",
            "ID",
            "IL",
            "IN",
            "KS",
            "KY",
            "LA",
            "MA",
            "MD",
            "ME",
            "MI",
            "MN",
            "MO",
            "MS",
            "MT",
            "NC",
            "ND",
            "NE",
            "NH",
            "NJ",
            "NM",
            "NV",
            "NY",
            "OH",
            "OK",
            "OR",
            "PA",
            "PR",
            "RI",
            "SC",
            "SD",
            "TN",
            "TX",
            "UT",
            "VA",
            "VT",
            "WA",
            "WI",
            "WV",
            "WY"
           ],
           "name": "",
           "type": "choropleth",
           "z": [
            1,
            3,
            1,
            3,
            15,
            0,
            6,
            4,
            2,
            12,
            9,
            0,
            1,
            1,
            6,
            4,
            1,
            4,
            2,
            3,
            5,
            1,
            5,
            2,
            2,
            1,
            1,
            2,
            0,
            1,
            0,
            10,
            0,
            2,
            11,
            7,
            4,
            0,
            6,
            2,
            3,
            3,
            0,
            3,
            15,
            0,
            4,
            0,
            5,
            1,
            1,
            1
           ]
          }
         ],
         "name": "not_listed"
        },
        {
         "data": [
          {
           "coloraxis": "coloraxis",
           "geo": "geo",
           "hovertemplate": "GENDER=not_specified<br>STATE=%{location}<br>COUNT=%{z}<extra></extra>",
           "locationmode": "USA-states",
           "locations": [
            "AK",
            "AL",
            "AR",
            "AZ",
            "CA",
            "CO",
            "CT",
            "DC",
            "DE",
            "FL",
            "GA",
            "HI",
            "IA",
            "ID",
            "IL",
            "IN",
            "KS",
            "KY",
            "LA",
            "MA",
            "MD",
            "ME",
            "MI",
            "MN",
            "MO",
            "MS",
            "MT",
            "NC",
            "ND",
            "NE",
            "NH",
            "NJ",
            "NM",
            "NV",
            "NY",
            "OH",
            "OK",
            "OR",
            "PA",
            "PR",
            "RI",
            "SC",
            "SD",
            "TN",
            "TX",
            "UT",
            "VA",
            "VT",
            "WA",
            "WI",
            "WV",
            "WY"
           ],
           "name": "",
           "type": "choropleth",
           "z": [
            0,
            3,
            1,
            1,
            5,
            0,
            0,
            0,
            0,
            0,
            0,
            0,
            0,
            0,
            2,
            1,
            0,
            0,
            0,
            0,
            0,
            0,
            2,
            1,
            0,
            0,
            0,
            1,
            0,
            0,
            0,
            0,
            0,
            0,
            2,
            0,
            1,
            0,
            1,
            2,
            0,
            0,
            0,
            0,
            1,
            0,
            0,
            0,
            1,
            0,
            0,
            0
           ]
          }
         ],
         "name": "not_specified"
        },
        {
         "data": [
          {
           "coloraxis": "coloraxis",
           "geo": "geo",
           "hovertemplate": "GENDER=prefer_not_to_say<br>STATE=%{location}<br>COUNT=%{z}<extra></extra>",
           "locationmode": "USA-states",
           "locations": [
            "AK",
            "AL",
            "AR",
            "AZ",
            "CA",
            "CO",
            "CT",
            "DC",
            "DE",
            "FL",
            "GA",
            "HI",
            "IA",
            "ID",
            "IL",
            "IN",
            "KS",
            "KY",
            "LA",
            "MA",
            "MD",
            "ME",
            "MI",
            "MN",
            "MO",
            "MS",
            "MT",
            "NC",
            "ND",
            "NE",
            "NH",
            "NJ",
            "NM",
            "NV",
            "NY",
            "OH",
            "OK",
            "OR",
            "PA",
            "PR",
            "RI",
            "SC",
            "SD",
            "TN",
            "TX",
            "UT",
            "VA",
            "VT",
            "WA",
            "WI",
            "WV",
            "WY"
           ],
           "name": "",
           "type": "choropleth",
           "z": [
            2,
            20,
            11,
            26,
            137,
            14,
            21,
            2,
            7,
            121,
            53,
            8,
            10,
            4,
            58,
            37,
            9,
            19,
            12,
            20,
            32,
            7,
            32,
            20,
            14,
            15,
            0,
            42,
            1,
            7,
            3,
            43,
            9,
            14,
            88,
            40,
            11,
            9,
            52,
            20,
            2,
            13,
            2,
            21,
            131,
            2,
            40,
            1,
            26,
            19,
            7,
            3
           ]
          }
         ],
         "name": "prefer_not_to_say"
        },
        {
         "data": [
          {
           "coloraxis": "coloraxis",
           "geo": "geo",
           "hovertemplate": "GENDER=transgender<br>STATE=%{location}<br>COUNT=%{z}<extra></extra>",
           "locationmode": "USA-states",
           "locations": [
            "AK",
            "AL",
            "AR",
            "AZ",
            "CA",
            "CO",
            "CT",
            "DC",
            "DE",
            "FL",
            "GA",
            "HI",
            "IA",
            "ID",
            "IL",
            "IN",
            "KS",
            "KY",
            "LA",
            "MA",
            "MD",
            "ME",
            "MI",
            "MN",
            "MO",
            "MS",
            "MT",
            "NC",
            "ND",
            "NE",
            "NH",
            "NJ",
            "NM",
            "NV",
            "NY",
            "OH",
            "OK",
            "OR",
            "PA",
            "PR",
            "RI",
            "SC",
            "SD",
            "TN",
            "TX",
            "UT",
            "VA",
            "VT",
            "WA",
            "WI",
            "WV",
            "WY"
           ],
           "name": "",
           "type": "choropleth",
           "z": [
            15,
            38,
            14,
            35,
            228,
            27,
            27,
            16,
            15,
            124,
            54,
            22,
            16,
            5,
            62,
            24,
            15,
            20,
            18,
            31,
            32,
            10,
            39,
            18,
            24,
            16,
            5,
            50,
            3,
            10,
            8,
            55,
            4,
            13,
            112,
            38,
            12,
            15,
            60,
            8,
            6,
            19,
            3,
            33,
            147,
            10,
            35,
            1,
            27,
            14,
            10,
            10
           ]
          }
         ],
         "name": "transgender"
        },
        {
         "data": [
          {
           "coloraxis": "coloraxis",
           "geo": "geo",
           "hovertemplate": "GENDER=unknown<br>STATE=%{location}<br>COUNT=%{z}<extra></extra>",
           "locationmode": "USA-states",
           "locations": [
            "AK",
            "AL",
            "AR",
            "AZ",
            "CA",
            "CO",
            "CT",
            "DC",
            "DE",
            "FL",
            "GA",
            "HI",
            "IA",
            "ID",
            "IL",
            "IN",
            "KS",
            "KY",
            "LA",
            "MA",
            "MD",
            "ME",
            "MI",
            "MN",
            "MO",
            "MS",
            "MT",
            "NC",
            "ND",
            "NE",
            "NH",
            "NJ",
            "NM",
            "NV",
            "NY",
            "OH",
            "OK",
            "OR",
            "PA",
            "PR",
            "RI",
            "SC",
            "SD",
            "TN",
            "TX",
            "UT",
            "VA",
            "VT",
            "WA",
            "WI",
            "WV",
            "WY"
           ],
           "name": "",
           "type": "choropleth",
           "z": [
            1,
            4,
            2,
            4,
            26,
            4,
            1,
            1,
            4,
            16,
            6,
            3,
            2,
            2,
            13,
            4,
            0,
            1,
            2,
            1,
            3,
            0,
            3,
            0,
            1,
            0,
            0,
            4,
            0,
            0,
            1,
            2,
            2,
            0,
            14,
            9,
            0,
            1,
            3,
            2,
            0,
            4,
            0,
            2,
            19,
            3,
            2,
            0,
            5,
            1,
            1,
            0
           ]
          }
         ],
         "name": "unknown"
        }
       ],
       "layout": {
        "coloraxis": {
         "colorbar": {
          "title": {
           "text": "COUNT"
          }
         },
         "colorscale": [
          [
           0,
           "#0d0887"
          ],
          [
           0.1111111111111111,
           "#46039f"
          ],
          [
           0.2222222222222222,
           "#7201a8"
          ],
          [
           0.3333333333333333,
           "#9c179e"
          ],
          [
           0.4444444444444444,
           "#bd3786"
          ],
          [
           0.5555555555555556,
           "#d8576b"
          ],
          [
           0.6666666666666666,
           "#ed7953"
          ],
          [
           0.7777777777777778,
           "#fb9f3a"
          ],
          [
           0.8888888888888888,
           "#fdca26"
          ],
          [
           1,
           "#f0f921"
          ]
         ]
        },
        "geo": {
         "center": {},
         "domain": {
          "x": [
           0,
           1
          ],
          "y": [
           0,
           1
          ]
         },
         "scope": "usa"
        },
        "legend": {
         "tracegroupgap": 0
        },
        "sliders": [
         {
          "active": 0,
          "currentvalue": {
           "prefix": "GENDER="
          },
          "len": 0.9,
          "pad": {
           "b": 10,
           "t": 60
          },
          "steps": [
           {
            "args": [
             [
              "My gender isn't listed"
             ],
             {
              "frame": {
               "duration": 0,
               "redraw": true
              },
              "fromcurrent": true,
              "mode": "immediate",
              "transition": {
               "duration": 0,
               "easing": "linear"
              }
             }
            ],
            "label": "My gender isn't listed",
            "method": "animate"
           },
           {
            "args": [
             [
              "Non-Binary"
             ],
             {
              "frame": {
               "duration": 0,
               "redraw": true
              },
              "fromcurrent": true,
              "mode": "immediate",
              "transition": {
               "duration": 0,
               "easing": "linear"
              }
             }
            ],
            "label": "Non-Binary",
            "method": "animate"
           },
           {
            "args": [
             [
              "Prefer not to say"
             ],
             {
              "frame": {
               "duration": 0,
               "redraw": true
              },
              "fromcurrent": true,
              "mode": "immediate",
              "transition": {
               "duration": 0,
               "easing": "linear"
              }
             }
            ],
            "label": "Prefer not to say",
            "method": "animate"
           },
           {
            "args": [
             [
              "female"
             ],
             {
              "frame": {
               "duration": 0,
               "redraw": true
              },
              "fromcurrent": true,
              "mode": "immediate",
              "transition": {
               "duration": 0,
               "easing": "linear"
              }
             }
            ],
            "label": "female",
            "method": "animate"
           },
           {
            "args": [
             [
              "male"
             ],
             {
              "frame": {
               "duration": 0,
               "redraw": true
              },
              "fromcurrent": true,
              "mode": "immediate",
              "transition": {
               "duration": 0,
               "easing": "linear"
              }
             }
            ],
            "label": "male",
            "method": "animate"
           },
           {
            "args": [
             [
              "non_binary"
             ],
             {
              "frame": {
               "duration": 0,
               "redraw": true
              },
              "fromcurrent": true,
              "mode": "immediate",
              "transition": {
               "duration": 0,
               "easing": "linear"
              }
             }
            ],
            "label": "non_binary",
            "method": "animate"
           },
           {
            "args": [
             [
              "not_listed"
             ],
             {
              "frame": {
               "duration": 0,
               "redraw": true
              },
              "fromcurrent": true,
              "mode": "immediate",
              "transition": {
               "duration": 0,
               "easing": "linear"
              }
             }
            ],
            "label": "not_listed",
            "method": "animate"
           },
           {
            "args": [
             [
              "not_specified"
             ],
             {
              "frame": {
               "duration": 0,
               "redraw": true
              },
              "fromcurrent": true,
              "mode": "immediate",
              "transition": {
               "duration": 0,
               "easing": "linear"
              }
             }
            ],
            "label": "not_specified",
            "method": "animate"
           },
           {
            "args": [
             [
              "prefer_not_to_say"
             ],
             {
              "frame": {
               "duration": 0,
               "redraw": true
              },
              "fromcurrent": true,
              "mode": "immediate",
              "transition": {
               "duration": 0,
               "easing": "linear"
              }
             }
            ],
            "label": "prefer_not_to_say",
            "method": "animate"
           },
           {
            "args": [
             [
              "transgender"
             ],
             {
              "frame": {
               "duration": 0,
               "redraw": true
              },
              "fromcurrent": true,
              "mode": "immediate",
              "transition": {
               "duration": 0,
               "easing": "linear"
              }
             }
            ],
            "label": "transgender",
            "method": "animate"
           },
           {
            "args": [
             [
              "unknown"
             ],
             {
              "frame": {
               "duration": 0,
               "redraw": true
              },
              "fromcurrent": true,
              "mode": "immediate",
              "transition": {
               "duration": 0,
               "easing": "linear"
              }
             }
            ],
            "label": "unknown",
            "method": "animate"
           }
          ],
          "x": 0.1,
          "xanchor": "left",
          "y": 0,
          "yanchor": "top"
         }
        ],
        "template": {
         "data": {
          "bar": [
           {
            "error_x": {
             "color": "#2a3f5f"
            },
            "error_y": {
             "color": "#2a3f5f"
            },
            "marker": {
             "line": {
              "color": "#E5ECF6",
              "width": 0.5
             },
             "pattern": {
              "fillmode": "overlay",
              "size": 10,
              "solidity": 0.2
             }
            },
            "type": "bar"
           }
          ],
          "barpolar": [
           {
            "marker": {
             "line": {
              "color": "#E5ECF6",
              "width": 0.5
             },
             "pattern": {
              "fillmode": "overlay",
              "size": 10,
              "solidity": 0.2
             }
            },
            "type": "barpolar"
           }
          ],
          "carpet": [
           {
            "aaxis": {
             "endlinecolor": "#2a3f5f",
             "gridcolor": "white",
             "linecolor": "white",
             "minorgridcolor": "white",
             "startlinecolor": "#2a3f5f"
            },
            "baxis": {
             "endlinecolor": "#2a3f5f",
             "gridcolor": "white",
             "linecolor": "white",
             "minorgridcolor": "white",
             "startlinecolor": "#2a3f5f"
            },
            "type": "carpet"
           }
          ],
          "choropleth": [
           {
            "colorbar": {
             "outlinewidth": 0,
             "ticks": ""
            },
            "type": "choropleth"
           }
          ],
          "contour": [
           {
            "colorbar": {
             "outlinewidth": 0,
             "ticks": ""
            },
            "colorscale": [
             [
              0,
              "#0d0887"
             ],
             [
              0.1111111111111111,
              "#46039f"
             ],
             [
              0.2222222222222222,
              "#7201a8"
             ],
             [
              0.3333333333333333,
              "#9c179e"
             ],
             [
              0.4444444444444444,
              "#bd3786"
             ],
             [
              0.5555555555555556,
              "#d8576b"
             ],
             [
              0.6666666666666666,
              "#ed7953"
             ],
             [
              0.7777777777777778,
              "#fb9f3a"
             ],
             [
              0.8888888888888888,
              "#fdca26"
             ],
             [
              1,
              "#f0f921"
             ]
            ],
            "type": "contour"
           }
          ],
          "contourcarpet": [
           {
            "colorbar": {
             "outlinewidth": 0,
             "ticks": ""
            },
            "type": "contourcarpet"
           }
          ],
          "heatmap": [
           {
            "colorbar": {
             "outlinewidth": 0,
             "ticks": ""
            },
            "colorscale": [
             [
              0,
              "#0d0887"
             ],
             [
              0.1111111111111111,
              "#46039f"
             ],
             [
              0.2222222222222222,
              "#7201a8"
             ],
             [
              0.3333333333333333,
              "#9c179e"
             ],
             [
              0.4444444444444444,
              "#bd3786"
             ],
             [
              0.5555555555555556,
              "#d8576b"
             ],
             [
              0.6666666666666666,
              "#ed7953"
             ],
             [
              0.7777777777777778,
              "#fb9f3a"
             ],
             [
              0.8888888888888888,
              "#fdca26"
             ],
             [
              1,
              "#f0f921"
             ]
            ],
            "type": "heatmap"
           }
          ],
          "heatmapgl": [
           {
            "colorbar": {
             "outlinewidth": 0,
             "ticks": ""
            },
            "colorscale": [
             [
              0,
              "#0d0887"
             ],
             [
              0.1111111111111111,
              "#46039f"
             ],
             [
              0.2222222222222222,
              "#7201a8"
             ],
             [
              0.3333333333333333,
              "#9c179e"
             ],
             [
              0.4444444444444444,
              "#bd3786"
             ],
             [
              0.5555555555555556,
              "#d8576b"
             ],
             [
              0.6666666666666666,
              "#ed7953"
             ],
             [
              0.7777777777777778,
              "#fb9f3a"
             ],
             [
              0.8888888888888888,
              "#fdca26"
             ],
             [
              1,
              "#f0f921"
             ]
            ],
            "type": "heatmapgl"
           }
          ],
          "histogram": [
           {
            "marker": {
             "pattern": {
              "fillmode": "overlay",
              "size": 10,
              "solidity": 0.2
             }
            },
            "type": "histogram"
           }
          ],
          "histogram2d": [
           {
            "colorbar": {
             "outlinewidth": 0,
             "ticks": ""
            },
            "colorscale": [
             [
              0,
              "#0d0887"
             ],
             [
              0.1111111111111111,
              "#46039f"
             ],
             [
              0.2222222222222222,
              "#7201a8"
             ],
             [
              0.3333333333333333,
              "#9c179e"
             ],
             [
              0.4444444444444444,
              "#bd3786"
             ],
             [
              0.5555555555555556,
              "#d8576b"
             ],
             [
              0.6666666666666666,
              "#ed7953"
             ],
             [
              0.7777777777777778,
              "#fb9f3a"
             ],
             [
              0.8888888888888888,
              "#fdca26"
             ],
             [
              1,
              "#f0f921"
             ]
            ],
            "type": "histogram2d"
           }
          ],
          "histogram2dcontour": [
           {
            "colorbar": {
             "outlinewidth": 0,
             "ticks": ""
            },
            "colorscale": [
             [
              0,
              "#0d0887"
             ],
             [
              0.1111111111111111,
              "#46039f"
             ],
             [
              0.2222222222222222,
              "#7201a8"
             ],
             [
              0.3333333333333333,
              "#9c179e"
             ],
             [
              0.4444444444444444,
              "#bd3786"
             ],
             [
              0.5555555555555556,
              "#d8576b"
             ],
             [
              0.6666666666666666,
              "#ed7953"
             ],
             [
              0.7777777777777778,
              "#fb9f3a"
             ],
             [
              0.8888888888888888,
              "#fdca26"
             ],
             [
              1,
              "#f0f921"
             ]
            ],
            "type": "histogram2dcontour"
           }
          ],
          "mesh3d": [
           {
            "colorbar": {
             "outlinewidth": 0,
             "ticks": ""
            },
            "type": "mesh3d"
           }
          ],
          "parcoords": [
           {
            "line": {
             "colorbar": {
              "outlinewidth": 0,
              "ticks": ""
             }
            },
            "type": "parcoords"
           }
          ],
          "pie": [
           {
            "automargin": true,
            "type": "pie"
           }
          ],
          "scatter": [
           {
            "fillpattern": {
             "fillmode": "overlay",
             "size": 10,
             "solidity": 0.2
            },
            "type": "scatter"
           }
          ],
          "scatter3d": [
           {
            "line": {
             "colorbar": {
              "outlinewidth": 0,
              "ticks": ""
             }
            },
            "marker": {
             "colorbar": {
              "outlinewidth": 0,
              "ticks": ""
             }
            },
            "type": "scatter3d"
           }
          ],
          "scattercarpet": [
           {
            "marker": {
             "colorbar": {
              "outlinewidth": 0,
              "ticks": ""
             }
            },
            "type": "scattercarpet"
           }
          ],
          "scattergeo": [
           {
            "marker": {
             "colorbar": {
              "outlinewidth": 0,
              "ticks": ""
             }
            },
            "type": "scattergeo"
           }
          ],
          "scattergl": [
           {
            "marker": {
             "colorbar": {
              "outlinewidth": 0,
              "ticks": ""
             }
            },
            "type": "scattergl"
           }
          ],
          "scattermapbox": [
           {
            "marker": {
             "colorbar": {
              "outlinewidth": 0,
              "ticks": ""
             }
            },
            "type": "scattermapbox"
           }
          ],
          "scatterpolar": [
           {
            "marker": {
             "colorbar": {
              "outlinewidth": 0,
              "ticks": ""
             }
            },
            "type": "scatterpolar"
           }
          ],
          "scatterpolargl": [
           {
            "marker": {
             "colorbar": {
              "outlinewidth": 0,
              "ticks": ""
             }
            },
            "type": "scatterpolargl"
           }
          ],
          "scatterternary": [
           {
            "marker": {
             "colorbar": {
              "outlinewidth": 0,
              "ticks": ""
             }
            },
            "type": "scatterternary"
           }
          ],
          "surface": [
           {
            "colorbar": {
             "outlinewidth": 0,
             "ticks": ""
            },
            "colorscale": [
             [
              0,
              "#0d0887"
             ],
             [
              0.1111111111111111,
              "#46039f"
             ],
             [
              0.2222222222222222,
              "#7201a8"
             ],
             [
              0.3333333333333333,
              "#9c179e"
             ],
             [
              0.4444444444444444,
              "#bd3786"
             ],
             [
              0.5555555555555556,
              "#d8576b"
             ],
             [
              0.6666666666666666,
              "#ed7953"
             ],
             [
              0.7777777777777778,
              "#fb9f3a"
             ],
             [
              0.8888888888888888,
              "#fdca26"
             ],
             [
              1,
              "#f0f921"
             ]
            ],
            "type": "surface"
           }
          ],
          "table": [
           {
            "cells": {
             "fill": {
              "color": "#EBF0F8"
             },
             "line": {
              "color": "white"
             }
            },
            "header": {
             "fill": {
              "color": "#C8D4E3"
             },
             "line": {
              "color": "white"
             }
            },
            "type": "table"
           }
          ]
         },
         "layout": {
          "annotationdefaults": {
           "arrowcolor": "#2a3f5f",
           "arrowhead": 0,
           "arrowwidth": 1
          },
          "autotypenumbers": "strict",
          "coloraxis": {
           "colorbar": {
            "outlinewidth": 0,
            "ticks": ""
           }
          },
          "colorscale": {
           "diverging": [
            [
             0,
             "#8e0152"
            ],
            [
             0.1,
             "#c51b7d"
            ],
            [
             0.2,
             "#de77ae"
            ],
            [
             0.3,
             "#f1b6da"
            ],
            [
             0.4,
             "#fde0ef"
            ],
            [
             0.5,
             "#f7f7f7"
            ],
            [
             0.6,
             "#e6f5d0"
            ],
            [
             0.7,
             "#b8e186"
            ],
            [
             0.8,
             "#7fbc41"
            ],
            [
             0.9,
             "#4d9221"
            ],
            [
             1,
             "#276419"
            ]
           ],
           "sequential": [
            [
             0,
             "#0d0887"
            ],
            [
             0.1111111111111111,
             "#46039f"
            ],
            [
             0.2222222222222222,
             "#7201a8"
            ],
            [
             0.3333333333333333,
             "#9c179e"
            ],
            [
             0.4444444444444444,
             "#bd3786"
            ],
            [
             0.5555555555555556,
             "#d8576b"
            ],
            [
             0.6666666666666666,
             "#ed7953"
            ],
            [
             0.7777777777777778,
             "#fb9f3a"
            ],
            [
             0.8888888888888888,
             "#fdca26"
            ],
            [
             1,
             "#f0f921"
            ]
           ],
           "sequentialminus": [
            [
             0,
             "#0d0887"
            ],
            [
             0.1111111111111111,
             "#46039f"
            ],
            [
             0.2222222222222222,
             "#7201a8"
            ],
            [
             0.3333333333333333,
             "#9c179e"
            ],
            [
             0.4444444444444444,
             "#bd3786"
            ],
            [
             0.5555555555555556,
             "#d8576b"
            ],
            [
             0.6666666666666666,
             "#ed7953"
            ],
            [
             0.7777777777777778,
             "#fb9f3a"
            ],
            [
             0.8888888888888888,
             "#fdca26"
            ],
            [
             1,
             "#f0f921"
            ]
           ]
          },
          "colorway": [
           "#636efa",
           "#EF553B",
           "#00cc96",
           "#ab63fa",
           "#FFA15A",
           "#19d3f3",
           "#FF6692",
           "#B6E880",
           "#FF97FF",
           "#FECB52"
          ],
          "font": {
           "color": "#2a3f5f"
          },
          "geo": {
           "bgcolor": "white",
           "lakecolor": "white",
           "landcolor": "#E5ECF6",
           "showlakes": true,
           "showland": true,
           "subunitcolor": "white"
          },
          "hoverlabel": {
           "align": "left"
          },
          "hovermode": "closest",
          "mapbox": {
           "style": "light"
          },
          "paper_bgcolor": "white",
          "plot_bgcolor": "#E5ECF6",
          "polar": {
           "angularaxis": {
            "gridcolor": "white",
            "linecolor": "white",
            "ticks": ""
           },
           "bgcolor": "#E5ECF6",
           "radialaxis": {
            "gridcolor": "white",
            "linecolor": "white",
            "ticks": ""
           }
          },
          "scene": {
           "xaxis": {
            "backgroundcolor": "#E5ECF6",
            "gridcolor": "white",
            "gridwidth": 2,
            "linecolor": "white",
            "showbackground": true,
            "ticks": "",
            "zerolinecolor": "white"
           },
           "yaxis": {
            "backgroundcolor": "#E5ECF6",
            "gridcolor": "white",
            "gridwidth": 2,
            "linecolor": "white",
            "showbackground": true,
            "ticks": "",
            "zerolinecolor": "white"
           },
           "zaxis": {
            "backgroundcolor": "#E5ECF6",
            "gridcolor": "white",
            "gridwidth": 2,
            "linecolor": "white",
            "showbackground": true,
            "ticks": "",
            "zerolinecolor": "white"
           }
          },
          "shapedefaults": {
           "line": {
            "color": "#2a3f5f"
           }
          },
          "ternary": {
           "aaxis": {
            "gridcolor": "white",
            "linecolor": "white",
            "ticks": ""
           },
           "baxis": {
            "gridcolor": "white",
            "linecolor": "white",
            "ticks": ""
           },
           "bgcolor": "#E5ECF6",
           "caxis": {
            "gridcolor": "white",
            "linecolor": "white",
            "ticks": ""
           }
          },
          "title": {
           "x": 0.05
          },
          "xaxis": {
           "automargin": true,
           "gridcolor": "white",
           "linecolor": "white",
           "ticks": "",
           "title": {
            "standoff": 15
           },
           "zerolinecolor": "white",
           "zerolinewidth": 2
          },
          "yaxis": {
           "automargin": true,
           "gridcolor": "white",
           "linecolor": "white",
           "ticks": "",
           "title": {
            "standoff": 15
           },
           "zerolinecolor": "white",
           "zerolinewidth": 2
          }
         }
        },
        "title": {
         "text": "Total IDs by State and Gender"
        },
        "updatemenus": [
         {
          "buttons": [
           {
            "args": [
             null,
             {
              "frame": {
               "duration": 500,
               "redraw": true
              },
              "fromcurrent": true,
              "mode": "immediate",
              "transition": {
               "duration": 500,
               "easing": "linear"
              }
             }
            ],
            "label": "&#9654;",
            "method": "animate"
           },
           {
            "args": [
             [
              null
             ],
             {
              "frame": {
               "duration": 0,
               "redraw": true
              },
              "fromcurrent": true,
              "mode": "immediate",
              "transition": {
               "duration": 0,
               "easing": "linear"
              }
             }
            ],
            "label": "&#9724;",
            "method": "animate"
           }
          ],
          "direction": "left",
          "pad": {
           "r": 10,
           "t": 70
          },
          "showactive": false,
          "type": "buttons",
          "x": 0.1,
          "xanchor": "right",
          "y": 0,
          "yanchor": "top"
         }
        ]
       }
      }
     },
     "metadata": {},
     "output_type": "display_data"
    }
   ],
   "source": [
    "# Group by state and gender\n",
    "state_gender_counts = df_users.groupby([\"STATE\", \"GENDER\"]).size().unstack(fill_value=0)\n",
    "\n",
    "# Plot map chart using Plotly\n",
    "import plotly.express as px\n",
    "\n",
    "# Convert counts to a long format for plotting\n",
    "state_gender_long = state_gender_counts.reset_index().melt(id_vars=\"STATE\", var_name=\"GENDER\", value_name=\"COUNT\")\n",
    "\n",
    "# Create map chart\n",
    "fig = px.choropleth(\n",
    "    state_gender_long,\n",
    "    locations=\"STATE\",\n",
    "    locationmode=\"USA-states\",\n",
    "    color=\"COUNT\",\n",
    "    scope=\"usa\",\n",
    "    animation_frame=\"GENDER\",\n",
    "    title=\"Total IDs by State and Gender\"\n",
    ")\n",
    "fig.show()"
   ]
  },
  {
   "cell_type": "code",
   "execution_count": 47,
   "metadata": {},
   "outputs": [],
   "source": [
    "# Extract year from CREATED_DATE\n",
    "df_users[\"YEAR\"] = pd.to_datetime(df_users[\"CREATED_DATE\"]).dt.year\n",
    "\n",
    "# Group by year and state to count IDs\n",
    "yearly_counts_state = df_users.groupby([\"YEAR\", \"STATE\"]).size().unstack(fill_value=0)\n",
    "\n",
    "# Calculate percentage growth year-over-year\n",
    "growth_state = yearly_counts_state.pct_change().fillna(0).round(4) * 100\n",
    "\n",
    "# Filter growth for 2022 to 2023 and 2023 to 2024\n",
    "growth_2020_to_2021 = growth_state.loc[2021]\n",
    "growth_2021_to_2022 = growth_state.loc[2022]\n",
    "growth_2022_to_2023 = growth_state.loc[2023]\n",
    "growth_2023_to_2024 = growth_state.loc[2024]\n",
    "\n"
   ]
  },
  {
   "cell_type": "code",
   "execution_count": 46,
   "metadata": {},
   "outputs": [
    {
     "data": {
      "application/vnd.plotly.v1+json": {
       "config": {
        "plotlyServerURL": "https://plot.ly"
       },
       "data": [
        {
         "coloraxis": "coloraxis",
         "geo": "geo",
         "hovertemplate": "STATE=%{location}<br>growth=%{z}<extra></extra>",
         "locationmode": "USA-states",
         "locations": [
          "AK",
          "AL",
          "AR",
          "AZ",
          "CA",
          "CO",
          "CT",
          "DC",
          "DE",
          "FL",
          "GA",
          "HI",
          "IA",
          "ID",
          "IL",
          "IN",
          "KS",
          "KY",
          "LA",
          "MA",
          "MD",
          "ME",
          "MI",
          "MN",
          "MO",
          "MS",
          "MT",
          "NC",
          "ND",
          "NE",
          "NH",
          "NJ",
          "NM",
          "NV",
          "NY",
          "OH",
          "OK",
          "OR",
          "PA",
          "PR",
          "RI",
          "SC",
          "SD",
          "TN",
          "TX",
          "UT",
          "VA",
          "VT",
          "WA",
          "WI",
          "WV",
          "WY"
         ],
         "name": "",
         "type": "choropleth",
         "z": [
          -70.91,
          -47.620000000000005,
          -51.300000000000004,
          -41.839999999999996,
          -51.35999999999999,
          -54.769999999999996,
          -53.72,
          -28.57,
          -69.03,
          -42.13,
          -41.3,
          -58.02,
          -38.519999999999996,
          -59.79,
          -42.11,
          -41.15,
          -49.76,
          -45.57,
          -49.86,
          -46.760000000000005,
          -49.02,
          -42.35,
          -36.059999999999995,
          -49.830000000000005,
          -43.25,
          -46.589999999999996,
          -60.870000000000005,
          -45.08,
          -50.94,
          -19.009999999999998,
          -25.64,
          -40.339999999999996,
          -59.699999999999996,
          -52.14,
          -49.09,
          -43.580000000000005,
          -49.35,
          -35.76,
          -38.68,
          -46.02,
          -46.150000000000006,
          -43.830000000000005,
          -30.36,
          -40.86,
          -51.81,
          -53.7,
          -50.370000000000005,
          -40.739999999999995,
          -39.94,
          -38.07,
          -41.42,
          -65
         ]
        }
       ],
       "layout": {
        "coloraxis": {
         "colorbar": {
          "title": {
           "text": "growth"
          }
         },
         "colorscale": [
          [
           0,
           "#0508b8"
          ],
          [
           0.08333333333333333,
           "#1910d8"
          ],
          [
           0.16666666666666666,
           "#3c19f0"
          ],
          [
           0.25,
           "#6b1cfb"
          ],
          [
           0.3333333333333333,
           "#981cfd"
          ],
          [
           0.4166666666666667,
           "#bf1cfd"
          ],
          [
           0.5,
           "#dd2bfd"
          ],
          [
           0.5833333333333334,
           "#f246fe"
          ],
          [
           0.6666666666666666,
           "#fc67fd"
          ],
          [
           0.75,
           "#fe88fc"
          ],
          [
           0.8333333333333334,
           "#fea5fd"
          ],
          [
           0.9166666666666666,
           "#febefe"
          ],
          [
           1,
           "#fec3fe"
          ]
         ]
        },
        "geo": {
         "center": {},
         "domain": {
          "x": [
           0,
           1
          ],
          "y": [
           0,
           1
          ]
         },
         "scope": "usa"
        },
        "legend": {
         "tracegroupgap": 0
        },
        "template": {
         "data": {
          "bar": [
           {
            "error_x": {
             "color": "#2a3f5f"
            },
            "error_y": {
             "color": "#2a3f5f"
            },
            "marker": {
             "line": {
              "color": "#E5ECF6",
              "width": 0.5
             },
             "pattern": {
              "fillmode": "overlay",
              "size": 10,
              "solidity": 0.2
             }
            },
            "type": "bar"
           }
          ],
          "barpolar": [
           {
            "marker": {
             "line": {
              "color": "#E5ECF6",
              "width": 0.5
             },
             "pattern": {
              "fillmode": "overlay",
              "size": 10,
              "solidity": 0.2
             }
            },
            "type": "barpolar"
           }
          ],
          "carpet": [
           {
            "aaxis": {
             "endlinecolor": "#2a3f5f",
             "gridcolor": "white",
             "linecolor": "white",
             "minorgridcolor": "white",
             "startlinecolor": "#2a3f5f"
            },
            "baxis": {
             "endlinecolor": "#2a3f5f",
             "gridcolor": "white",
             "linecolor": "white",
             "minorgridcolor": "white",
             "startlinecolor": "#2a3f5f"
            },
            "type": "carpet"
           }
          ],
          "choropleth": [
           {
            "colorbar": {
             "outlinewidth": 0,
             "ticks": ""
            },
            "type": "choropleth"
           }
          ],
          "contour": [
           {
            "colorbar": {
             "outlinewidth": 0,
             "ticks": ""
            },
            "colorscale": [
             [
              0,
              "#0d0887"
             ],
             [
              0.1111111111111111,
              "#46039f"
             ],
             [
              0.2222222222222222,
              "#7201a8"
             ],
             [
              0.3333333333333333,
              "#9c179e"
             ],
             [
              0.4444444444444444,
              "#bd3786"
             ],
             [
              0.5555555555555556,
              "#d8576b"
             ],
             [
              0.6666666666666666,
              "#ed7953"
             ],
             [
              0.7777777777777778,
              "#fb9f3a"
             ],
             [
              0.8888888888888888,
              "#fdca26"
             ],
             [
              1,
              "#f0f921"
             ]
            ],
            "type": "contour"
           }
          ],
          "contourcarpet": [
           {
            "colorbar": {
             "outlinewidth": 0,
             "ticks": ""
            },
            "type": "contourcarpet"
           }
          ],
          "heatmap": [
           {
            "colorbar": {
             "outlinewidth": 0,
             "ticks": ""
            },
            "colorscale": [
             [
              0,
              "#0d0887"
             ],
             [
              0.1111111111111111,
              "#46039f"
             ],
             [
              0.2222222222222222,
              "#7201a8"
             ],
             [
              0.3333333333333333,
              "#9c179e"
             ],
             [
              0.4444444444444444,
              "#bd3786"
             ],
             [
              0.5555555555555556,
              "#d8576b"
             ],
             [
              0.6666666666666666,
              "#ed7953"
             ],
             [
              0.7777777777777778,
              "#fb9f3a"
             ],
             [
              0.8888888888888888,
              "#fdca26"
             ],
             [
              1,
              "#f0f921"
             ]
            ],
            "type": "heatmap"
           }
          ],
          "heatmapgl": [
           {
            "colorbar": {
             "outlinewidth": 0,
             "ticks": ""
            },
            "colorscale": [
             [
              0,
              "#0d0887"
             ],
             [
              0.1111111111111111,
              "#46039f"
             ],
             [
              0.2222222222222222,
              "#7201a8"
             ],
             [
              0.3333333333333333,
              "#9c179e"
             ],
             [
              0.4444444444444444,
              "#bd3786"
             ],
             [
              0.5555555555555556,
              "#d8576b"
             ],
             [
              0.6666666666666666,
              "#ed7953"
             ],
             [
              0.7777777777777778,
              "#fb9f3a"
             ],
             [
              0.8888888888888888,
              "#fdca26"
             ],
             [
              1,
              "#f0f921"
             ]
            ],
            "type": "heatmapgl"
           }
          ],
          "histogram": [
           {
            "marker": {
             "pattern": {
              "fillmode": "overlay",
              "size": 10,
              "solidity": 0.2
             }
            },
            "type": "histogram"
           }
          ],
          "histogram2d": [
           {
            "colorbar": {
             "outlinewidth": 0,
             "ticks": ""
            },
            "colorscale": [
             [
              0,
              "#0d0887"
             ],
             [
              0.1111111111111111,
              "#46039f"
             ],
             [
              0.2222222222222222,
              "#7201a8"
             ],
             [
              0.3333333333333333,
              "#9c179e"
             ],
             [
              0.4444444444444444,
              "#bd3786"
             ],
             [
              0.5555555555555556,
              "#d8576b"
             ],
             [
              0.6666666666666666,
              "#ed7953"
             ],
             [
              0.7777777777777778,
              "#fb9f3a"
             ],
             [
              0.8888888888888888,
              "#fdca26"
             ],
             [
              1,
              "#f0f921"
             ]
            ],
            "type": "histogram2d"
           }
          ],
          "histogram2dcontour": [
           {
            "colorbar": {
             "outlinewidth": 0,
             "ticks": ""
            },
            "colorscale": [
             [
              0,
              "#0d0887"
             ],
             [
              0.1111111111111111,
              "#46039f"
             ],
             [
              0.2222222222222222,
              "#7201a8"
             ],
             [
              0.3333333333333333,
              "#9c179e"
             ],
             [
              0.4444444444444444,
              "#bd3786"
             ],
             [
              0.5555555555555556,
              "#d8576b"
             ],
             [
              0.6666666666666666,
              "#ed7953"
             ],
             [
              0.7777777777777778,
              "#fb9f3a"
             ],
             [
              0.8888888888888888,
              "#fdca26"
             ],
             [
              1,
              "#f0f921"
             ]
            ],
            "type": "histogram2dcontour"
           }
          ],
          "mesh3d": [
           {
            "colorbar": {
             "outlinewidth": 0,
             "ticks": ""
            },
            "type": "mesh3d"
           }
          ],
          "parcoords": [
           {
            "line": {
             "colorbar": {
              "outlinewidth": 0,
              "ticks": ""
             }
            },
            "type": "parcoords"
           }
          ],
          "pie": [
           {
            "automargin": true,
            "type": "pie"
           }
          ],
          "scatter": [
           {
            "fillpattern": {
             "fillmode": "overlay",
             "size": 10,
             "solidity": 0.2
            },
            "type": "scatter"
           }
          ],
          "scatter3d": [
           {
            "line": {
             "colorbar": {
              "outlinewidth": 0,
              "ticks": ""
             }
            },
            "marker": {
             "colorbar": {
              "outlinewidth": 0,
              "ticks": ""
             }
            },
            "type": "scatter3d"
           }
          ],
          "scattercarpet": [
           {
            "marker": {
             "colorbar": {
              "outlinewidth": 0,
              "ticks": ""
             }
            },
            "type": "scattercarpet"
           }
          ],
          "scattergeo": [
           {
            "marker": {
             "colorbar": {
              "outlinewidth": 0,
              "ticks": ""
             }
            },
            "type": "scattergeo"
           }
          ],
          "scattergl": [
           {
            "marker": {
             "colorbar": {
              "outlinewidth": 0,
              "ticks": ""
             }
            },
            "type": "scattergl"
           }
          ],
          "scattermapbox": [
           {
            "marker": {
             "colorbar": {
              "outlinewidth": 0,
              "ticks": ""
             }
            },
            "type": "scattermapbox"
           }
          ],
          "scatterpolar": [
           {
            "marker": {
             "colorbar": {
              "outlinewidth": 0,
              "ticks": ""
             }
            },
            "type": "scatterpolar"
           }
          ],
          "scatterpolargl": [
           {
            "marker": {
             "colorbar": {
              "outlinewidth": 0,
              "ticks": ""
             }
            },
            "type": "scatterpolargl"
           }
          ],
          "scatterternary": [
           {
            "marker": {
             "colorbar": {
              "outlinewidth": 0,
              "ticks": ""
             }
            },
            "type": "scatterternary"
           }
          ],
          "surface": [
           {
            "colorbar": {
             "outlinewidth": 0,
             "ticks": ""
            },
            "colorscale": [
             [
              0,
              "#0d0887"
             ],
             [
              0.1111111111111111,
              "#46039f"
             ],
             [
              0.2222222222222222,
              "#7201a8"
             ],
             [
              0.3333333333333333,
              "#9c179e"
             ],
             [
              0.4444444444444444,
              "#bd3786"
             ],
             [
              0.5555555555555556,
              "#d8576b"
             ],
             [
              0.6666666666666666,
              "#ed7953"
             ],
             [
              0.7777777777777778,
              "#fb9f3a"
             ],
             [
              0.8888888888888888,
              "#fdca26"
             ],
             [
              1,
              "#f0f921"
             ]
            ],
            "type": "surface"
           }
          ],
          "table": [
           {
            "cells": {
             "fill": {
              "color": "#EBF0F8"
             },
             "line": {
              "color": "white"
             }
            },
            "header": {
             "fill": {
              "color": "#C8D4E3"
             },
             "line": {
              "color": "white"
             }
            },
            "type": "table"
           }
          ]
         },
         "layout": {
          "annotationdefaults": {
           "arrowcolor": "#2a3f5f",
           "arrowhead": 0,
           "arrowwidth": 1
          },
          "autotypenumbers": "strict",
          "coloraxis": {
           "colorbar": {
            "outlinewidth": 0,
            "ticks": ""
           }
          },
          "colorscale": {
           "diverging": [
            [
             0,
             "#8e0152"
            ],
            [
             0.1,
             "#c51b7d"
            ],
            [
             0.2,
             "#de77ae"
            ],
            [
             0.3,
             "#f1b6da"
            ],
            [
             0.4,
             "#fde0ef"
            ],
            [
             0.5,
             "#f7f7f7"
            ],
            [
             0.6,
             "#e6f5d0"
            ],
            [
             0.7,
             "#b8e186"
            ],
            [
             0.8,
             "#7fbc41"
            ],
            [
             0.9,
             "#4d9221"
            ],
            [
             1,
             "#276419"
            ]
           ],
           "sequential": [
            [
             0,
             "#0d0887"
            ],
            [
             0.1111111111111111,
             "#46039f"
            ],
            [
             0.2222222222222222,
             "#7201a8"
            ],
            [
             0.3333333333333333,
             "#9c179e"
            ],
            [
             0.4444444444444444,
             "#bd3786"
            ],
            [
             0.5555555555555556,
             "#d8576b"
            ],
            [
             0.6666666666666666,
             "#ed7953"
            ],
            [
             0.7777777777777778,
             "#fb9f3a"
            ],
            [
             0.8888888888888888,
             "#fdca26"
            ],
            [
             1,
             "#f0f921"
            ]
           ],
           "sequentialminus": [
            [
             0,
             "#0d0887"
            ],
            [
             0.1111111111111111,
             "#46039f"
            ],
            [
             0.2222222222222222,
             "#7201a8"
            ],
            [
             0.3333333333333333,
             "#9c179e"
            ],
            [
             0.4444444444444444,
             "#bd3786"
            ],
            [
             0.5555555555555556,
             "#d8576b"
            ],
            [
             0.6666666666666666,
             "#ed7953"
            ],
            [
             0.7777777777777778,
             "#fb9f3a"
            ],
            [
             0.8888888888888888,
             "#fdca26"
            ],
            [
             1,
             "#f0f921"
            ]
           ]
          },
          "colorway": [
           "#636efa",
           "#EF553B",
           "#00cc96",
           "#ab63fa",
           "#FFA15A",
           "#19d3f3",
           "#FF6692",
           "#B6E880",
           "#FF97FF",
           "#FECB52"
          ],
          "font": {
           "color": "#2a3f5f"
          },
          "geo": {
           "bgcolor": "white",
           "lakecolor": "white",
           "landcolor": "#E5ECF6",
           "showlakes": true,
           "showland": true,
           "subunitcolor": "white"
          },
          "hoverlabel": {
           "align": "left"
          },
          "hovermode": "closest",
          "mapbox": {
           "style": "light"
          },
          "paper_bgcolor": "white",
          "plot_bgcolor": "#E5ECF6",
          "polar": {
           "angularaxis": {
            "gridcolor": "white",
            "linecolor": "white",
            "ticks": ""
           },
           "bgcolor": "#E5ECF6",
           "radialaxis": {
            "gridcolor": "white",
            "linecolor": "white",
            "ticks": ""
           }
          },
          "scene": {
           "xaxis": {
            "backgroundcolor": "#E5ECF6",
            "gridcolor": "white",
            "gridwidth": 2,
            "linecolor": "white",
            "showbackground": true,
            "ticks": "",
            "zerolinecolor": "white"
           },
           "yaxis": {
            "backgroundcolor": "#E5ECF6",
            "gridcolor": "white",
            "gridwidth": 2,
            "linecolor": "white",
            "showbackground": true,
            "ticks": "",
            "zerolinecolor": "white"
           },
           "zaxis": {
            "backgroundcolor": "#E5ECF6",
            "gridcolor": "white",
            "gridwidth": 2,
            "linecolor": "white",
            "showbackground": true,
            "ticks": "",
            "zerolinecolor": "white"
           }
          },
          "shapedefaults": {
           "line": {
            "color": "#2a3f5f"
           }
          },
          "ternary": {
           "aaxis": {
            "gridcolor": "white",
            "linecolor": "white",
            "ticks": ""
           },
           "baxis": {
            "gridcolor": "white",
            "linecolor": "white",
            "ticks": ""
           },
           "bgcolor": "#E5ECF6",
           "caxis": {
            "gridcolor": "white",
            "linecolor": "white",
            "ticks": ""
           }
          },
          "title": {
           "x": 0.05
          },
          "xaxis": {
           "automargin": true,
           "gridcolor": "white",
           "linecolor": "white",
           "ticks": "",
           "title": {
            "standoff": 15
           },
           "zerolinecolor": "white",
           "zerolinewidth": 2
          },
          "yaxis": {
           "automargin": true,
           "gridcolor": "white",
           "linecolor": "white",
           "ticks": "",
           "title": {
            "standoff": 15
           },
           "zerolinecolor": "white",
           "zerolinewidth": 2
          }
         }
        },
        "title": {
         "text": "2022 to 2023 Percentage Growth by State"
        }
       }
      }
     },
     "metadata": {},
     "output_type": "display_data"
    },
    {
     "data": {
      "application/vnd.plotly.v1+json": {
       "config": {
        "plotlyServerURL": "https://plot.ly"
       },
       "data": [
        {
         "coloraxis": "coloraxis",
         "geo": "geo",
         "hovertemplate": "STATE=%{location}<br>growth=%{z}<extra></extra>",
         "locationmode": "USA-states",
         "locations": [
          "AK",
          "AL",
          "AR",
          "AZ",
          "CA",
          "CO",
          "CT",
          "DC",
          "DE",
          "FL",
          "GA",
          "HI",
          "IA",
          "ID",
          "IL",
          "IN",
          "KS",
          "KY",
          "LA",
          "MA",
          "MD",
          "ME",
          "MI",
          "MN",
          "MO",
          "MS",
          "MT",
          "NC",
          "ND",
          "NE",
          "NH",
          "NJ",
          "NM",
          "NV",
          "NY",
          "OH",
          "OK",
          "OR",
          "PA",
          "PR",
          "RI",
          "SC",
          "SD",
          "TN",
          "TX",
          "UT",
          "VA",
          "VT",
          "WA",
          "WI",
          "WV",
          "WY"
         ],
         "name": "",
         "type": "choropleth",
         "z": [
          -25,
          -39.129999999999995,
          -18.32,
          -24.51,
          -26.450000000000003,
          -11.72,
          -14.69,
          -33.33,
          -31.25,
          -23.31,
          -22.53,
          0,
          -32.910000000000004,
          -12.82,
          -32.73,
          -33.6,
          -27.62,
          -23.86,
          -21.67,
          -15.770000000000001,
          -22.55,
          -12.24,
          -29.62,
          -20.27,
          -41.89,
          -29.080000000000002,
          22.220000000000002,
          -20.47,
          -30.769999999999996,
          -54.08,
          -25.86,
          -32.37,
          -20.369999999999997,
          -15.18,
          -23.36,
          -19.67,
          -8.92,
          -38.68,
          -29.189999999999998,
          -51.790000000000006,
          -4.760000000000001,
          -4.92,
          -43.59,
          -22.12,
          -24.88,
          -25.330000000000002,
          -7.249999999999999,
          12.5,
          -27.029999999999998,
          -22.48,
          -14.14,
          -14.29
         ]
        }
       ],
       "layout": {
        "coloraxis": {
         "colorbar": {
          "title": {
           "text": "growth"
          }
         },
         "colorscale": [
          [
           0,
           "rgb(0,0,0)"
          ],
          [
           0.3333333333333333,
           "rgb(230,0,0)"
          ],
          [
           0.6666666666666666,
           "rgb(255,210,0)"
          ],
          [
           1,
           "rgb(255,255,255)"
          ]
         ]
        },
        "geo": {
         "center": {},
         "domain": {
          "x": [
           0,
           1
          ],
          "y": [
           0,
           1
          ]
         },
         "scope": "usa"
        },
        "legend": {
         "tracegroupgap": 0
        },
        "template": {
         "data": {
          "bar": [
           {
            "error_x": {
             "color": "#2a3f5f"
            },
            "error_y": {
             "color": "#2a3f5f"
            },
            "marker": {
             "line": {
              "color": "#E5ECF6",
              "width": 0.5
             },
             "pattern": {
              "fillmode": "overlay",
              "size": 10,
              "solidity": 0.2
             }
            },
            "type": "bar"
           }
          ],
          "barpolar": [
           {
            "marker": {
             "line": {
              "color": "#E5ECF6",
              "width": 0.5
             },
             "pattern": {
              "fillmode": "overlay",
              "size": 10,
              "solidity": 0.2
             }
            },
            "type": "barpolar"
           }
          ],
          "carpet": [
           {
            "aaxis": {
             "endlinecolor": "#2a3f5f",
             "gridcolor": "white",
             "linecolor": "white",
             "minorgridcolor": "white",
             "startlinecolor": "#2a3f5f"
            },
            "baxis": {
             "endlinecolor": "#2a3f5f",
             "gridcolor": "white",
             "linecolor": "white",
             "minorgridcolor": "white",
             "startlinecolor": "#2a3f5f"
            },
            "type": "carpet"
           }
          ],
          "choropleth": [
           {
            "colorbar": {
             "outlinewidth": 0,
             "ticks": ""
            },
            "type": "choropleth"
           }
          ],
          "contour": [
           {
            "colorbar": {
             "outlinewidth": 0,
             "ticks": ""
            },
            "colorscale": [
             [
              0,
              "#0d0887"
             ],
             [
              0.1111111111111111,
              "#46039f"
             ],
             [
              0.2222222222222222,
              "#7201a8"
             ],
             [
              0.3333333333333333,
              "#9c179e"
             ],
             [
              0.4444444444444444,
              "#bd3786"
             ],
             [
              0.5555555555555556,
              "#d8576b"
             ],
             [
              0.6666666666666666,
              "#ed7953"
             ],
             [
              0.7777777777777778,
              "#fb9f3a"
             ],
             [
              0.8888888888888888,
              "#fdca26"
             ],
             [
              1,
              "#f0f921"
             ]
            ],
            "type": "contour"
           }
          ],
          "contourcarpet": [
           {
            "colorbar": {
             "outlinewidth": 0,
             "ticks": ""
            },
            "type": "contourcarpet"
           }
          ],
          "heatmap": [
           {
            "colorbar": {
             "outlinewidth": 0,
             "ticks": ""
            },
            "colorscale": [
             [
              0,
              "#0d0887"
             ],
             [
              0.1111111111111111,
              "#46039f"
             ],
             [
              0.2222222222222222,
              "#7201a8"
             ],
             [
              0.3333333333333333,
              "#9c179e"
             ],
             [
              0.4444444444444444,
              "#bd3786"
             ],
             [
              0.5555555555555556,
              "#d8576b"
             ],
             [
              0.6666666666666666,
              "#ed7953"
             ],
             [
              0.7777777777777778,
              "#fb9f3a"
             ],
             [
              0.8888888888888888,
              "#fdca26"
             ],
             [
              1,
              "#f0f921"
             ]
            ],
            "type": "heatmap"
           }
          ],
          "heatmapgl": [
           {
            "colorbar": {
             "outlinewidth": 0,
             "ticks": ""
            },
            "colorscale": [
             [
              0,
              "#0d0887"
             ],
             [
              0.1111111111111111,
              "#46039f"
             ],
             [
              0.2222222222222222,
              "#7201a8"
             ],
             [
              0.3333333333333333,
              "#9c179e"
             ],
             [
              0.4444444444444444,
              "#bd3786"
             ],
             [
              0.5555555555555556,
              "#d8576b"
             ],
             [
              0.6666666666666666,
              "#ed7953"
             ],
             [
              0.7777777777777778,
              "#fb9f3a"
             ],
             [
              0.8888888888888888,
              "#fdca26"
             ],
             [
              1,
              "#f0f921"
             ]
            ],
            "type": "heatmapgl"
           }
          ],
          "histogram": [
           {
            "marker": {
             "pattern": {
              "fillmode": "overlay",
              "size": 10,
              "solidity": 0.2
             }
            },
            "type": "histogram"
           }
          ],
          "histogram2d": [
           {
            "colorbar": {
             "outlinewidth": 0,
             "ticks": ""
            },
            "colorscale": [
             [
              0,
              "#0d0887"
             ],
             [
              0.1111111111111111,
              "#46039f"
             ],
             [
              0.2222222222222222,
              "#7201a8"
             ],
             [
              0.3333333333333333,
              "#9c179e"
             ],
             [
              0.4444444444444444,
              "#bd3786"
             ],
             [
              0.5555555555555556,
              "#d8576b"
             ],
             [
              0.6666666666666666,
              "#ed7953"
             ],
             [
              0.7777777777777778,
              "#fb9f3a"
             ],
             [
              0.8888888888888888,
              "#fdca26"
             ],
             [
              1,
              "#f0f921"
             ]
            ],
            "type": "histogram2d"
           }
          ],
          "histogram2dcontour": [
           {
            "colorbar": {
             "outlinewidth": 0,
             "ticks": ""
            },
            "colorscale": [
             [
              0,
              "#0d0887"
             ],
             [
              0.1111111111111111,
              "#46039f"
             ],
             [
              0.2222222222222222,
              "#7201a8"
             ],
             [
              0.3333333333333333,
              "#9c179e"
             ],
             [
              0.4444444444444444,
              "#bd3786"
             ],
             [
              0.5555555555555556,
              "#d8576b"
             ],
             [
              0.6666666666666666,
              "#ed7953"
             ],
             [
              0.7777777777777778,
              "#fb9f3a"
             ],
             [
              0.8888888888888888,
              "#fdca26"
             ],
             [
              1,
              "#f0f921"
             ]
            ],
            "type": "histogram2dcontour"
           }
          ],
          "mesh3d": [
           {
            "colorbar": {
             "outlinewidth": 0,
             "ticks": ""
            },
            "type": "mesh3d"
           }
          ],
          "parcoords": [
           {
            "line": {
             "colorbar": {
              "outlinewidth": 0,
              "ticks": ""
             }
            },
            "type": "parcoords"
           }
          ],
          "pie": [
           {
            "automargin": true,
            "type": "pie"
           }
          ],
          "scatter": [
           {
            "fillpattern": {
             "fillmode": "overlay",
             "size": 10,
             "solidity": 0.2
            },
            "type": "scatter"
           }
          ],
          "scatter3d": [
           {
            "line": {
             "colorbar": {
              "outlinewidth": 0,
              "ticks": ""
             }
            },
            "marker": {
             "colorbar": {
              "outlinewidth": 0,
              "ticks": ""
             }
            },
            "type": "scatter3d"
           }
          ],
          "scattercarpet": [
           {
            "marker": {
             "colorbar": {
              "outlinewidth": 0,
              "ticks": ""
             }
            },
            "type": "scattercarpet"
           }
          ],
          "scattergeo": [
           {
            "marker": {
             "colorbar": {
              "outlinewidth": 0,
              "ticks": ""
             }
            },
            "type": "scattergeo"
           }
          ],
          "scattergl": [
           {
            "marker": {
             "colorbar": {
              "outlinewidth": 0,
              "ticks": ""
             }
            },
            "type": "scattergl"
           }
          ],
          "scattermapbox": [
           {
            "marker": {
             "colorbar": {
              "outlinewidth": 0,
              "ticks": ""
             }
            },
            "type": "scattermapbox"
           }
          ],
          "scatterpolar": [
           {
            "marker": {
             "colorbar": {
              "outlinewidth": 0,
              "ticks": ""
             }
            },
            "type": "scatterpolar"
           }
          ],
          "scatterpolargl": [
           {
            "marker": {
             "colorbar": {
              "outlinewidth": 0,
              "ticks": ""
             }
            },
            "type": "scatterpolargl"
           }
          ],
          "scatterternary": [
           {
            "marker": {
             "colorbar": {
              "outlinewidth": 0,
              "ticks": ""
             }
            },
            "type": "scatterternary"
           }
          ],
          "surface": [
           {
            "colorbar": {
             "outlinewidth": 0,
             "ticks": ""
            },
            "colorscale": [
             [
              0,
              "#0d0887"
             ],
             [
              0.1111111111111111,
              "#46039f"
             ],
             [
              0.2222222222222222,
              "#7201a8"
             ],
             [
              0.3333333333333333,
              "#9c179e"
             ],
             [
              0.4444444444444444,
              "#bd3786"
             ],
             [
              0.5555555555555556,
              "#d8576b"
             ],
             [
              0.6666666666666666,
              "#ed7953"
             ],
             [
              0.7777777777777778,
              "#fb9f3a"
             ],
             [
              0.8888888888888888,
              "#fdca26"
             ],
             [
              1,
              "#f0f921"
             ]
            ],
            "type": "surface"
           }
          ],
          "table": [
           {
            "cells": {
             "fill": {
              "color": "#EBF0F8"
             },
             "line": {
              "color": "white"
             }
            },
            "header": {
             "fill": {
              "color": "#C8D4E3"
             },
             "line": {
              "color": "white"
             }
            },
            "type": "table"
           }
          ]
         },
         "layout": {
          "annotationdefaults": {
           "arrowcolor": "#2a3f5f",
           "arrowhead": 0,
           "arrowwidth": 1
          },
          "autotypenumbers": "strict",
          "coloraxis": {
           "colorbar": {
            "outlinewidth": 0,
            "ticks": ""
           }
          },
          "colorscale": {
           "diverging": [
            [
             0,
             "#8e0152"
            ],
            [
             0.1,
             "#c51b7d"
            ],
            [
             0.2,
             "#de77ae"
            ],
            [
             0.3,
             "#f1b6da"
            ],
            [
             0.4,
             "#fde0ef"
            ],
            [
             0.5,
             "#f7f7f7"
            ],
            [
             0.6,
             "#e6f5d0"
            ],
            [
             0.7,
             "#b8e186"
            ],
            [
             0.8,
             "#7fbc41"
            ],
            [
             0.9,
             "#4d9221"
            ],
            [
             1,
             "#276419"
            ]
           ],
           "sequential": [
            [
             0,
             "#0d0887"
            ],
            [
             0.1111111111111111,
             "#46039f"
            ],
            [
             0.2222222222222222,
             "#7201a8"
            ],
            [
             0.3333333333333333,
             "#9c179e"
            ],
            [
             0.4444444444444444,
             "#bd3786"
            ],
            [
             0.5555555555555556,
             "#d8576b"
            ],
            [
             0.6666666666666666,
             "#ed7953"
            ],
            [
             0.7777777777777778,
             "#fb9f3a"
            ],
            [
             0.8888888888888888,
             "#fdca26"
            ],
            [
             1,
             "#f0f921"
            ]
           ],
           "sequentialminus": [
            [
             0,
             "#0d0887"
            ],
            [
             0.1111111111111111,
             "#46039f"
            ],
            [
             0.2222222222222222,
             "#7201a8"
            ],
            [
             0.3333333333333333,
             "#9c179e"
            ],
            [
             0.4444444444444444,
             "#bd3786"
            ],
            [
             0.5555555555555556,
             "#d8576b"
            ],
            [
             0.6666666666666666,
             "#ed7953"
            ],
            [
             0.7777777777777778,
             "#fb9f3a"
            ],
            [
             0.8888888888888888,
             "#fdca26"
            ],
            [
             1,
             "#f0f921"
            ]
           ]
          },
          "colorway": [
           "#636efa",
           "#EF553B",
           "#00cc96",
           "#ab63fa",
           "#FFA15A",
           "#19d3f3",
           "#FF6692",
           "#B6E880",
           "#FF97FF",
           "#FECB52"
          ],
          "font": {
           "color": "#2a3f5f"
          },
          "geo": {
           "bgcolor": "white",
           "lakecolor": "white",
           "landcolor": "#E5ECF6",
           "showlakes": true,
           "showland": true,
           "subunitcolor": "white"
          },
          "hoverlabel": {
           "align": "left"
          },
          "hovermode": "closest",
          "mapbox": {
           "style": "light"
          },
          "paper_bgcolor": "white",
          "plot_bgcolor": "#E5ECF6",
          "polar": {
           "angularaxis": {
            "gridcolor": "white",
            "linecolor": "white",
            "ticks": ""
           },
           "bgcolor": "#E5ECF6",
           "radialaxis": {
            "gridcolor": "white",
            "linecolor": "white",
            "ticks": ""
           }
          },
          "scene": {
           "xaxis": {
            "backgroundcolor": "#E5ECF6",
            "gridcolor": "white",
            "gridwidth": 2,
            "linecolor": "white",
            "showbackground": true,
            "ticks": "",
            "zerolinecolor": "white"
           },
           "yaxis": {
            "backgroundcolor": "#E5ECF6",
            "gridcolor": "white",
            "gridwidth": 2,
            "linecolor": "white",
            "showbackground": true,
            "ticks": "",
            "zerolinecolor": "white"
           },
           "zaxis": {
            "backgroundcolor": "#E5ECF6",
            "gridcolor": "white",
            "gridwidth": 2,
            "linecolor": "white",
            "showbackground": true,
            "ticks": "",
            "zerolinecolor": "white"
           }
          },
          "shapedefaults": {
           "line": {
            "color": "#2a3f5f"
           }
          },
          "ternary": {
           "aaxis": {
            "gridcolor": "white",
            "linecolor": "white",
            "ticks": ""
           },
           "baxis": {
            "gridcolor": "white",
            "linecolor": "white",
            "ticks": ""
           },
           "bgcolor": "#E5ECF6",
           "caxis": {
            "gridcolor": "white",
            "linecolor": "white",
            "ticks": ""
           }
          },
          "title": {
           "x": 0.05
          },
          "xaxis": {
           "automargin": true,
           "gridcolor": "white",
           "linecolor": "white",
           "ticks": "",
           "title": {
            "standoff": 15
           },
           "zerolinecolor": "white",
           "zerolinewidth": 2
          },
          "yaxis": {
           "automargin": true,
           "gridcolor": "white",
           "linecolor": "white",
           "ticks": "",
           "title": {
            "standoff": 15
           },
           "zerolinecolor": "white",
           "zerolinewidth": 2
          }
         }
        },
        "title": {
         "text": "2023 to 2024 Percentage Growth by State"
        }
       }
      }
     },
     "metadata": {},
     "output_type": "display_data"
    }
   ],
   "source": [
    "# Reset index for Plotly visualization\n",
    "growth_2020_to_2021 = growth_2020_to_2021.reset_index().rename(columns={2021: \"growth\"})\n",
    "growth_2021_to_2022 = growth_2021_to_2022.reset_index().rename(columns={2022: \"growth\"})\n",
    "growth_2022_to_2023 = growth_2022_to_2023.reset_index().rename(columns={2023: \"growth\"})\n",
    "growth_2023_to_2024 = growth_2023_to_2024.reset_index().rename(columns={2024: \"growth\"})\n",
    "\n",
    "# Visualize 2022 to 2023 Growth\n",
    "fig1 = px.choropleth(\n",
    "    growth_2022_to_2023,\n",
    "    locations=\"STATE\",  # State abbreviations\n",
    "    locationmode=\"USA-states\",  # Use US state mode\n",
    "    color=\"growth\",\n",
    "    scope=\"usa\",  # Focus on USA\n",
    "    color_continuous_scale=\"plotly3\",\n",
    "    title=\"2022 to 2023 Percentage Growth by State\",\n",
    ")\n",
    "\n",
    "fig1.show()\n",
    "\n",
    "# Visualize 2023 to 2024 Growth\n",
    "fig2 = px.choropleth(\n",
    "    growth_2023_to_2024,\n",
    "    locations=\"STATE\",\n",
    "    locationmode=\"USA-states\",\n",
    "    color=\"growth\",\n",
    "    scope=\"usa\",\n",
    "    color_continuous_scale=\"hot\",\n",
    "    title=\"2023 to 2024 Percentage Growth by State\",\n",
    ")\n",
    "\n",
    "fig2.show()\n",
    "\n",
    "# Visualize 2022 to 2023 Growth\n",
    "fig1 = px.choropleth(\n",
    "    growth_2022_to_2023,\n",
    "    locations=\"STATE\",  # State abbreviations\n",
    "    locationmode=\"USA-states\",  # Use US state mode\n",
    "    color=\"growth\",\n",
    "    scope=\"usa\",  # Focus on USA\n",
    "    color_continuous_scale=\"plotly3\",\n",
    "    title=\"2022 to 2023 Percentage Growth by State\",\n",
    ")\n",
    "\n",
    "fig1.show()\n",
    "\n",
    "# Visualize 2023 to 2024 Growth\n",
    "fig2 = px.choropleth(\n",
    "    growth_2023_to_2024,\n",
    "    locations=\"STATE\",\n",
    "    locationmode=\"USA-states\",\n",
    "    color=\"growth\",\n",
    "    scope=\"usa\",\n",
    "    color_continuous_scale=\"hot\",\n",
    "    title=\"2023 to 2024 Percentage Growth by State\",\n",
    ")\n",
    "\n",
    "fig2.show()\n",
    "\n",
    "\n"
   ]
  },
  {
   "cell_type": "code",
   "execution_count": 114,
   "metadata": {},
   "outputs": [
    {
     "name": "stdout",
     "output_type": "stream",
     "text": [
      "100000\n",
      "17603\n"
     ]
    },
    {
     "data": {
      "text/plain": [
       "91"
      ]
     },
     "execution_count": 114,
     "metadata": {},
     "output_type": "execute_result"
    }
   ],
   "source": [
    "print(df_users[\"ID\"].nunique())\n",
    "print(df_transactions[~df_transactions[\"USER_ID\"].isin(df_users[\"ID\"])][\"USER_ID\"].nunique())\n",
    "df_transactions[df_transactions[\"USER_ID\"].isin(df_users[\"ID\"])][\"USER_ID\"].nunique()"
   ]
  },
  {
   "cell_type": "code",
   "execution_count": 115,
   "metadata": {},
   "outputs": [
    {
     "name": "stdout",
     "output_type": "stream",
     "text": [
      "841342\n",
      "4465\n"
     ]
    },
    {
     "data": {
      "text/plain": [
       "6562"
      ]
     },
     "execution_count": 115,
     "metadata": {},
     "output_type": "execute_result"
    }
   ],
   "source": [
    "print(df_products[\"BARCODE\"].nunique())\n",
    "print(df_transactions[~df_transactions[\"BARCODE\"].isin(df_products[\"BARCODE\"])][\"BARCODE\"].nunique())\n",
    "df_transactions[df_transactions[\"BARCODE\"].isin(df_products[\"BARCODE\"])][\"BARCODE\"].nunique()"
   ]
  },
  {
   "cell_type": "code",
   "execution_count": null,
   "metadata": {},
   "outputs": [],
   "source": [
    "\n"
   ]
  },
  {
   "cell_type": "code",
   "execution_count": null,
   "metadata": {},
   "outputs": [],
   "source": []
  },
  {
   "cell_type": "code",
   "execution_count": null,
   "metadata": {},
   "outputs": [],
   "source": []
  },
  {
   "cell_type": "code",
   "execution_count": null,
   "metadata": {},
   "outputs": [],
   "source": []
  },
  {
   "attachments": {},
   "cell_type": "markdown",
   "metadata": {},
   "source": [
    "### Fields difficult to understand / need more explaination"
   ]
  },
  {
   "attachments": {},
   "cell_type": "markdown",
   "metadata": {},
   "source": [
    "##### For Product Table\n",
    "\n",
    "-   More information on Barcode, how is it generated, is it unique for each product ? there seem to be multi-barcode scenarios for the same product\n",
    "-   Are Categories hierarchical or independent, they seem hierarchical but some have lot of missing data\n",
    "-   In depth understanding of each column in table and the reason/ business implications behind why only these were extracted will help in better understanding how to best model data for valuable insights"
   ]
  },
  {
   "attachments": {},
   "cell_type": "markdown",
   "metadata": {},
   "source": [
    "##### For Transaction Table\n",
    "\n",
    "-   How are user_id, recipt_id and barcode corelated, as per my understanding one user can have multiple recipt_id and one recipt_id can have multiple barcode, also barcode is not unique to each recipt_id\n",
    "-   Why does scan date have time on it and purchase date doesnt, also some purchase date after scan date, how is it possible\n",
    "-   Store name seems to be same even if it is a chain store, why are location not being tracked ?\n",
    "-   Unclear on units being represented in Final sale and Final Quantity, is Final sale dollar amount inluding tax and discounts ? for quantity, are they per unit or packages ?\n",
    "-   In depth understanding of each column in table and the reason/ business implications behind why only these were extracted will help in better understanding how to best model data for valuable insights"
   ]
  },
  {
   "attachments": {},
   "cell_type": "markdown",
   "metadata": {},
   "source": [
    "##### For User Table\n",
    "\n",
    "-   Create_date vs birth_date, it seems one corresponds to when account was created and another when the user was born, need clarification on this as the data shows there are users less than 13 years of age\n",
    "-   How are Languages collected, there seemed to only two options, are they fixed?\n",
    "-   What all options are present for state and Gender column ?"
   ]
  },
  {
   "attachments": {},
   "cell_type": "markdown",
   "metadata": {},
   "source": [
    "##### Overall\n",
    "-   Need more insights on how the columns are defined as in what sort of values are expected for each column and why are they collected as such with respect to business objective"
   ]
  },
  {
   "cell_type": "markdown",
   "metadata": {},
   "source": []
  },
  {
   "cell_type": "code",
   "execution_count": null,
   "metadata": {},
   "outputs": [],
   "source": []
  }
 ],
 "metadata": {
  "kernelspec": {
   "display_name": "auto-nlp",
   "language": "python",
   "name": "python3"
  },
  "language_info": {
   "codemirror_mode": {
    "name": "ipython",
    "version": 3
   },
   "file_extension": ".py",
   "mimetype": "text/x-python",
   "name": "python",
   "nbconvert_exporter": "python",
   "pygments_lexer": "ipython3",
   "version": "3.9.16"
  },
  "orig_nbformat": 4,
  "vscode": {
   "interpreter": {
    "hash": "b714c4456b13a5cbad5c7f3da2bfca34e7b73e9e9e1ae5daa8706f9fa19c4955"
   }
  }
 },
 "nbformat": 4,
 "nbformat_minor": 2
}
